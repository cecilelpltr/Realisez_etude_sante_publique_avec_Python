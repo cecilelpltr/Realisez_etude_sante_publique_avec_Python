{
 "cells": [
  {
   "cell_type": "markdown",
   "id": "ec15fcb4",
   "metadata": {},
   "source": [
    "# Étude de santé publique : Food and Agriculture Organization of the United Nations (FAO) \n",
    "\n",
    "Lien vers le site et les données de l'étude : [FAO.org](https://www.fao.org/home/fr). Lien vers le [lexique de données](https://s3.eu-west-1.amazonaws.com/course.oc-static.com/projects/DAN_V2_P4/Lexique+des+données.pdf).\n",
    "\n",
    "Projet OC data analyst n°4 // Data analyst : Cécile Lepeltier\n",
    "\n",
    "## P1 : Analyse des données & mise en forme des données\n",
    "\n",
    "### Importation des packages"
   ]
  },
  {
   "cell_type": "code",
   "execution_count": null,
   "id": "045aa113",
   "metadata": {},
   "outputs": [],
   "source": [
    "import pandas as pd"
   ]
  },
  {
   "cell_type": "markdown",
   "id": "0cd1c000",
   "metadata": {},
   "source": [
    "Pandas est une bibliothèque open-source permettant la manipulation et l’analyse de données de manière simple et intuitive en Python."
   ]
  },
  {
   "cell_type": "code",
   "execution_count": null,
   "id": "c584adbd",
   "metadata": {},
   "outputs": [],
   "source": [
    "import numpy as np"
   ]
  },
  {
   "cell_type": "markdown",
   "id": "c806a8cf",
   "metadata": {},
   "source": [
    "La bibliothèque NumPy permet d’effectuer des calculs numériques avec Python. Elle introduit une gestion facilitée des tableaux de nombres."
   ]
  },
  {
   "cell_type": "code",
   "execution_count": null,
   "id": "bdbc06eb",
   "metadata": {},
   "outputs": [],
   "source": [
    "import matplotlib.pyplot as plt"
   ]
  },
  {
   "cell_type": "markdown",
   "id": "b8e122c7",
   "metadata": {},
   "source": [
    "Le module pyplot de matplotlib est l’un de ses principaux modules. Il regroupe un grand nombre de fonctions qui servent à créer des graphiques et les personnaliser (travailler sur les axes, le type de graphique, sa forme et même rajouter du texte)."
   ]
  },
  {
   "cell_type": "code",
   "execution_count": null,
   "id": "25f7c420",
   "metadata": {},
   "outputs": [],
   "source": [
    "import matplotlib.cm as cm"
   ]
  },
  {
   "cell_type": "markdown",
   "id": "c4ae8cda",
   "metadata": {},
   "source": [
    "Le module cm de matplotlib permet d'inmporter de nouvelles couleurs."
   ]
  },
  {
   "cell_type": "code",
   "execution_count": null,
   "id": "4f0cde10",
   "metadata": {},
   "outputs": [],
   "source": [
    "import seaborn as sns"
   ]
  },
  {
   "cell_type": "markdown",
   "id": "4ec6e5ab",
   "metadata": {},
   "source": [
    "Seaborn est une bibliothèque permettant de créer des graphiques statistiques en Python. Elle est basée sur Matplotlib, et s’intègre avec les structures Pandas."
   ]
  },
  {
   "cell_type": "markdown",
   "id": "48a022d5",
   "metadata": {},
   "source": [
    "### Importation des données avec la fonction read_csv du package pandas"
   ]
  },
  {
   "cell_type": "code",
   "execution_count": 2,
   "id": "cee4d519",
   "metadata": {},
   "outputs": [],
   "source": [
    "aide_alim = pd.read_csv('aide_alimentaire.csv')\n",
    "dispo_alim = pd.read_csv('dispo_alimentaire.csv')\n",
    "population = pd.read_csv('population.csv')\n",
    "sous_nutrition = pd.read_csv('sous_nutrition.csv')"
   ]
  },
  {
   "cell_type": "markdown",
   "id": "2f33e312",
   "metadata": {},
   "source": [
    "### Mise en forme des données\n",
    "\n",
    "J'analyse les tables à l'aide des fonctions .head() & .info(), cela permet :\n",
    "- de vérifier que l'importation s'est bien passée\n",
    "- d'avoir un apperçu rapide de ce à quoi ressemble notre dataframe\n",
    "- de vérifier les types de chaque colonne attribués par pandas lors de l'importation."
   ]
  },
  {
   "cell_type": "markdown",
   "id": "46835253",
   "metadata": {},
   "source": [
    "#### Mise en forme de la table aide_alimentaire.csv (aide_alim)"
   ]
  },
  {
   "cell_type": "markdown",
   "id": "92fc544a",
   "metadata": {},
   "source": [
    "Analyse de la table."
   ]
  },
  {
   "cell_type": "code",
   "execution_count": 164,
   "id": "ec7aba82",
   "metadata": {},
   "outputs": [
    {
     "name": "stdout",
     "output_type": "stream",
     "text": [
      "<class 'pandas.core.frame.DataFrame'>\n",
      "RangeIndex: 1475 entries, 0 to 1474\n",
      "Data columns (total 4 columns):\n",
      " #   Column        Non-Null Count  Dtype \n",
      "---  ------        --------------  ----- \n",
      " 0   pays_benef    1475 non-null   object\n",
      " 1   annee_aide    1475 non-null   int64 \n",
      " 2   produit_aide  1475 non-null   object\n",
      " 3   valeur_aide   1475 non-null   int64 \n",
      "dtypes: int64(2), object(2)\n",
      "memory usage: 46.2+ KB\n"
     ]
    }
   ],
   "source": [
    "aide_alim.info()"
   ]
  },
  {
   "cell_type": "markdown",
   "id": "6e77c932",
   "metadata": {},
   "source": [
    "Je renomme les colonnes pour faciliter le travail dans la table. (accents, espaces..)"
   ]
  },
  {
   "cell_type": "code",
   "execution_count": 4,
   "id": "1562f92d",
   "metadata": {},
   "outputs": [],
   "source": [
    "aide_alim.rename(columns={\"Pays bénéficiaire\" :\"pays_benef\"}, inplace=True)\n",
    "aide_alim.rename(columns={\"Produit\" :\"produit_aide\"}, inplace=True)\n",
    "aide_alim.rename(columns={\"Valeur\" :\"valeur_aide\"}, inplace=True)\n",
    "aide_alim.rename(columns={\"Année\" :\"annee_aide\"}, inplace=True)"
   ]
  },
  {
   "cell_type": "markdown",
   "id": "7c22ba27",
   "metadata": {},
   "source": [
    "Je remets les valeurs en forme, transformation des données en tonnes (cf document lexique de données > x1000)"
   ]
  },
  {
   "cell_type": "code",
   "execution_count": 5,
   "id": "60c2d520",
   "metadata": {},
   "outputs": [],
   "source": [
    "aide_alim['valeur_aide']= aide_alim['valeur_aide']*1000"
   ]
  },
  {
   "cell_type": "markdown",
   "id": "00b60d15",
   "metadata": {},
   "source": [
    "Je vérifie le résultat."
   ]
  },
  {
   "cell_type": "code",
   "execution_count": 165,
   "id": "a6f6f9db",
   "metadata": {},
   "outputs": [
    {
     "data": {
      "text/html": [
       "<div>\n",
       "<style scoped>\n",
       "    .dataframe tbody tr th:only-of-type {\n",
       "        vertical-align: middle;\n",
       "    }\n",
       "\n",
       "    .dataframe tbody tr th {\n",
       "        vertical-align: top;\n",
       "    }\n",
       "\n",
       "    .dataframe thead th {\n",
       "        text-align: right;\n",
       "    }\n",
       "</style>\n",
       "<table border=\"1\" class=\"dataframe\">\n",
       "  <thead>\n",
       "    <tr style=\"text-align: right;\">\n",
       "      <th></th>\n",
       "      <th>pays_benef</th>\n",
       "      <th>annee_aide</th>\n",
       "      <th>produit_aide</th>\n",
       "      <th>valeur_aide</th>\n",
       "    </tr>\n",
       "  </thead>\n",
       "  <tbody>\n",
       "    <tr>\n",
       "      <th>0</th>\n",
       "      <td>Afghanistan</td>\n",
       "      <td>2013</td>\n",
       "      <td>Autres non-céréales</td>\n",
       "      <td>682000</td>\n",
       "    </tr>\n",
       "    <tr>\n",
       "      <th>1</th>\n",
       "      <td>Afghanistan</td>\n",
       "      <td>2014</td>\n",
       "      <td>Autres non-céréales</td>\n",
       "      <td>335000</td>\n",
       "    </tr>\n",
       "    <tr>\n",
       "      <th>2</th>\n",
       "      <td>Afghanistan</td>\n",
       "      <td>2013</td>\n",
       "      <td>Blé et Farin</td>\n",
       "      <td>39224000</td>\n",
       "    </tr>\n",
       "    <tr>\n",
       "      <th>3</th>\n",
       "      <td>Afghanistan</td>\n",
       "      <td>2014</td>\n",
       "      <td>Blé et Farin</td>\n",
       "      <td>15160000</td>\n",
       "    </tr>\n",
       "    <tr>\n",
       "      <th>4</th>\n",
       "      <td>Afghanistan</td>\n",
       "      <td>2013</td>\n",
       "      <td>Céréales</td>\n",
       "      <td>40504000</td>\n",
       "    </tr>\n",
       "  </tbody>\n",
       "</table>\n",
       "</div>"
      ],
      "text/plain": [
       "    pays_benef  annee_aide         produit_aide  valeur_aide\n",
       "0  Afghanistan        2013  Autres non-céréales       682000\n",
       "1  Afghanistan        2014  Autres non-céréales       335000\n",
       "2  Afghanistan        2013         Blé et Farin     39224000\n",
       "3  Afghanistan        2014         Blé et Farin     15160000\n",
       "4  Afghanistan        2013             Céréales     40504000"
      ]
     },
     "execution_count": 165,
     "metadata": {},
     "output_type": "execute_result"
    }
   ],
   "source": [
    "aide_alim.head()"
   ]
  },
  {
   "cell_type": "code",
   "execution_count": 166,
   "id": "a684a5e6",
   "metadata": {},
   "outputs": [
    {
     "name": "stdout",
     "output_type": "stream",
     "text": [
      "<class 'pandas.core.frame.DataFrame'>\n",
      "RangeIndex: 1475 entries, 0 to 1474\n",
      "Data columns (total 4 columns):\n",
      " #   Column        Non-Null Count  Dtype \n",
      "---  ------        --------------  ----- \n",
      " 0   pays_benef    1475 non-null   object\n",
      " 1   annee_aide    1475 non-null   int64 \n",
      " 2   produit_aide  1475 non-null   object\n",
      " 3   valeur_aide   1475 non-null   int64 \n",
      "dtypes: int64(2), object(2)\n",
      "memory usage: 46.2+ KB\n"
     ]
    }
   ],
   "source": [
    "aide_alim.info()"
   ]
  },
  {
   "cell_type": "markdown",
   "id": "1374a4c9",
   "metadata": {},
   "source": [
    "#### 3.2 Mise en forme de la table dispo_alimentaire.csv (dispo_alim)"
   ]
  },
  {
   "cell_type": "markdown",
   "id": "4eb24528",
   "metadata": {},
   "source": [
    "Analyse de la table. "
   ]
  },
  {
   "cell_type": "code",
   "execution_count": 8,
   "id": "567b9eb7",
   "metadata": {},
   "outputs": [
    {
     "data": {
      "text/html": [
       "<div>\n",
       "<style scoped>\n",
       "    .dataframe tbody tr th:only-of-type {\n",
       "        vertical-align: middle;\n",
       "    }\n",
       "\n",
       "    .dataframe tbody tr th {\n",
       "        vertical-align: top;\n",
       "    }\n",
       "\n",
       "    .dataframe thead th {\n",
       "        text-align: right;\n",
       "    }\n",
       "</style>\n",
       "<table border=\"1\" class=\"dataframe\">\n",
       "  <thead>\n",
       "    <tr style=\"text-align: right;\">\n",
       "      <th></th>\n",
       "      <th>Zone</th>\n",
       "      <th>Produit</th>\n",
       "      <th>Origine</th>\n",
       "      <th>Aliments pour animaux</th>\n",
       "      <th>Autres Utilisations</th>\n",
       "      <th>Disponibilité alimentaire (Kcal/personne/jour)</th>\n",
       "      <th>Disponibilité alimentaire en quantité (kg/personne/an)</th>\n",
       "      <th>Disponibilité de matière grasse en quantité (g/personne/jour)</th>\n",
       "      <th>Disponibilité de protéines en quantité (g/personne/jour)</th>\n",
       "      <th>Disponibilité intérieure</th>\n",
       "      <th>Exportations - Quantité</th>\n",
       "      <th>Importations - Quantité</th>\n",
       "      <th>Nourriture</th>\n",
       "      <th>Pertes</th>\n",
       "      <th>Production</th>\n",
       "      <th>Semences</th>\n",
       "      <th>Traitement</th>\n",
       "      <th>Variation de stock</th>\n",
       "    </tr>\n",
       "  </thead>\n",
       "  <tbody>\n",
       "    <tr>\n",
       "      <th>0</th>\n",
       "      <td>Afghanistan</td>\n",
       "      <td>Abats Comestible</td>\n",
       "      <td>animale</td>\n",
       "      <td>NaN</td>\n",
       "      <td>NaN</td>\n",
       "      <td>5.0</td>\n",
       "      <td>1.72</td>\n",
       "      <td>0.20</td>\n",
       "      <td>0.77</td>\n",
       "      <td>53.0</td>\n",
       "      <td>NaN</td>\n",
       "      <td>NaN</td>\n",
       "      <td>53.0</td>\n",
       "      <td>NaN</td>\n",
       "      <td>53.0</td>\n",
       "      <td>NaN</td>\n",
       "      <td>NaN</td>\n",
       "      <td>NaN</td>\n",
       "    </tr>\n",
       "    <tr>\n",
       "      <th>1</th>\n",
       "      <td>Afghanistan</td>\n",
       "      <td>Agrumes, Autres</td>\n",
       "      <td>vegetale</td>\n",
       "      <td>NaN</td>\n",
       "      <td>NaN</td>\n",
       "      <td>1.0</td>\n",
       "      <td>1.29</td>\n",
       "      <td>0.01</td>\n",
       "      <td>0.02</td>\n",
       "      <td>41.0</td>\n",
       "      <td>2.0</td>\n",
       "      <td>40.0</td>\n",
       "      <td>39.0</td>\n",
       "      <td>2.0</td>\n",
       "      <td>3.0</td>\n",
       "      <td>NaN</td>\n",
       "      <td>NaN</td>\n",
       "      <td>NaN</td>\n",
       "    </tr>\n",
       "    <tr>\n",
       "      <th>2</th>\n",
       "      <td>Afghanistan</td>\n",
       "      <td>Aliments pour enfants</td>\n",
       "      <td>vegetale</td>\n",
       "      <td>NaN</td>\n",
       "      <td>NaN</td>\n",
       "      <td>1.0</td>\n",
       "      <td>0.06</td>\n",
       "      <td>0.01</td>\n",
       "      <td>0.03</td>\n",
       "      <td>2.0</td>\n",
       "      <td>NaN</td>\n",
       "      <td>2.0</td>\n",
       "      <td>2.0</td>\n",
       "      <td>NaN</td>\n",
       "      <td>NaN</td>\n",
       "      <td>NaN</td>\n",
       "      <td>NaN</td>\n",
       "      <td>NaN</td>\n",
       "    </tr>\n",
       "    <tr>\n",
       "      <th>3</th>\n",
       "      <td>Afghanistan</td>\n",
       "      <td>Ananas</td>\n",
       "      <td>vegetale</td>\n",
       "      <td>NaN</td>\n",
       "      <td>NaN</td>\n",
       "      <td>0.0</td>\n",
       "      <td>0.00</td>\n",
       "      <td>NaN</td>\n",
       "      <td>NaN</td>\n",
       "      <td>0.0</td>\n",
       "      <td>NaN</td>\n",
       "      <td>0.0</td>\n",
       "      <td>0.0</td>\n",
       "      <td>NaN</td>\n",
       "      <td>NaN</td>\n",
       "      <td>NaN</td>\n",
       "      <td>NaN</td>\n",
       "      <td>NaN</td>\n",
       "    </tr>\n",
       "    <tr>\n",
       "      <th>4</th>\n",
       "      <td>Afghanistan</td>\n",
       "      <td>Bananes</td>\n",
       "      <td>vegetale</td>\n",
       "      <td>NaN</td>\n",
       "      <td>NaN</td>\n",
       "      <td>4.0</td>\n",
       "      <td>2.70</td>\n",
       "      <td>0.02</td>\n",
       "      <td>0.05</td>\n",
       "      <td>82.0</td>\n",
       "      <td>NaN</td>\n",
       "      <td>82.0</td>\n",
       "      <td>82.0</td>\n",
       "      <td>NaN</td>\n",
       "      <td>NaN</td>\n",
       "      <td>NaN</td>\n",
       "      <td>NaN</td>\n",
       "      <td>NaN</td>\n",
       "    </tr>\n",
       "  </tbody>\n",
       "</table>\n",
       "</div>"
      ],
      "text/plain": [
       "          Zone                Produit   Origine  Aliments pour animaux  \\\n",
       "0  Afghanistan       Abats Comestible   animale                    NaN   \n",
       "1  Afghanistan        Agrumes, Autres  vegetale                    NaN   \n",
       "2  Afghanistan  Aliments pour enfants  vegetale                    NaN   \n",
       "3  Afghanistan                 Ananas  vegetale                    NaN   \n",
       "4  Afghanistan                Bananes  vegetale                    NaN   \n",
       "\n",
       "   Autres Utilisations  Disponibilité alimentaire (Kcal/personne/jour)  \\\n",
       "0                  NaN                                             5.0   \n",
       "1                  NaN                                             1.0   \n",
       "2                  NaN                                             1.0   \n",
       "3                  NaN                                             0.0   \n",
       "4                  NaN                                             4.0   \n",
       "\n",
       "   Disponibilité alimentaire en quantité (kg/personne/an)  \\\n",
       "0                                               1.72        \n",
       "1                                               1.29        \n",
       "2                                               0.06        \n",
       "3                                               0.00        \n",
       "4                                               2.70        \n",
       "\n",
       "   Disponibilité de matière grasse en quantité (g/personne/jour)  \\\n",
       "0                                               0.20               \n",
       "1                                               0.01               \n",
       "2                                               0.01               \n",
       "3                                                NaN               \n",
       "4                                               0.02               \n",
       "\n",
       "   Disponibilité de protéines en quantité (g/personne/jour)  \\\n",
       "0                                               0.77          \n",
       "1                                               0.02          \n",
       "2                                               0.03          \n",
       "3                                                NaN          \n",
       "4                                               0.05          \n",
       "\n",
       "   Disponibilité intérieure  Exportations - Quantité  Importations - Quantité  \\\n",
       "0                      53.0                      NaN                      NaN   \n",
       "1                      41.0                      2.0                     40.0   \n",
       "2                       2.0                      NaN                      2.0   \n",
       "3                       0.0                      NaN                      0.0   \n",
       "4                      82.0                      NaN                     82.0   \n",
       "\n",
       "   Nourriture  Pertes  Production  Semences  Traitement  Variation de stock  \n",
       "0        53.0     NaN        53.0       NaN         NaN                 NaN  \n",
       "1        39.0     2.0         3.0       NaN         NaN                 NaN  \n",
       "2         2.0     NaN         NaN       NaN         NaN                 NaN  \n",
       "3         0.0     NaN         NaN       NaN         NaN                 NaN  \n",
       "4        82.0     NaN         NaN       NaN         NaN                 NaN  "
      ]
     },
     "execution_count": 8,
     "metadata": {},
     "output_type": "execute_result"
    }
   ],
   "source": [
    "dispo_alim.head()"
   ]
  },
  {
   "cell_type": "code",
   "execution_count": 9,
   "id": "d6372f77",
   "metadata": {},
   "outputs": [
    {
     "name": "stdout",
     "output_type": "stream",
     "text": [
      "<class 'pandas.core.frame.DataFrame'>\n",
      "RangeIndex: 15605 entries, 0 to 15604\n",
      "Data columns (total 18 columns):\n",
      " #   Column                                                         Non-Null Count  Dtype  \n",
      "---  ------                                                         --------------  -----  \n",
      " 0   Zone                                                           15605 non-null  object \n",
      " 1   Produit                                                        15605 non-null  object \n",
      " 2   Origine                                                        15605 non-null  object \n",
      " 3   Aliments pour animaux                                          2720 non-null   float64\n",
      " 4   Autres Utilisations                                            5496 non-null   float64\n",
      " 5   Disponibilité alimentaire (Kcal/personne/jour)                 14241 non-null  float64\n",
      " 6   Disponibilité alimentaire en quantité (kg/personne/an)         14015 non-null  float64\n",
      " 7   Disponibilité de matière grasse en quantité (g/personne/jour)  11794 non-null  float64\n",
      " 8   Disponibilité de protéines en quantité (g/personne/jour)       11561 non-null  float64\n",
      " 9   Disponibilité intérieure                                       15382 non-null  float64\n",
      " 10  Exportations - Quantité                                        12226 non-null  float64\n",
      " 11  Importations - Quantité                                        14852 non-null  float64\n",
      " 12  Nourriture                                                     14015 non-null  float64\n",
      " 13  Pertes                                                         4278 non-null   float64\n",
      " 14  Production                                                     9180 non-null   float64\n",
      " 15  Semences                                                       2091 non-null   float64\n",
      " 16  Traitement                                                     2292 non-null   float64\n",
      " 17  Variation de stock                                             6776 non-null   float64\n",
      "dtypes: float64(15), object(3)\n",
      "memory usage: 2.1+ MB\n"
     ]
    }
   ],
   "source": [
    "dispo_alim.info()"
   ]
  },
  {
   "cell_type": "markdown",
   "id": "6ecd207d",
   "metadata": {},
   "source": [
    "Je remplace les valeurs vide par 0 avec fillna() et je vérifie le résultat."
   ]
  },
  {
   "cell_type": "code",
   "execution_count": 10,
   "id": "513fb56e",
   "metadata": {},
   "outputs": [
    {
     "data": {
      "text/html": [
       "<div>\n",
       "<style scoped>\n",
       "    .dataframe tbody tr th:only-of-type {\n",
       "        vertical-align: middle;\n",
       "    }\n",
       "\n",
       "    .dataframe tbody tr th {\n",
       "        vertical-align: top;\n",
       "    }\n",
       "\n",
       "    .dataframe thead th {\n",
       "        text-align: right;\n",
       "    }\n",
       "</style>\n",
       "<table border=\"1\" class=\"dataframe\">\n",
       "  <thead>\n",
       "    <tr style=\"text-align: right;\">\n",
       "      <th></th>\n",
       "      <th>Zone</th>\n",
       "      <th>Produit</th>\n",
       "      <th>Origine</th>\n",
       "      <th>Aliments pour animaux</th>\n",
       "      <th>Autres Utilisations</th>\n",
       "      <th>Disponibilité alimentaire (Kcal/personne/jour)</th>\n",
       "      <th>Disponibilité alimentaire en quantité (kg/personne/an)</th>\n",
       "      <th>Disponibilité de matière grasse en quantité (g/personne/jour)</th>\n",
       "      <th>Disponibilité de protéines en quantité (g/personne/jour)</th>\n",
       "      <th>Disponibilité intérieure</th>\n",
       "      <th>Exportations - Quantité</th>\n",
       "      <th>Importations - Quantité</th>\n",
       "      <th>Nourriture</th>\n",
       "      <th>Pertes</th>\n",
       "      <th>Production</th>\n",
       "      <th>Semences</th>\n",
       "      <th>Traitement</th>\n",
       "      <th>Variation de stock</th>\n",
       "    </tr>\n",
       "  </thead>\n",
       "  <tbody>\n",
       "    <tr>\n",
       "      <th>0</th>\n",
       "      <td>Afghanistan</td>\n",
       "      <td>Abats Comestible</td>\n",
       "      <td>animale</td>\n",
       "      <td>0.0</td>\n",
       "      <td>0.0</td>\n",
       "      <td>5.0</td>\n",
       "      <td>1.72</td>\n",
       "      <td>0.20</td>\n",
       "      <td>0.77</td>\n",
       "      <td>53.0</td>\n",
       "      <td>0.0</td>\n",
       "      <td>0.0</td>\n",
       "      <td>53.0</td>\n",
       "      <td>0.0</td>\n",
       "      <td>53.0</td>\n",
       "      <td>0.0</td>\n",
       "      <td>0.0</td>\n",
       "      <td>0.0</td>\n",
       "    </tr>\n",
       "    <tr>\n",
       "      <th>1</th>\n",
       "      <td>Afghanistan</td>\n",
       "      <td>Agrumes, Autres</td>\n",
       "      <td>vegetale</td>\n",
       "      <td>0.0</td>\n",
       "      <td>0.0</td>\n",
       "      <td>1.0</td>\n",
       "      <td>1.29</td>\n",
       "      <td>0.01</td>\n",
       "      <td>0.02</td>\n",
       "      <td>41.0</td>\n",
       "      <td>2.0</td>\n",
       "      <td>40.0</td>\n",
       "      <td>39.0</td>\n",
       "      <td>2.0</td>\n",
       "      <td>3.0</td>\n",
       "      <td>0.0</td>\n",
       "      <td>0.0</td>\n",
       "      <td>0.0</td>\n",
       "    </tr>\n",
       "    <tr>\n",
       "      <th>2</th>\n",
       "      <td>Afghanistan</td>\n",
       "      <td>Aliments pour enfants</td>\n",
       "      <td>vegetale</td>\n",
       "      <td>0.0</td>\n",
       "      <td>0.0</td>\n",
       "      <td>1.0</td>\n",
       "      <td>0.06</td>\n",
       "      <td>0.01</td>\n",
       "      <td>0.03</td>\n",
       "      <td>2.0</td>\n",
       "      <td>0.0</td>\n",
       "      <td>2.0</td>\n",
       "      <td>2.0</td>\n",
       "      <td>0.0</td>\n",
       "      <td>0.0</td>\n",
       "      <td>0.0</td>\n",
       "      <td>0.0</td>\n",
       "      <td>0.0</td>\n",
       "    </tr>\n",
       "    <tr>\n",
       "      <th>3</th>\n",
       "      <td>Afghanistan</td>\n",
       "      <td>Ananas</td>\n",
       "      <td>vegetale</td>\n",
       "      <td>0.0</td>\n",
       "      <td>0.0</td>\n",
       "      <td>0.0</td>\n",
       "      <td>0.00</td>\n",
       "      <td>0.00</td>\n",
       "      <td>0.00</td>\n",
       "      <td>0.0</td>\n",
       "      <td>0.0</td>\n",
       "      <td>0.0</td>\n",
       "      <td>0.0</td>\n",
       "      <td>0.0</td>\n",
       "      <td>0.0</td>\n",
       "      <td>0.0</td>\n",
       "      <td>0.0</td>\n",
       "      <td>0.0</td>\n",
       "    </tr>\n",
       "    <tr>\n",
       "      <th>4</th>\n",
       "      <td>Afghanistan</td>\n",
       "      <td>Bananes</td>\n",
       "      <td>vegetale</td>\n",
       "      <td>0.0</td>\n",
       "      <td>0.0</td>\n",
       "      <td>4.0</td>\n",
       "      <td>2.70</td>\n",
       "      <td>0.02</td>\n",
       "      <td>0.05</td>\n",
       "      <td>82.0</td>\n",
       "      <td>0.0</td>\n",
       "      <td>82.0</td>\n",
       "      <td>82.0</td>\n",
       "      <td>0.0</td>\n",
       "      <td>0.0</td>\n",
       "      <td>0.0</td>\n",
       "      <td>0.0</td>\n",
       "      <td>0.0</td>\n",
       "    </tr>\n",
       "  </tbody>\n",
       "</table>\n",
       "</div>"
      ],
      "text/plain": [
       "          Zone                Produit   Origine  Aliments pour animaux  \\\n",
       "0  Afghanistan       Abats Comestible   animale                    0.0   \n",
       "1  Afghanistan        Agrumes, Autres  vegetale                    0.0   \n",
       "2  Afghanistan  Aliments pour enfants  vegetale                    0.0   \n",
       "3  Afghanistan                 Ananas  vegetale                    0.0   \n",
       "4  Afghanistan                Bananes  vegetale                    0.0   \n",
       "\n",
       "   Autres Utilisations  Disponibilité alimentaire (Kcal/personne/jour)  \\\n",
       "0                  0.0                                             5.0   \n",
       "1                  0.0                                             1.0   \n",
       "2                  0.0                                             1.0   \n",
       "3                  0.0                                             0.0   \n",
       "4                  0.0                                             4.0   \n",
       "\n",
       "   Disponibilité alimentaire en quantité (kg/personne/an)  \\\n",
       "0                                               1.72        \n",
       "1                                               1.29        \n",
       "2                                               0.06        \n",
       "3                                               0.00        \n",
       "4                                               2.70        \n",
       "\n",
       "   Disponibilité de matière grasse en quantité (g/personne/jour)  \\\n",
       "0                                               0.20               \n",
       "1                                               0.01               \n",
       "2                                               0.01               \n",
       "3                                               0.00               \n",
       "4                                               0.02               \n",
       "\n",
       "   Disponibilité de protéines en quantité (g/personne/jour)  \\\n",
       "0                                               0.77          \n",
       "1                                               0.02          \n",
       "2                                               0.03          \n",
       "3                                               0.00          \n",
       "4                                               0.05          \n",
       "\n",
       "   Disponibilité intérieure  Exportations - Quantité  Importations - Quantité  \\\n",
       "0                      53.0                      0.0                      0.0   \n",
       "1                      41.0                      2.0                     40.0   \n",
       "2                       2.0                      0.0                      2.0   \n",
       "3                       0.0                      0.0                      0.0   \n",
       "4                      82.0                      0.0                     82.0   \n",
       "\n",
       "   Nourriture  Pertes  Production  Semences  Traitement  Variation de stock  \n",
       "0        53.0     0.0        53.0       0.0         0.0                 0.0  \n",
       "1        39.0     2.0         3.0       0.0         0.0                 0.0  \n",
       "2         2.0     0.0         0.0       0.0         0.0                 0.0  \n",
       "3         0.0     0.0         0.0       0.0         0.0                 0.0  \n",
       "4        82.0     0.0         0.0       0.0         0.0                 0.0  "
      ]
     },
     "execution_count": 10,
     "metadata": {},
     "output_type": "execute_result"
    }
   ],
   "source": [
    "dispo_alim.fillna(0,inplace=True)\n",
    "dispo_alim.head()"
   ]
  },
  {
   "cell_type": "markdown",
   "id": "2a2f1016",
   "metadata": {},
   "source": [
    "Je renomme les colonnes pour facilité le travail dans la table. (accents, espaces..)"
   ]
  },
  {
   "cell_type": "code",
   "execution_count": 11,
   "id": "7450cbc4",
   "metadata": {},
   "outputs": [],
   "source": [
    "dispo_alim.rename(columns={\"Aliments pour animaux\" :\"alim_animaux\"}, inplace=True)\n",
    "dispo_alim.rename(columns={\"Autres Utilisations\" :\"autres_utilisations\"}, inplace=True)\n",
    "dispo_alim.rename(columns={\"Disponibilité alimentaire (Kcal/personne/jour)\" :\"dispo_alim_cal_pers_jour\"}, inplace=True)\n",
    "dispo_alim.rename(columns={\"Disponibilité alimentaire en quantité (kg/personne/an)\" :\"dispo_alim_qte_kg_pers_an\"}, inplace=True)\n",
    "dispo_alim.rename(columns={\"Disponibilité de matière grasse en quantité (g/personne/jour)\" :\"dispo_mg_qte_g_pers_jour\"}, inplace=True)\n",
    "dispo_alim.rename(columns={\"Disponibilité de protéines en quantité (g/personne/jour)\" :\"dispo_prot_qte_g_pers_jour\"}, inplace=True)\n",
    "dispo_alim.rename(columns={\"Disponibilité intérieure\" :\"dispo_pays\"}, inplace=True)\n",
    "dispo_alim.rename(columns={\"Exportations - Quantité\" :\"export_qte\"}, inplace=True)\n",
    "dispo_alim.rename(columns={\"Importations - Quantité\" :\"import_qte\"}, inplace=True)\n",
    "dispo_alim.rename(columns={\"Nourriture\" :\"nourriture\"}, inplace=True)\n",
    "dispo_alim.rename(columns={\"Pertes\" :\"pertes\"}, inplace=True)\n",
    "dispo_alim.rename(columns={\"Production\" :\"production\"}, inplace=True)\n",
    "dispo_alim.rename(columns={\"Semences\" :\"semences\"}, inplace=True)\n",
    "dispo_alim.rename(columns={\"Traitement\" :\"traitement\"}, inplace=True)\n",
    "dispo_alim.rename(columns={\"Semences\" :\"semences\"}, inplace=True)\n",
    "dispo_alim.rename(columns={\"Variation de stock\" :\"variation_stock\"}, inplace=True)\n",
    "dispo_alim.rename(columns={\"Zone\" :\"pays\"}, inplace=True)\n",
    "dispo_alim.rename(columns={\"Produit\" :\"produit\"}, inplace=True)\n",
    "dispo_alim.rename(columns={\"Origine\" :\"origine\"}, inplace=True)"
   ]
  },
  {
   "cell_type": "markdown",
   "id": "846f386e",
   "metadata": {},
   "source": [
    "Je remets les valeurs en forme, transformation des données en millier de tonnes.  (cf doc lexique de données > x1000000)"
   ]
  },
  {
   "cell_type": "code",
   "execution_count": 12,
   "id": "1dddbd13",
   "metadata": {},
   "outputs": [],
   "source": [
    "var = ['alim_animaux','dispo_pays','export_qte','import_qte','nourriture','pertes','production','semences','traitement','variation_stock']\n",
    "    \n",
    "for elt in var :   \n",
    "    dispo_alim[elt]=dispo_alim[elt]*1000000"
   ]
  },
  {
   "cell_type": "markdown",
   "id": "dfb8d757",
   "metadata": {},
   "source": [
    "J'unifie les formats qui peuvent l'être, ici je transforme les g en kg. (/1000)"
   ]
  },
  {
   "cell_type": "code",
   "execution_count": 13,
   "id": "5abec255",
   "metadata": {},
   "outputs": [],
   "source": [
    "var =['dispo_mg_qte_g_pers_jour','dispo_prot_qte_g_pers_jour']\n",
    "\n",
    "for elt in var : \n",
    "    dispo_alim[elt]=dispo_alim[elt]/1000"
   ]
  },
  {
   "cell_type": "markdown",
   "id": "b4c4db10",
   "metadata": {},
   "source": [
    "Je renomme les colonnes dont j'ai modifié l'unité avec les bonnes unités."
   ]
  },
  {
   "cell_type": "code",
   "execution_count": 14,
   "id": "d10ce68c",
   "metadata": {},
   "outputs": [],
   "source": [
    "dispo_alim.rename(columns={'dispo_mg_qte_g_pers_jour':'dispo_mg_qte_kg_pers_jour','dispo_prot_qte_g_pers_jour':'dispo_prot_qte_kg_pers_jour'}, inplace=True)"
   ]
  },
  {
   "cell_type": "markdown",
   "id": "023c0573",
   "metadata": {},
   "source": [
    "Je vérifie les resultats."
   ]
  },
  {
   "cell_type": "code",
   "execution_count": 15,
   "id": "6b3dd469",
   "metadata": {},
   "outputs": [
    {
     "name": "stdout",
     "output_type": "stream",
     "text": [
      "<class 'pandas.core.frame.DataFrame'>\n",
      "RangeIndex: 15605 entries, 0 to 15604\n",
      "Data columns (total 18 columns):\n",
      " #   Column                       Non-Null Count  Dtype  \n",
      "---  ------                       --------------  -----  \n",
      " 0   pays                         15605 non-null  object \n",
      " 1   produit                      15605 non-null  object \n",
      " 2   origine                      15605 non-null  object \n",
      " 3   alim_animaux                 15605 non-null  float64\n",
      " 4   autres_utilisations          15605 non-null  float64\n",
      " 5   dispo_alim_cal_pers_jour     15605 non-null  float64\n",
      " 6   dispo_alim_qte_kg_pers_an    15605 non-null  float64\n",
      " 7   dispo_mg_qte_kg_pers_jour    15605 non-null  float64\n",
      " 8   dispo_prot_qte_kg_pers_jour  15605 non-null  float64\n",
      " 9   dispo_pays                   15605 non-null  float64\n",
      " 10  export_qte                   15605 non-null  float64\n",
      " 11  import_qte                   15605 non-null  float64\n",
      " 12  nourriture                   15605 non-null  float64\n",
      " 13  pertes                       15605 non-null  float64\n",
      " 14  production                   15605 non-null  float64\n",
      " 15  semences                     15605 non-null  float64\n",
      " 16  traitement                   15605 non-null  float64\n",
      " 17  variation_stock              15605 non-null  float64\n",
      "dtypes: float64(15), object(3)\n",
      "memory usage: 2.1+ MB\n"
     ]
    },
    {
     "data": {
      "text/html": [
       "<div>\n",
       "<style scoped>\n",
       "    .dataframe tbody tr th:only-of-type {\n",
       "        vertical-align: middle;\n",
       "    }\n",
       "\n",
       "    .dataframe tbody tr th {\n",
       "        vertical-align: top;\n",
       "    }\n",
       "\n",
       "    .dataframe thead th {\n",
       "        text-align: right;\n",
       "    }\n",
       "</style>\n",
       "<table border=\"1\" class=\"dataframe\">\n",
       "  <thead>\n",
       "    <tr style=\"text-align: right;\">\n",
       "      <th></th>\n",
       "      <th>pays</th>\n",
       "      <th>produit</th>\n",
       "      <th>origine</th>\n",
       "      <th>alim_animaux</th>\n",
       "      <th>autres_utilisations</th>\n",
       "      <th>dispo_alim_cal_pers_jour</th>\n",
       "      <th>dispo_alim_qte_kg_pers_an</th>\n",
       "      <th>dispo_mg_qte_kg_pers_jour</th>\n",
       "      <th>dispo_prot_qte_kg_pers_jour</th>\n",
       "      <th>dispo_pays</th>\n",
       "      <th>export_qte</th>\n",
       "      <th>import_qte</th>\n",
       "      <th>nourriture</th>\n",
       "      <th>pertes</th>\n",
       "      <th>production</th>\n",
       "      <th>semences</th>\n",
       "      <th>traitement</th>\n",
       "      <th>variation_stock</th>\n",
       "    </tr>\n",
       "  </thead>\n",
       "  <tbody>\n",
       "    <tr>\n",
       "      <th>0</th>\n",
       "      <td>Afghanistan</td>\n",
       "      <td>Abats Comestible</td>\n",
       "      <td>animale</td>\n",
       "      <td>0.0</td>\n",
       "      <td>0.0</td>\n",
       "      <td>5.0</td>\n",
       "      <td>1.72</td>\n",
       "      <td>0.00020</td>\n",
       "      <td>0.00077</td>\n",
       "      <td>53000000.0</td>\n",
       "      <td>0.0</td>\n",
       "      <td>0.0</td>\n",
       "      <td>53000000.0</td>\n",
       "      <td>0.0</td>\n",
       "      <td>53000000.0</td>\n",
       "      <td>0.0</td>\n",
       "      <td>0.0</td>\n",
       "      <td>0.0</td>\n",
       "    </tr>\n",
       "    <tr>\n",
       "      <th>1</th>\n",
       "      <td>Afghanistan</td>\n",
       "      <td>Agrumes, Autres</td>\n",
       "      <td>vegetale</td>\n",
       "      <td>0.0</td>\n",
       "      <td>0.0</td>\n",
       "      <td>1.0</td>\n",
       "      <td>1.29</td>\n",
       "      <td>0.00001</td>\n",
       "      <td>0.00002</td>\n",
       "      <td>41000000.0</td>\n",
       "      <td>2000000.0</td>\n",
       "      <td>40000000.0</td>\n",
       "      <td>39000000.0</td>\n",
       "      <td>2000000.0</td>\n",
       "      <td>3000000.0</td>\n",
       "      <td>0.0</td>\n",
       "      <td>0.0</td>\n",
       "      <td>0.0</td>\n",
       "    </tr>\n",
       "    <tr>\n",
       "      <th>2</th>\n",
       "      <td>Afghanistan</td>\n",
       "      <td>Aliments pour enfants</td>\n",
       "      <td>vegetale</td>\n",
       "      <td>0.0</td>\n",
       "      <td>0.0</td>\n",
       "      <td>1.0</td>\n",
       "      <td>0.06</td>\n",
       "      <td>0.00001</td>\n",
       "      <td>0.00003</td>\n",
       "      <td>2000000.0</td>\n",
       "      <td>0.0</td>\n",
       "      <td>2000000.0</td>\n",
       "      <td>2000000.0</td>\n",
       "      <td>0.0</td>\n",
       "      <td>0.0</td>\n",
       "      <td>0.0</td>\n",
       "      <td>0.0</td>\n",
       "      <td>0.0</td>\n",
       "    </tr>\n",
       "    <tr>\n",
       "      <th>3</th>\n",
       "      <td>Afghanistan</td>\n",
       "      <td>Ananas</td>\n",
       "      <td>vegetale</td>\n",
       "      <td>0.0</td>\n",
       "      <td>0.0</td>\n",
       "      <td>0.0</td>\n",
       "      <td>0.00</td>\n",
       "      <td>0.00000</td>\n",
       "      <td>0.00000</td>\n",
       "      <td>0.0</td>\n",
       "      <td>0.0</td>\n",
       "      <td>0.0</td>\n",
       "      <td>0.0</td>\n",
       "      <td>0.0</td>\n",
       "      <td>0.0</td>\n",
       "      <td>0.0</td>\n",
       "      <td>0.0</td>\n",
       "      <td>0.0</td>\n",
       "    </tr>\n",
       "    <tr>\n",
       "      <th>4</th>\n",
       "      <td>Afghanistan</td>\n",
       "      <td>Bananes</td>\n",
       "      <td>vegetale</td>\n",
       "      <td>0.0</td>\n",
       "      <td>0.0</td>\n",
       "      <td>4.0</td>\n",
       "      <td>2.70</td>\n",
       "      <td>0.00002</td>\n",
       "      <td>0.00005</td>\n",
       "      <td>82000000.0</td>\n",
       "      <td>0.0</td>\n",
       "      <td>82000000.0</td>\n",
       "      <td>82000000.0</td>\n",
       "      <td>0.0</td>\n",
       "      <td>0.0</td>\n",
       "      <td>0.0</td>\n",
       "      <td>0.0</td>\n",
       "      <td>0.0</td>\n",
       "    </tr>\n",
       "  </tbody>\n",
       "</table>\n",
       "</div>"
      ],
      "text/plain": [
       "          pays                produit   origine  alim_animaux  \\\n",
       "0  Afghanistan       Abats Comestible   animale           0.0   \n",
       "1  Afghanistan        Agrumes, Autres  vegetale           0.0   \n",
       "2  Afghanistan  Aliments pour enfants  vegetale           0.0   \n",
       "3  Afghanistan                 Ananas  vegetale           0.0   \n",
       "4  Afghanistan                Bananes  vegetale           0.0   \n",
       "\n",
       "   autres_utilisations  dispo_alim_cal_pers_jour  dispo_alim_qte_kg_pers_an  \\\n",
       "0                  0.0                       5.0                       1.72   \n",
       "1                  0.0                       1.0                       1.29   \n",
       "2                  0.0                       1.0                       0.06   \n",
       "3                  0.0                       0.0                       0.00   \n",
       "4                  0.0                       4.0                       2.70   \n",
       "\n",
       "   dispo_mg_qte_kg_pers_jour  dispo_prot_qte_kg_pers_jour  dispo_pays  \\\n",
       "0                    0.00020                      0.00077  53000000.0   \n",
       "1                    0.00001                      0.00002  41000000.0   \n",
       "2                    0.00001                      0.00003   2000000.0   \n",
       "3                    0.00000                      0.00000         0.0   \n",
       "4                    0.00002                      0.00005  82000000.0   \n",
       "\n",
       "   export_qte  import_qte  nourriture     pertes  production  semences  \\\n",
       "0         0.0         0.0  53000000.0        0.0  53000000.0       0.0   \n",
       "1   2000000.0  40000000.0  39000000.0  2000000.0   3000000.0       0.0   \n",
       "2         0.0   2000000.0   2000000.0        0.0         0.0       0.0   \n",
       "3         0.0         0.0         0.0        0.0         0.0       0.0   \n",
       "4         0.0  82000000.0  82000000.0        0.0         0.0       0.0   \n",
       "\n",
       "   traitement  variation_stock  \n",
       "0         0.0              0.0  \n",
       "1         0.0              0.0  \n",
       "2         0.0              0.0  \n",
       "3         0.0              0.0  \n",
       "4         0.0              0.0  "
      ]
     },
     "execution_count": 15,
     "metadata": {},
     "output_type": "execute_result"
    }
   ],
   "source": [
    "dispo_alim.info()\n",
    "dispo_alim.head()"
   ]
  },
  {
   "cell_type": "markdown",
   "id": "77fe3d69",
   "metadata": {},
   "source": [
    "#### Mise en forme de la table population.csv (population)"
   ]
  },
  {
   "cell_type": "markdown",
   "id": "049f1621",
   "metadata": {},
   "source": [
    "Analyse des données."
   ]
  },
  {
   "cell_type": "code",
   "execution_count": 16,
   "id": "f04b1ed7",
   "metadata": {},
   "outputs": [
    {
     "name": "stdout",
     "output_type": "stream",
     "text": [
      "<class 'pandas.core.frame.DataFrame'>\n",
      "RangeIndex: 1416 entries, 0 to 1415\n",
      "Data columns (total 3 columns):\n",
      " #   Column  Non-Null Count  Dtype  \n",
      "---  ------  --------------  -----  \n",
      " 0   Zone    1416 non-null   object \n",
      " 1   Année   1416 non-null   int64  \n",
      " 2   Valeur  1416 non-null   float64\n",
      "dtypes: float64(1), int64(1), object(1)\n",
      "memory usage: 33.3+ KB\n"
     ]
    },
    {
     "data": {
      "text/html": [
       "<div>\n",
       "<style scoped>\n",
       "    .dataframe tbody tr th:only-of-type {\n",
       "        vertical-align: middle;\n",
       "    }\n",
       "\n",
       "    .dataframe tbody tr th {\n",
       "        vertical-align: top;\n",
       "    }\n",
       "\n",
       "    .dataframe thead th {\n",
       "        text-align: right;\n",
       "    }\n",
       "</style>\n",
       "<table border=\"1\" class=\"dataframe\">\n",
       "  <thead>\n",
       "    <tr style=\"text-align: right;\">\n",
       "      <th></th>\n",
       "      <th>Zone</th>\n",
       "      <th>Année</th>\n",
       "      <th>Valeur</th>\n",
       "    </tr>\n",
       "  </thead>\n",
       "  <tbody>\n",
       "    <tr>\n",
       "      <th>0</th>\n",
       "      <td>Afghanistan</td>\n",
       "      <td>2013</td>\n",
       "      <td>32269.589</td>\n",
       "    </tr>\n",
       "    <tr>\n",
       "      <th>1</th>\n",
       "      <td>Afghanistan</td>\n",
       "      <td>2014</td>\n",
       "      <td>33370.794</td>\n",
       "    </tr>\n",
       "    <tr>\n",
       "      <th>2</th>\n",
       "      <td>Afghanistan</td>\n",
       "      <td>2015</td>\n",
       "      <td>34413.603</td>\n",
       "    </tr>\n",
       "    <tr>\n",
       "      <th>3</th>\n",
       "      <td>Afghanistan</td>\n",
       "      <td>2016</td>\n",
       "      <td>35383.032</td>\n",
       "    </tr>\n",
       "    <tr>\n",
       "      <th>4</th>\n",
       "      <td>Afghanistan</td>\n",
       "      <td>2017</td>\n",
       "      <td>36296.113</td>\n",
       "    </tr>\n",
       "  </tbody>\n",
       "</table>\n",
       "</div>"
      ],
      "text/plain": [
       "          Zone  Année     Valeur\n",
       "0  Afghanistan   2013  32269.589\n",
       "1  Afghanistan   2014  33370.794\n",
       "2  Afghanistan   2015  34413.603\n",
       "3  Afghanistan   2016  35383.032\n",
       "4  Afghanistan   2017  36296.113"
      ]
     },
     "execution_count": 16,
     "metadata": {},
     "output_type": "execute_result"
    }
   ],
   "source": [
    "population.info()\n",
    "population.head()"
   ]
  },
  {
   "cell_type": "markdown",
   "id": "ab112a57",
   "metadata": {},
   "source": [
    "Je renomme les colonnes pour faciliter le travail dans la table. (accents,espaces)"
   ]
  },
  {
   "cell_type": "code",
   "execution_count": 17,
   "id": "edf30261",
   "metadata": {},
   "outputs": [],
   "source": [
    "population.rename(columns={\"Zone\" :\"pays_pop\"}, inplace=True)\n",
    "population.rename(columns={\"Année\" :\"annee_pop\"}, inplace=True)\n",
    "population.rename(columns={\"Valeur\" :\"val_pop\"}, inplace=True)"
   ]
  },
  {
   "cell_type": "markdown",
   "id": "1d918cba",
   "metadata": {},
   "source": [
    "Je remets les valeurs en forme, transformation des données en millier d'habitants.  (cf doc lexique de données > x1000)"
   ]
  },
  {
   "cell_type": "code",
   "execution_count": 18,
   "id": "fa48d914",
   "metadata": {},
   "outputs": [],
   "source": [
    "population['val_pop']= population['val_pop']*1000"
   ]
  },
  {
   "cell_type": "markdown",
   "id": "33b1c423",
   "metadata": {},
   "source": [
    "Je vérifie le résultat."
   ]
  },
  {
   "cell_type": "code",
   "execution_count": 19,
   "id": "778d2a69",
   "metadata": {},
   "outputs": [
    {
     "data": {
      "text/html": [
       "<div>\n",
       "<style scoped>\n",
       "    .dataframe tbody tr th:only-of-type {\n",
       "        vertical-align: middle;\n",
       "    }\n",
       "\n",
       "    .dataframe tbody tr th {\n",
       "        vertical-align: top;\n",
       "    }\n",
       "\n",
       "    .dataframe thead th {\n",
       "        text-align: right;\n",
       "    }\n",
       "</style>\n",
       "<table border=\"1\" class=\"dataframe\">\n",
       "  <thead>\n",
       "    <tr style=\"text-align: right;\">\n",
       "      <th></th>\n",
       "      <th>pays_pop</th>\n",
       "      <th>annee_pop</th>\n",
       "      <th>val_pop</th>\n",
       "    </tr>\n",
       "  </thead>\n",
       "  <tbody>\n",
       "    <tr>\n",
       "      <th>0</th>\n",
       "      <td>Afghanistan</td>\n",
       "      <td>2013</td>\n",
       "      <td>32269589.0</td>\n",
       "    </tr>\n",
       "    <tr>\n",
       "      <th>1</th>\n",
       "      <td>Afghanistan</td>\n",
       "      <td>2014</td>\n",
       "      <td>33370794.0</td>\n",
       "    </tr>\n",
       "    <tr>\n",
       "      <th>2</th>\n",
       "      <td>Afghanistan</td>\n",
       "      <td>2015</td>\n",
       "      <td>34413603.0</td>\n",
       "    </tr>\n",
       "    <tr>\n",
       "      <th>3</th>\n",
       "      <td>Afghanistan</td>\n",
       "      <td>2016</td>\n",
       "      <td>35383032.0</td>\n",
       "    </tr>\n",
       "    <tr>\n",
       "      <th>4</th>\n",
       "      <td>Afghanistan</td>\n",
       "      <td>2017</td>\n",
       "      <td>36296113.0</td>\n",
       "    </tr>\n",
       "  </tbody>\n",
       "</table>\n",
       "</div>"
      ],
      "text/plain": [
       "      pays_pop  annee_pop     val_pop\n",
       "0  Afghanistan       2013  32269589.0\n",
       "1  Afghanistan       2014  33370794.0\n",
       "2  Afghanistan       2015  34413603.0\n",
       "3  Afghanistan       2016  35383032.0\n",
       "4  Afghanistan       2017  36296113.0"
      ]
     },
     "execution_count": 19,
     "metadata": {},
     "output_type": "execute_result"
    }
   ],
   "source": [
    "population.head()"
   ]
  },
  {
   "cell_type": "markdown",
   "id": "3e72413b",
   "metadata": {},
   "source": [
    "#### Mise en forme de la table sous_nutrition.csv (sous_nutrition) "
   ]
  },
  {
   "cell_type": "markdown",
   "id": "b434779f",
   "metadata": {},
   "source": [
    "J'analyse les données."
   ]
  },
  {
   "cell_type": "code",
   "execution_count": 20,
   "id": "5b3e74c8",
   "metadata": {},
   "outputs": [
    {
     "data": {
      "text/html": [
       "<div>\n",
       "<style scoped>\n",
       "    .dataframe tbody tr th:only-of-type {\n",
       "        vertical-align: middle;\n",
       "    }\n",
       "\n",
       "    .dataframe tbody tr th {\n",
       "        vertical-align: top;\n",
       "    }\n",
       "\n",
       "    .dataframe thead th {\n",
       "        text-align: right;\n",
       "    }\n",
       "</style>\n",
       "<table border=\"1\" class=\"dataframe\">\n",
       "  <thead>\n",
       "    <tr style=\"text-align: right;\">\n",
       "      <th></th>\n",
       "      <th>Zone</th>\n",
       "      <th>Année</th>\n",
       "      <th>Valeur</th>\n",
       "    </tr>\n",
       "  </thead>\n",
       "  <tbody>\n",
       "    <tr>\n",
       "      <th>0</th>\n",
       "      <td>Afghanistan</td>\n",
       "      <td>2012-2014</td>\n",
       "      <td>8.6</td>\n",
       "    </tr>\n",
       "    <tr>\n",
       "      <th>1</th>\n",
       "      <td>Afghanistan</td>\n",
       "      <td>2013-2015</td>\n",
       "      <td>8.8</td>\n",
       "    </tr>\n",
       "    <tr>\n",
       "      <th>2</th>\n",
       "      <td>Afghanistan</td>\n",
       "      <td>2014-2016</td>\n",
       "      <td>8.9</td>\n",
       "    </tr>\n",
       "    <tr>\n",
       "      <th>3</th>\n",
       "      <td>Afghanistan</td>\n",
       "      <td>2015-2017</td>\n",
       "      <td>9.7</td>\n",
       "    </tr>\n",
       "    <tr>\n",
       "      <th>4</th>\n",
       "      <td>Afghanistan</td>\n",
       "      <td>2016-2018</td>\n",
       "      <td>10.5</td>\n",
       "    </tr>\n",
       "  </tbody>\n",
       "</table>\n",
       "</div>"
      ],
      "text/plain": [
       "          Zone      Année Valeur\n",
       "0  Afghanistan  2012-2014    8.6\n",
       "1  Afghanistan  2013-2015    8.8\n",
       "2  Afghanistan  2014-2016    8.9\n",
       "3  Afghanistan  2015-2017    9.7\n",
       "4  Afghanistan  2016-2018   10.5"
      ]
     },
     "execution_count": 20,
     "metadata": {},
     "output_type": "execute_result"
    }
   ],
   "source": [
    "sous_nutrition.head()"
   ]
  },
  {
   "cell_type": "code",
   "execution_count": 21,
   "id": "06e4458a",
   "metadata": {},
   "outputs": [
    {
     "name": "stdout",
     "output_type": "stream",
     "text": [
      "<class 'pandas.core.frame.DataFrame'>\n",
      "RangeIndex: 1218 entries, 0 to 1217\n",
      "Data columns (total 3 columns):\n",
      " #   Column  Non-Null Count  Dtype \n",
      "---  ------  --------------  ----- \n",
      " 0   Zone    1218 non-null   object\n",
      " 1   Année   1218 non-null   object\n",
      " 2   Valeur  624 non-null    object\n",
      "dtypes: object(3)\n",
      "memory usage: 28.7+ KB\n"
     ]
    }
   ],
   "source": [
    "sous_nutrition.info()"
   ]
  },
  {
   "cell_type": "markdown",
   "id": "79c5cb23",
   "metadata": {},
   "source": [
    "Je renomme les colonnes pour faciliter le travail dans la table. (accents,espaces)"
   ]
  },
  {
   "cell_type": "code",
   "execution_count": 22,
   "id": "3a850a83",
   "metadata": {},
   "outputs": [],
   "source": [
    "sous_nutrition.rename(columns={\"Zone\" :\"pays_nut\"}, inplace=True)\n",
    "sous_nutrition.rename(columns={\"Valeur\" :\"val_nut\"}, inplace=True)\n",
    "sous_nutrition.rename(columns={\"Année\" :\"annee_nut\"}, inplace=True)"
   ]
  },
  {
   "cell_type": "markdown",
   "id": "2426f0a3",
   "metadata": {},
   "source": [
    "Je créer une colonne annee2 pour créer une colonne avec une année unique et non un interval. /\n",
    "Pour année 2 je prends les 4 premier caractère dans la colonne année_nut."
   ]
  },
  {
   "cell_type": "code",
   "execution_count": 23,
   "id": "730c6ee0",
   "metadata": {},
   "outputs": [],
   "source": [
    "sous_nutrition['annee2'] = sous_nutrition['annee_nut'].str[:4]"
   ]
  },
  {
   "cell_type": "markdown",
   "id": "02ac2e2a",
   "metadata": {},
   "source": [
    "Je vérifie le résultat."
   ]
  },
  {
   "cell_type": "code",
   "execution_count": 167,
   "id": "4e32e958",
   "metadata": {},
   "outputs": [
    {
     "data": {
      "text/html": [
       "<div>\n",
       "<style scoped>\n",
       "    .dataframe tbody tr th:only-of-type {\n",
       "        vertical-align: middle;\n",
       "    }\n",
       "\n",
       "    .dataframe tbody tr th {\n",
       "        vertical-align: top;\n",
       "    }\n",
       "\n",
       "    .dataframe thead th {\n",
       "        text-align: right;\n",
       "    }\n",
       "</style>\n",
       "<table border=\"1\" class=\"dataframe\">\n",
       "  <thead>\n",
       "    <tr style=\"text-align: right;\">\n",
       "      <th></th>\n",
       "      <th>pays_nut</th>\n",
       "      <th>val_nut</th>\n",
       "      <th>annee_nut</th>\n",
       "    </tr>\n",
       "  </thead>\n",
       "  <tbody>\n",
       "    <tr>\n",
       "      <th>0</th>\n",
       "      <td>Afghanistan</td>\n",
       "      <td>8600000.0</td>\n",
       "      <td>2013</td>\n",
       "    </tr>\n",
       "    <tr>\n",
       "      <th>1</th>\n",
       "      <td>Afghanistan</td>\n",
       "      <td>8800000.0</td>\n",
       "      <td>2014</td>\n",
       "    </tr>\n",
       "    <tr>\n",
       "      <th>2</th>\n",
       "      <td>Afghanistan</td>\n",
       "      <td>8900000.0</td>\n",
       "      <td>2015</td>\n",
       "    </tr>\n",
       "    <tr>\n",
       "      <th>3</th>\n",
       "      <td>Afghanistan</td>\n",
       "      <td>9700000.0</td>\n",
       "      <td>2016</td>\n",
       "    </tr>\n",
       "    <tr>\n",
       "      <th>4</th>\n",
       "      <td>Afghanistan</td>\n",
       "      <td>10500000.0</td>\n",
       "      <td>2017</td>\n",
       "    </tr>\n",
       "  </tbody>\n",
       "</table>\n",
       "</div>"
      ],
      "text/plain": [
       "      pays_nut     val_nut  annee_nut\n",
       "0  Afghanistan   8600000.0       2013\n",
       "1  Afghanistan   8800000.0       2014\n",
       "2  Afghanistan   8900000.0       2015\n",
       "3  Afghanistan   9700000.0       2016\n",
       "4  Afghanistan  10500000.0       2017"
      ]
     },
     "execution_count": 167,
     "metadata": {},
     "output_type": "execute_result"
    }
   ],
   "source": [
    "sous_nutrition.head()"
   ]
  },
  {
   "cell_type": "markdown",
   "id": "40b48679",
   "metadata": {},
   "source": [
    "Je change ensuite le type pour la colonne année2, je la met en int pour pouvoir faire une opération."
   ]
  },
  {
   "cell_type": "code",
   "execution_count": 25,
   "id": "3e6a3da0",
   "metadata": {},
   "outputs": [],
   "source": [
    "sous_nutrition['annee2']=sous_nutrition['annee2'].astype(int)"
   ]
  },
  {
   "cell_type": "markdown",
   "id": "cf7a4ed1",
   "metadata": {},
   "source": [
    "Je créé une colonne annee3 à partir de année2 en rajoutant un +1 sur chaque valeur pour obtenir une année unique."
   ]
  },
  {
   "cell_type": "code",
   "execution_count": 26,
   "id": "f578a6aa",
   "metadata": {},
   "outputs": [],
   "source": [
    "sous_nutrition['annee3']=sous_nutrition['annee2']+1"
   ]
  },
  {
   "cell_type": "markdown",
   "id": "17c81213",
   "metadata": {},
   "source": [
    "Je vérifie le résultat."
   ]
  },
  {
   "cell_type": "code",
   "execution_count": 168,
   "id": "967f0f38",
   "metadata": {},
   "outputs": [
    {
     "data": {
      "text/html": [
       "<div>\n",
       "<style scoped>\n",
       "    .dataframe tbody tr th:only-of-type {\n",
       "        vertical-align: middle;\n",
       "    }\n",
       "\n",
       "    .dataframe tbody tr th {\n",
       "        vertical-align: top;\n",
       "    }\n",
       "\n",
       "    .dataframe thead th {\n",
       "        text-align: right;\n",
       "    }\n",
       "</style>\n",
       "<table border=\"1\" class=\"dataframe\">\n",
       "  <thead>\n",
       "    <tr style=\"text-align: right;\">\n",
       "      <th></th>\n",
       "      <th>pays_nut</th>\n",
       "      <th>val_nut</th>\n",
       "      <th>annee_nut</th>\n",
       "    </tr>\n",
       "  </thead>\n",
       "  <tbody>\n",
       "    <tr>\n",
       "      <th>0</th>\n",
       "      <td>Afghanistan</td>\n",
       "      <td>8600000.0</td>\n",
       "      <td>2013</td>\n",
       "    </tr>\n",
       "    <tr>\n",
       "      <th>1</th>\n",
       "      <td>Afghanistan</td>\n",
       "      <td>8800000.0</td>\n",
       "      <td>2014</td>\n",
       "    </tr>\n",
       "    <tr>\n",
       "      <th>2</th>\n",
       "      <td>Afghanistan</td>\n",
       "      <td>8900000.0</td>\n",
       "      <td>2015</td>\n",
       "    </tr>\n",
       "    <tr>\n",
       "      <th>3</th>\n",
       "      <td>Afghanistan</td>\n",
       "      <td>9700000.0</td>\n",
       "      <td>2016</td>\n",
       "    </tr>\n",
       "    <tr>\n",
       "      <th>4</th>\n",
       "      <td>Afghanistan</td>\n",
       "      <td>10500000.0</td>\n",
       "      <td>2017</td>\n",
       "    </tr>\n",
       "  </tbody>\n",
       "</table>\n",
       "</div>"
      ],
      "text/plain": [
       "      pays_nut     val_nut  annee_nut\n",
       "0  Afghanistan   8600000.0       2013\n",
       "1  Afghanistan   8800000.0       2014\n",
       "2  Afghanistan   8900000.0       2015\n",
       "3  Afghanistan   9700000.0       2016\n",
       "4  Afghanistan  10500000.0       2017"
      ]
     },
     "execution_count": 168,
     "metadata": {},
     "output_type": "execute_result"
    }
   ],
   "source": [
    "sous_nutrition.head()"
   ]
  },
  {
   "cell_type": "markdown",
   "id": "1ba06980",
   "metadata": {},
   "source": [
    "Je supprime les colonnes devenues inutiles"
   ]
  },
  {
   "cell_type": "code",
   "execution_count": 28,
   "id": "afe372fd",
   "metadata": {},
   "outputs": [],
   "source": [
    "del sous_nutrition['annee2']\n",
    "del sous_nutrition['annee_nut']"
   ]
  },
  {
   "cell_type": "markdown",
   "id": "e50de35a",
   "metadata": {},
   "source": [
    "Je vérifie le résultat."
   ]
  },
  {
   "cell_type": "code",
   "execution_count": 169,
   "id": "ea6153f1",
   "metadata": {},
   "outputs": [
    {
     "data": {
      "text/html": [
       "<div>\n",
       "<style scoped>\n",
       "    .dataframe tbody tr th:only-of-type {\n",
       "        vertical-align: middle;\n",
       "    }\n",
       "\n",
       "    .dataframe tbody tr th {\n",
       "        vertical-align: top;\n",
       "    }\n",
       "\n",
       "    .dataframe thead th {\n",
       "        text-align: right;\n",
       "    }\n",
       "</style>\n",
       "<table border=\"1\" class=\"dataframe\">\n",
       "  <thead>\n",
       "    <tr style=\"text-align: right;\">\n",
       "      <th></th>\n",
       "      <th>pays_nut</th>\n",
       "      <th>val_nut</th>\n",
       "      <th>annee_nut</th>\n",
       "    </tr>\n",
       "  </thead>\n",
       "  <tbody>\n",
       "    <tr>\n",
       "      <th>0</th>\n",
       "      <td>Afghanistan</td>\n",
       "      <td>8600000.0</td>\n",
       "      <td>2013</td>\n",
       "    </tr>\n",
       "    <tr>\n",
       "      <th>1</th>\n",
       "      <td>Afghanistan</td>\n",
       "      <td>8800000.0</td>\n",
       "      <td>2014</td>\n",
       "    </tr>\n",
       "    <tr>\n",
       "      <th>2</th>\n",
       "      <td>Afghanistan</td>\n",
       "      <td>8900000.0</td>\n",
       "      <td>2015</td>\n",
       "    </tr>\n",
       "    <tr>\n",
       "      <th>3</th>\n",
       "      <td>Afghanistan</td>\n",
       "      <td>9700000.0</td>\n",
       "      <td>2016</td>\n",
       "    </tr>\n",
       "    <tr>\n",
       "      <th>4</th>\n",
       "      <td>Afghanistan</td>\n",
       "      <td>10500000.0</td>\n",
       "      <td>2017</td>\n",
       "    </tr>\n",
       "  </tbody>\n",
       "</table>\n",
       "</div>"
      ],
      "text/plain": [
       "      pays_nut     val_nut  annee_nut\n",
       "0  Afghanistan   8600000.0       2013\n",
       "1  Afghanistan   8800000.0       2014\n",
       "2  Afghanistan   8900000.0       2015\n",
       "3  Afghanistan   9700000.0       2016\n",
       "4  Afghanistan  10500000.0       2017"
      ]
     },
     "execution_count": 169,
     "metadata": {},
     "output_type": "execute_result"
    }
   ],
   "source": [
    "sous_nutrition.head()"
   ]
  },
  {
   "cell_type": "markdown",
   "id": "50c15660",
   "metadata": {},
   "source": [
    "Je renomme la colonne année3 nouvellement créé avec le nom que j'avais créé à la base pour cette colonne."
   ]
  },
  {
   "cell_type": "code",
   "execution_count": 30,
   "id": "917ad841",
   "metadata": {},
   "outputs": [],
   "source": [
    "sous_nutrition.rename(columns={\"annee3\" :\"annee_nut\"}, inplace=True)"
   ]
  },
  {
   "cell_type": "markdown",
   "id": "a4e274fc",
   "metadata": {},
   "source": [
    "Je vérifie le résultat."
   ]
  },
  {
   "cell_type": "code",
   "execution_count": 31,
   "id": "135d1f9f",
   "metadata": {},
   "outputs": [
    {
     "name": "stdout",
     "output_type": "stream",
     "text": [
      "<class 'pandas.core.frame.DataFrame'>\n",
      "RangeIndex: 1218 entries, 0 to 1217\n",
      "Data columns (total 3 columns):\n",
      " #   Column     Non-Null Count  Dtype \n",
      "---  ------     --------------  ----- \n",
      " 0   pays_nut   1218 non-null   object\n",
      " 1   val_nut    624 non-null    object\n",
      " 2   annee_nut  1218 non-null   int64 \n",
      "dtypes: int64(1), object(2)\n",
      "memory usage: 28.7+ KB\n"
     ]
    }
   ],
   "source": [
    "sous_nutrition.info()"
   ]
  },
  {
   "cell_type": "markdown",
   "id": "464557ca",
   "metadata": {},
   "source": [
    "Je remplace les valeur Nan par 0."
   ]
  },
  {
   "cell_type": "code",
   "execution_count": 32,
   "id": "39230b32",
   "metadata": {},
   "outputs": [],
   "source": [
    "sous_nutrition.fillna(0,inplace=True)"
   ]
  },
  {
   "cell_type": "markdown",
   "id": "c336e739",
   "metadata": {},
   "source": [
    "Je vérifie le résultat."
   ]
  },
  {
   "cell_type": "code",
   "execution_count": 33,
   "id": "0f021adf",
   "metadata": {},
   "outputs": [
    {
     "data": {
      "text/html": [
       "<div>\n",
       "<style scoped>\n",
       "    .dataframe tbody tr th:only-of-type {\n",
       "        vertical-align: middle;\n",
       "    }\n",
       "\n",
       "    .dataframe tbody tr th {\n",
       "        vertical-align: top;\n",
       "    }\n",
       "\n",
       "    .dataframe thead th {\n",
       "        text-align: right;\n",
       "    }\n",
       "</style>\n",
       "<table border=\"1\" class=\"dataframe\">\n",
       "  <thead>\n",
       "    <tr style=\"text-align: right;\">\n",
       "      <th></th>\n",
       "      <th>pays_nut</th>\n",
       "      <th>val_nut</th>\n",
       "      <th>annee_nut</th>\n",
       "    </tr>\n",
       "  </thead>\n",
       "  <tbody>\n",
       "    <tr>\n",
       "      <th>0</th>\n",
       "      <td>Afghanistan</td>\n",
       "      <td>8.6</td>\n",
       "      <td>2013</td>\n",
       "    </tr>\n",
       "    <tr>\n",
       "      <th>1</th>\n",
       "      <td>Afghanistan</td>\n",
       "      <td>8.8</td>\n",
       "      <td>2014</td>\n",
       "    </tr>\n",
       "    <tr>\n",
       "      <th>2</th>\n",
       "      <td>Afghanistan</td>\n",
       "      <td>8.9</td>\n",
       "      <td>2015</td>\n",
       "    </tr>\n",
       "    <tr>\n",
       "      <th>3</th>\n",
       "      <td>Afghanistan</td>\n",
       "      <td>9.7</td>\n",
       "      <td>2016</td>\n",
       "    </tr>\n",
       "    <tr>\n",
       "      <th>4</th>\n",
       "      <td>Afghanistan</td>\n",
       "      <td>10.5</td>\n",
       "      <td>2017</td>\n",
       "    </tr>\n",
       "    <tr>\n",
       "      <th>...</th>\n",
       "      <td>...</td>\n",
       "      <td>...</td>\n",
       "      <td>...</td>\n",
       "    </tr>\n",
       "    <tr>\n",
       "      <th>65</th>\n",
       "      <td>Arménie</td>\n",
       "      <td>&lt;0.1</td>\n",
       "      <td>2018</td>\n",
       "    </tr>\n",
       "    <tr>\n",
       "      <th>66</th>\n",
       "      <td>Australie</td>\n",
       "      <td>0</td>\n",
       "      <td>2013</td>\n",
       "    </tr>\n",
       "    <tr>\n",
       "      <th>67</th>\n",
       "      <td>Australie</td>\n",
       "      <td>0</td>\n",
       "      <td>2014</td>\n",
       "    </tr>\n",
       "    <tr>\n",
       "      <th>68</th>\n",
       "      <td>Australie</td>\n",
       "      <td>0</td>\n",
       "      <td>2015</td>\n",
       "    </tr>\n",
       "    <tr>\n",
       "      <th>69</th>\n",
       "      <td>Australie</td>\n",
       "      <td>0</td>\n",
       "      <td>2016</td>\n",
       "    </tr>\n",
       "  </tbody>\n",
       "</table>\n",
       "<p>70 rows × 3 columns</p>\n",
       "</div>"
      ],
      "text/plain": [
       "       pays_nut val_nut  annee_nut\n",
       "0   Afghanistan     8.6       2013\n",
       "1   Afghanistan     8.8       2014\n",
       "2   Afghanistan     8.9       2015\n",
       "3   Afghanistan     9.7       2016\n",
       "4   Afghanistan    10.5       2017\n",
       "..          ...     ...        ...\n",
       "65      Arménie    <0.1       2018\n",
       "66    Australie       0       2013\n",
       "67    Australie       0       2014\n",
       "68    Australie       0       2015\n",
       "69    Australie       0       2016\n",
       "\n",
       "[70 rows x 3 columns]"
      ]
     },
     "execution_count": 33,
     "metadata": {},
     "output_type": "execute_result"
    }
   ],
   "source": [
    "sous_nutrition.head(70)"
   ]
  },
  {
   "cell_type": "markdown",
   "id": "044be924",
   "metadata": {},
   "source": [
    "Pour travailler avec la colonne val_nut je dois modifier la valeur <0.1. \n",
    "Je la modifie par 0,05 car nous n'avons pas le chiffre exacte de cette valeur.\n",
    "Je force la colonne val_nut à ce mettre en numérique, en passant au dessus des erreurs, ce qui va tranformer en Nan les valeurs <0.1.\n",
    "\n",
    "Autre solution : sous_nutrition[\"val_nut\"].replace({\"<0.1\":0.1}, inplace = True)\n"
   ]
  },
  {
   "cell_type": "code",
   "execution_count": 34,
   "id": "1d9f9c11",
   "metadata": {},
   "outputs": [],
   "source": [
    "sous_nutrition['val_nut']= pd.to_numeric(sous_nutrition['val_nut'],errors='coerce')"
   ]
  },
  {
   "cell_type": "markdown",
   "id": "42ea76f2",
   "metadata": {},
   "source": [
    "Je vérifie le résultat."
   ]
  },
  {
   "cell_type": "code",
   "execution_count": 35,
   "id": "0ba0f166",
   "metadata": {},
   "outputs": [
    {
     "data": {
      "text/html": [
       "<div>\n",
       "<style scoped>\n",
       "    .dataframe tbody tr th:only-of-type {\n",
       "        vertical-align: middle;\n",
       "    }\n",
       "\n",
       "    .dataframe tbody tr th {\n",
       "        vertical-align: top;\n",
       "    }\n",
       "\n",
       "    .dataframe thead th {\n",
       "        text-align: right;\n",
       "    }\n",
       "</style>\n",
       "<table border=\"1\" class=\"dataframe\">\n",
       "  <thead>\n",
       "    <tr style=\"text-align: right;\">\n",
       "      <th></th>\n",
       "      <th>pays_nut</th>\n",
       "      <th>val_nut</th>\n",
       "      <th>annee_nut</th>\n",
       "    </tr>\n",
       "  </thead>\n",
       "  <tbody>\n",
       "    <tr>\n",
       "      <th>0</th>\n",
       "      <td>Afghanistan</td>\n",
       "      <td>8.6</td>\n",
       "      <td>2013</td>\n",
       "    </tr>\n",
       "    <tr>\n",
       "      <th>1</th>\n",
       "      <td>Afghanistan</td>\n",
       "      <td>8.8</td>\n",
       "      <td>2014</td>\n",
       "    </tr>\n",
       "    <tr>\n",
       "      <th>2</th>\n",
       "      <td>Afghanistan</td>\n",
       "      <td>8.9</td>\n",
       "      <td>2015</td>\n",
       "    </tr>\n",
       "    <tr>\n",
       "      <th>3</th>\n",
       "      <td>Afghanistan</td>\n",
       "      <td>9.7</td>\n",
       "      <td>2016</td>\n",
       "    </tr>\n",
       "    <tr>\n",
       "      <th>4</th>\n",
       "      <td>Afghanistan</td>\n",
       "      <td>10.5</td>\n",
       "      <td>2017</td>\n",
       "    </tr>\n",
       "    <tr>\n",
       "      <th>...</th>\n",
       "      <td>...</td>\n",
       "      <td>...</td>\n",
       "      <td>...</td>\n",
       "    </tr>\n",
       "    <tr>\n",
       "      <th>65</th>\n",
       "      <td>Arménie</td>\n",
       "      <td>NaN</td>\n",
       "      <td>2018</td>\n",
       "    </tr>\n",
       "    <tr>\n",
       "      <th>66</th>\n",
       "      <td>Australie</td>\n",
       "      <td>0.0</td>\n",
       "      <td>2013</td>\n",
       "    </tr>\n",
       "    <tr>\n",
       "      <th>67</th>\n",
       "      <td>Australie</td>\n",
       "      <td>0.0</td>\n",
       "      <td>2014</td>\n",
       "    </tr>\n",
       "    <tr>\n",
       "      <th>68</th>\n",
       "      <td>Australie</td>\n",
       "      <td>0.0</td>\n",
       "      <td>2015</td>\n",
       "    </tr>\n",
       "    <tr>\n",
       "      <th>69</th>\n",
       "      <td>Australie</td>\n",
       "      <td>0.0</td>\n",
       "      <td>2016</td>\n",
       "    </tr>\n",
       "  </tbody>\n",
       "</table>\n",
       "<p>70 rows × 3 columns</p>\n",
       "</div>"
      ],
      "text/plain": [
       "       pays_nut  val_nut  annee_nut\n",
       "0   Afghanistan      8.6       2013\n",
       "1   Afghanistan      8.8       2014\n",
       "2   Afghanistan      8.9       2015\n",
       "3   Afghanistan      9.7       2016\n",
       "4   Afghanistan     10.5       2017\n",
       "..          ...      ...        ...\n",
       "65      Arménie      NaN       2018\n",
       "66    Australie      0.0       2013\n",
       "67    Australie      0.0       2014\n",
       "68    Australie      0.0       2015\n",
       "69    Australie      0.0       2016\n",
       "\n",
       "[70 rows x 3 columns]"
      ]
     },
     "execution_count": 35,
     "metadata": {},
     "output_type": "execute_result"
    }
   ],
   "source": [
    "sous_nutrition.head(70)"
   ]
  },
  {
   "cell_type": "markdown",
   "id": "a3af41c1",
   "metadata": {},
   "source": [
    "Je remplace ensuite les valeurs Nan par 0,05 avec fillna()."
   ]
  },
  {
   "cell_type": "code",
   "execution_count": 36,
   "id": "9ad3cb49",
   "metadata": {},
   "outputs": [],
   "source": [
    "sous_nutrition.fillna(0.05, inplace=True)"
   ]
  },
  {
   "cell_type": "markdown",
   "id": "e0ab7a8d",
   "metadata": {},
   "source": [
    "Je remets les valeurs en forme, transformation des données en millions d'habitants. (cf doc lexique de données > x1000000)"
   ]
  },
  {
   "cell_type": "code",
   "execution_count": 37,
   "id": "543e014b",
   "metadata": {},
   "outputs": [],
   "source": [
    "sous_nutrition['val_nut']= sous_nutrition['val_nut']*1000000"
   ]
  },
  {
   "cell_type": "markdown",
   "id": "2848921e",
   "metadata": {},
   "source": [
    "Je vérifie le résultat "
   ]
  },
  {
   "cell_type": "code",
   "execution_count": 38,
   "id": "5ae0973e",
   "metadata": {},
   "outputs": [
    {
     "data": {
      "text/html": [
       "<div>\n",
       "<style scoped>\n",
       "    .dataframe tbody tr th:only-of-type {\n",
       "        vertical-align: middle;\n",
       "    }\n",
       "\n",
       "    .dataframe tbody tr th {\n",
       "        vertical-align: top;\n",
       "    }\n",
       "\n",
       "    .dataframe thead th {\n",
       "        text-align: right;\n",
       "    }\n",
       "</style>\n",
       "<table border=\"1\" class=\"dataframe\">\n",
       "  <thead>\n",
       "    <tr style=\"text-align: right;\">\n",
       "      <th></th>\n",
       "      <th>pays_nut</th>\n",
       "      <th>val_nut</th>\n",
       "      <th>annee_nut</th>\n",
       "    </tr>\n",
       "  </thead>\n",
       "  <tbody>\n",
       "    <tr>\n",
       "      <th>0</th>\n",
       "      <td>Afghanistan</td>\n",
       "      <td>8600000.0</td>\n",
       "      <td>2013</td>\n",
       "    </tr>\n",
       "    <tr>\n",
       "      <th>1</th>\n",
       "      <td>Afghanistan</td>\n",
       "      <td>8800000.0</td>\n",
       "      <td>2014</td>\n",
       "    </tr>\n",
       "    <tr>\n",
       "      <th>2</th>\n",
       "      <td>Afghanistan</td>\n",
       "      <td>8900000.0</td>\n",
       "      <td>2015</td>\n",
       "    </tr>\n",
       "    <tr>\n",
       "      <th>3</th>\n",
       "      <td>Afghanistan</td>\n",
       "      <td>9700000.0</td>\n",
       "      <td>2016</td>\n",
       "    </tr>\n",
       "    <tr>\n",
       "      <th>4</th>\n",
       "      <td>Afghanistan</td>\n",
       "      <td>10500000.0</td>\n",
       "      <td>2017</td>\n",
       "    </tr>\n",
       "    <tr>\n",
       "      <th>...</th>\n",
       "      <td>...</td>\n",
       "      <td>...</td>\n",
       "      <td>...</td>\n",
       "    </tr>\n",
       "    <tr>\n",
       "      <th>65</th>\n",
       "      <td>Arménie</td>\n",
       "      <td>50000.0</td>\n",
       "      <td>2018</td>\n",
       "    </tr>\n",
       "    <tr>\n",
       "      <th>66</th>\n",
       "      <td>Australie</td>\n",
       "      <td>0.0</td>\n",
       "      <td>2013</td>\n",
       "    </tr>\n",
       "    <tr>\n",
       "      <th>67</th>\n",
       "      <td>Australie</td>\n",
       "      <td>0.0</td>\n",
       "      <td>2014</td>\n",
       "    </tr>\n",
       "    <tr>\n",
       "      <th>68</th>\n",
       "      <td>Australie</td>\n",
       "      <td>0.0</td>\n",
       "      <td>2015</td>\n",
       "    </tr>\n",
       "    <tr>\n",
       "      <th>69</th>\n",
       "      <td>Australie</td>\n",
       "      <td>0.0</td>\n",
       "      <td>2016</td>\n",
       "    </tr>\n",
       "  </tbody>\n",
       "</table>\n",
       "<p>70 rows × 3 columns</p>\n",
       "</div>"
      ],
      "text/plain": [
       "       pays_nut     val_nut  annee_nut\n",
       "0   Afghanistan   8600000.0       2013\n",
       "1   Afghanistan   8800000.0       2014\n",
       "2   Afghanistan   8900000.0       2015\n",
       "3   Afghanistan   9700000.0       2016\n",
       "4   Afghanistan  10500000.0       2017\n",
       "..          ...         ...        ...\n",
       "65      Arménie     50000.0       2018\n",
       "66    Australie         0.0       2013\n",
       "67    Australie         0.0       2014\n",
       "68    Australie         0.0       2015\n",
       "69    Australie         0.0       2016\n",
       "\n",
       "[70 rows x 3 columns]"
      ]
     },
     "execution_count": 38,
     "metadata": {},
     "output_type": "execute_result"
    }
   ],
   "source": [
    "sous_nutrition.head(70)"
   ]
  },
  {
   "cell_type": "markdown",
   "id": "db8168cd",
   "metadata": {},
   "source": [
    "## P2 : Répondre aux demandes de Marc, chercheur en économie de la santé"
   ]
  },
  {
   "cell_type": "markdown",
   "id": "a3afeb02",
   "metadata": {},
   "source": [
    "Les demandes de Marc concernant l'étude : \n",
    "1. La proportion de personnes en état de sous-nutrition ;\n",
    "2. Le nombre théorique de personnes qui pourraient être nourries ;\n",
    "3. Idem pour la disponibilité alimentaire des produits végétaux ;\n",
    "4. L’utilisation de la disponibilité intérieure, en particulier la part qui est attribuée à l’alimentation animale, celle qui est perdue et celle qui est concrètement utilisée pour l'alimentation humaine. Je crois que Julien avait trouvé un moyen de facilement calculer ces proportions.\n",
    "\n",
    "Calcul de Julien pour calculer les proportions => Import - Export + Production = Disponibilité alimentaire par pays = Nourriture + Perte + Semence + Autres utilisations + Alimentation animale + Traitement "
   ]
  },
  {
   "cell_type": "markdown",
   "id": "bfd185a0",
   "metadata": {},
   "source": [
    "### 1. La proportion de personnes en etat de sous-nutrition (2017)"
   ]
  },
  {
   "cell_type": "markdown",
   "id": "17896e57",
   "metadata": {},
   "source": [
    "Je créé une table population 2017 (pour filtrer sur l'année 2017)."
   ]
  },
  {
   "cell_type": "code",
   "execution_count": 39,
   "id": "0ae0cf10",
   "metadata": {},
   "outputs": [],
   "source": [
    "df_pop2017 = population[population['annee_pop']==2017]"
   ]
  },
  {
   "cell_type": "markdown",
   "id": "cafc6836",
   "metadata": {},
   "source": [
    "Je vérifie le résultat."
   ]
  },
  {
   "cell_type": "code",
   "execution_count": 40,
   "id": "aa36bb36",
   "metadata": {},
   "outputs": [
    {
     "data": {
      "text/html": [
       "<div>\n",
       "<style scoped>\n",
       "    .dataframe tbody tr th:only-of-type {\n",
       "        vertical-align: middle;\n",
       "    }\n",
       "\n",
       "    .dataframe tbody tr th {\n",
       "        vertical-align: top;\n",
       "    }\n",
       "\n",
       "    .dataframe thead th {\n",
       "        text-align: right;\n",
       "    }\n",
       "</style>\n",
       "<table border=\"1\" class=\"dataframe\">\n",
       "  <thead>\n",
       "    <tr style=\"text-align: right;\">\n",
       "      <th></th>\n",
       "      <th>pays_pop</th>\n",
       "      <th>annee_pop</th>\n",
       "      <th>val_pop</th>\n",
       "    </tr>\n",
       "  </thead>\n",
       "  <tbody>\n",
       "    <tr>\n",
       "      <th>4</th>\n",
       "      <td>Afghanistan</td>\n",
       "      <td>2017</td>\n",
       "      <td>36296113.0</td>\n",
       "    </tr>\n",
       "    <tr>\n",
       "      <th>10</th>\n",
       "      <td>Afrique du Sud</td>\n",
       "      <td>2017</td>\n",
       "      <td>57009756.0</td>\n",
       "    </tr>\n",
       "    <tr>\n",
       "      <th>16</th>\n",
       "      <td>Albanie</td>\n",
       "      <td>2017</td>\n",
       "      <td>2884169.0</td>\n",
       "    </tr>\n",
       "    <tr>\n",
       "      <th>22</th>\n",
       "      <td>Algérie</td>\n",
       "      <td>2017</td>\n",
       "      <td>41389189.0</td>\n",
       "    </tr>\n",
       "    <tr>\n",
       "      <th>28</th>\n",
       "      <td>Allemagne</td>\n",
       "      <td>2017</td>\n",
       "      <td>82658409.0</td>\n",
       "    </tr>\n",
       "  </tbody>\n",
       "</table>\n",
       "</div>"
      ],
      "text/plain": [
       "          pays_pop  annee_pop     val_pop\n",
       "4      Afghanistan       2017  36296113.0\n",
       "10  Afrique du Sud       2017  57009756.0\n",
       "16         Albanie       2017   2884169.0\n",
       "22         Algérie       2017  41389189.0\n",
       "28       Allemagne       2017  82658409.0"
      ]
     },
     "execution_count": 40,
     "metadata": {},
     "output_type": "execute_result"
    }
   ],
   "source": [
    "df_pop2017.head()"
   ]
  },
  {
   "cell_type": "markdown",
   "id": "ae54ebc1",
   "metadata": {},
   "source": [
    "Je renomme la colone pays_pop en vue d'une jointure."
   ]
  },
  {
   "cell_type": "code",
   "execution_count": 41,
   "id": "657cac5d",
   "metadata": {},
   "outputs": [
    {
     "name": "stderr",
     "output_type": "stream",
     "text": [
      "/var/folders/7p/qmwkn84d5f79vzff9sdp0zq00000gn/T/ipykernel_35895/347038737.py:2: SettingWithCopyWarning: \n",
      "A value is trying to be set on a copy of a slice from a DataFrame\n",
      "\n",
      "See the caveats in the documentation: https://pandas.pydata.org/pandas-docs/stable/user_guide/indexing.html#returning-a-view-versus-a-copy\n",
      "  df_pop2017.rename(columns={'pays_pop':'pays'}, inplace=True)\n"
     ]
    }
   ],
   "source": [
    "df_pop2017.rename(columns={'pays_pop':'pays'}, inplace=True)"
   ]
  },
  {
   "cell_type": "markdown",
   "id": "47c67a39",
   "metadata": {},
   "source": [
    "Je créé une table sous_nutrition 2017 (pour filtrer sur l'année 2017)."
   ]
  },
  {
   "cell_type": "code",
   "execution_count": 42,
   "id": "5667003b",
   "metadata": {},
   "outputs": [],
   "source": [
    "df_ssnut2017 = sous_nutrition[sous_nutrition['annee_nut']==2017]"
   ]
  },
  {
   "cell_type": "markdown",
   "id": "092b2eb6",
   "metadata": {},
   "source": [
    "Je renomme la colone pays_pop en vue d'une jointure."
   ]
  },
  {
   "cell_type": "code",
   "execution_count": 43,
   "id": "069c32b0",
   "metadata": {},
   "outputs": [
    {
     "name": "stderr",
     "output_type": "stream",
     "text": [
      "/var/folders/7p/qmwkn84d5f79vzff9sdp0zq00000gn/T/ipykernel_35895/1938398722.py:2: SettingWithCopyWarning: \n",
      "A value is trying to be set on a copy of a slice from a DataFrame\n",
      "\n",
      "See the caveats in the documentation: https://pandas.pydata.org/pandas-docs/stable/user_guide/indexing.html#returning-a-view-versus-a-copy\n",
      "  df_ssnut2017.rename(columns={'pays_nut':'pays'}, inplace=True)\n"
     ]
    }
   ],
   "source": [
    "df_ssnut2017.rename(columns={'pays_nut':'pays'}, inplace=True)"
   ]
  },
  {
   "cell_type": "markdown",
   "id": "7b0e2b5b",
   "metadata": {},
   "source": [
    "Je vérifie le résultat."
   ]
  },
  {
   "cell_type": "code",
   "execution_count": 44,
   "id": "30dadc16",
   "metadata": {},
   "outputs": [
    {
     "data": {
      "text/html": [
       "<div>\n",
       "<style scoped>\n",
       "    .dataframe tbody tr th:only-of-type {\n",
       "        vertical-align: middle;\n",
       "    }\n",
       "\n",
       "    .dataframe tbody tr th {\n",
       "        vertical-align: top;\n",
       "    }\n",
       "\n",
       "    .dataframe thead th {\n",
       "        text-align: right;\n",
       "    }\n",
       "</style>\n",
       "<table border=\"1\" class=\"dataframe\">\n",
       "  <thead>\n",
       "    <tr style=\"text-align: right;\">\n",
       "      <th></th>\n",
       "      <th>pays</th>\n",
       "      <th>val_nut</th>\n",
       "      <th>annee_nut</th>\n",
       "    </tr>\n",
       "  </thead>\n",
       "  <tbody>\n",
       "    <tr>\n",
       "      <th>4</th>\n",
       "      <td>Afghanistan</td>\n",
       "      <td>10500000.0</td>\n",
       "      <td>2017</td>\n",
       "    </tr>\n",
       "    <tr>\n",
       "      <th>10</th>\n",
       "      <td>Afrique du Sud</td>\n",
       "      <td>3100000.0</td>\n",
       "      <td>2017</td>\n",
       "    </tr>\n",
       "    <tr>\n",
       "      <th>16</th>\n",
       "      <td>Albanie</td>\n",
       "      <td>100000.0</td>\n",
       "      <td>2017</td>\n",
       "    </tr>\n",
       "    <tr>\n",
       "      <th>22</th>\n",
       "      <td>Algérie</td>\n",
       "      <td>1300000.0</td>\n",
       "      <td>2017</td>\n",
       "    </tr>\n",
       "    <tr>\n",
       "      <th>28</th>\n",
       "      <td>Allemagne</td>\n",
       "      <td>0.0</td>\n",
       "      <td>2017</td>\n",
       "    </tr>\n",
       "  </tbody>\n",
       "</table>\n",
       "</div>"
      ],
      "text/plain": [
       "              pays     val_nut  annee_nut\n",
       "4      Afghanistan  10500000.0       2017\n",
       "10  Afrique du Sud   3100000.0       2017\n",
       "16         Albanie    100000.0       2017\n",
       "22         Algérie   1300000.0       2017\n",
       "28       Allemagne         0.0       2017"
      ]
     },
     "execution_count": 44,
     "metadata": {},
     "output_type": "execute_result"
    }
   ],
   "source": [
    "df_ssnut2017.head()"
   ]
  },
  {
   "cell_type": "markdown",
   "id": "23fd9d00",
   "metadata": {},
   "source": [
    "Je joins les deux nouvelles tables filtrer sur 2017 sur leur colonne commune : 'pays' en créant une nouvelle table."
   ]
  },
  {
   "cell_type": "code",
   "execution_count": 45,
   "id": "75446dd6",
   "metadata": {},
   "outputs": [],
   "source": [
    "df_popandnut2017 = pd.merge(df_pop2017,df_ssnut2017, on='pays', how='left')"
   ]
  },
  {
   "cell_type": "markdown",
   "id": "843d7f50",
   "metadata": {},
   "source": [
    "Je vérifie le résultat."
   ]
  },
  {
   "cell_type": "code",
   "execution_count": 46,
   "id": "1a52fe77",
   "metadata": {},
   "outputs": [
    {
     "data": {
      "text/html": [
       "<div>\n",
       "<style scoped>\n",
       "    .dataframe tbody tr th:only-of-type {\n",
       "        vertical-align: middle;\n",
       "    }\n",
       "\n",
       "    .dataframe tbody tr th {\n",
       "        vertical-align: top;\n",
       "    }\n",
       "\n",
       "    .dataframe thead th {\n",
       "        text-align: right;\n",
       "    }\n",
       "</style>\n",
       "<table border=\"1\" class=\"dataframe\">\n",
       "  <thead>\n",
       "    <tr style=\"text-align: right;\">\n",
       "      <th></th>\n",
       "      <th>pays</th>\n",
       "      <th>annee_pop</th>\n",
       "      <th>val_pop</th>\n",
       "      <th>val_nut</th>\n",
       "      <th>annee_nut</th>\n",
       "    </tr>\n",
       "  </thead>\n",
       "  <tbody>\n",
       "    <tr>\n",
       "      <th>0</th>\n",
       "      <td>Afghanistan</td>\n",
       "      <td>2017</td>\n",
       "      <td>36296113.0</td>\n",
       "      <td>10500000.0</td>\n",
       "      <td>2017.0</td>\n",
       "    </tr>\n",
       "    <tr>\n",
       "      <th>1</th>\n",
       "      <td>Afrique du Sud</td>\n",
       "      <td>2017</td>\n",
       "      <td>57009756.0</td>\n",
       "      <td>3100000.0</td>\n",
       "      <td>2017.0</td>\n",
       "    </tr>\n",
       "    <tr>\n",
       "      <th>2</th>\n",
       "      <td>Albanie</td>\n",
       "      <td>2017</td>\n",
       "      <td>2884169.0</td>\n",
       "      <td>100000.0</td>\n",
       "      <td>2017.0</td>\n",
       "    </tr>\n",
       "    <tr>\n",
       "      <th>3</th>\n",
       "      <td>Algérie</td>\n",
       "      <td>2017</td>\n",
       "      <td>41389189.0</td>\n",
       "      <td>1300000.0</td>\n",
       "      <td>2017.0</td>\n",
       "    </tr>\n",
       "    <tr>\n",
       "      <th>4</th>\n",
       "      <td>Allemagne</td>\n",
       "      <td>2017</td>\n",
       "      <td>82658409.0</td>\n",
       "      <td>0.0</td>\n",
       "      <td>2017.0</td>\n",
       "    </tr>\n",
       "  </tbody>\n",
       "</table>\n",
       "</div>"
      ],
      "text/plain": [
       "             pays  annee_pop     val_pop     val_nut  annee_nut\n",
       "0     Afghanistan       2017  36296113.0  10500000.0     2017.0\n",
       "1  Afrique du Sud       2017  57009756.0   3100000.0     2017.0\n",
       "2         Albanie       2017   2884169.0    100000.0     2017.0\n",
       "3         Algérie       2017  41389189.0   1300000.0     2017.0\n",
       "4       Allemagne       2017  82658409.0         0.0     2017.0"
      ]
     },
     "execution_count": 46,
     "metadata": {},
     "output_type": "execute_result"
    }
   ],
   "source": [
    "df_popandnut2017.head()"
   ]
  },
  {
   "cell_type": "markdown",
   "id": "d1306353",
   "metadata": {},
   "source": [
    "Je calcule la proportion demander."
   ]
  },
  {
   "cell_type": "code",
   "execution_count": 47,
   "id": "a81326d9",
   "metadata": {},
   "outputs": [
    {
     "name": "stdout",
     "output_type": "stream",
     "text": [
      "7.11\n"
     ]
    }
   ],
   "source": [
    "prop_pers_sous_nutrition = round(100*(df_popandnut2017['val_nut'].sum()/df_popandnut2017['val_pop'].sum()),2)\n",
    "print(prop_pers_sous_nutrition)"
   ]
  },
  {
   "cell_type": "markdown",
   "id": "60617330",
   "metadata": {},
   "source": [
    "J'affiche le résultat."
   ]
  },
  {
   "cell_type": "code",
   "execution_count": 48,
   "id": "abfb80b1",
   "metadata": {},
   "outputs": [
    {
     "name": "stdout",
     "output_type": "stream",
     "text": [
      "La proportion de personnes en état de sous-nutrition en 2017 est de 7.11 %.\n"
     ]
    }
   ],
   "source": [
    "print(\"La proportion de personnes en état de sous-nutrition en 2017 est de\",  prop_pers_sous_nutrition, '%.')"
   ]
  },
  {
   "cell_type": "markdown",
   "id": "848df0a6",
   "metadata": {},
   "source": [
    "### 2. Le nombre théorique de personnes qui pourraient être nourries."
   ]
  },
  {
   "cell_type": "markdown",
   "id": "0254b2c2",
   "metadata": {},
   "source": [
    "Je créé une table dispo_alim avec une .groupby pays afin d'avoir les infos regroupés par pays et je vérifie le résultat."
   ]
  },
  {
   "cell_type": "code",
   "execution_count": 49,
   "id": "52d81d3e",
   "metadata": {},
   "outputs": [
    {
     "data": {
      "text/html": [
       "<div>\n",
       "<style scoped>\n",
       "    .dataframe tbody tr th:only-of-type {\n",
       "        vertical-align: middle;\n",
       "    }\n",
       "\n",
       "    .dataframe tbody tr th {\n",
       "        vertical-align: top;\n",
       "    }\n",
       "\n",
       "    .dataframe thead th {\n",
       "        text-align: right;\n",
       "    }\n",
       "</style>\n",
       "<table border=\"1\" class=\"dataframe\">\n",
       "  <thead>\n",
       "    <tr style=\"text-align: right;\">\n",
       "      <th></th>\n",
       "      <th>alim_animaux</th>\n",
       "      <th>autres_utilisations</th>\n",
       "      <th>dispo_alim_cal_pers_jour</th>\n",
       "      <th>dispo_alim_qte_kg_pers_an</th>\n",
       "      <th>dispo_mg_qte_kg_pers_jour</th>\n",
       "      <th>dispo_prot_qte_kg_pers_jour</th>\n",
       "      <th>dispo_pays</th>\n",
       "      <th>export_qte</th>\n",
       "      <th>import_qte</th>\n",
       "      <th>nourriture</th>\n",
       "      <th>pertes</th>\n",
       "      <th>production</th>\n",
       "      <th>semences</th>\n",
       "      <th>traitement</th>\n",
       "      <th>variation_stock</th>\n",
       "    </tr>\n",
       "    <tr>\n",
       "      <th>pays</th>\n",
       "      <th></th>\n",
       "      <th></th>\n",
       "      <th></th>\n",
       "      <th></th>\n",
       "      <th></th>\n",
       "      <th></th>\n",
       "      <th></th>\n",
       "      <th></th>\n",
       "      <th></th>\n",
       "      <th></th>\n",
       "      <th></th>\n",
       "      <th></th>\n",
       "      <th></th>\n",
       "      <th></th>\n",
       "      <th></th>\n",
       "    </tr>\n",
       "  </thead>\n",
       "  <tbody>\n",
       "    <tr>\n",
       "      <th>Afghanistan</th>\n",
       "      <td>7.680000e+08</td>\n",
       "      <td>415.0</td>\n",
       "      <td>2087.0</td>\n",
       "      <td>351.41</td>\n",
       "      <td>0.03350</td>\n",
       "      <td>0.05826</td>\n",
       "      <td>1.351500e+10</td>\n",
       "      <td>2.780000e+08</td>\n",
       "      <td>2.988000e+09</td>\n",
       "      <td>1.073500e+10</td>\n",
       "      <td>1.135000e+09</td>\n",
       "      <td>1.117100e+10</td>\n",
       "      <td>3.950000e+08</td>\n",
       "      <td>6.300000e+07</td>\n",
       "      <td>-3.680000e+08</td>\n",
       "    </tr>\n",
       "    <tr>\n",
       "      <th>Afrique du Sud</th>\n",
       "      <td>5.309000e+09</td>\n",
       "      <td>876.0</td>\n",
       "      <td>3020.0</td>\n",
       "      <td>564.80</td>\n",
       "      <td>0.08358</td>\n",
       "      <td>0.08533</td>\n",
       "      <td>6.125600e+10</td>\n",
       "      <td>1.167400e+10</td>\n",
       "      <td>7.517000e+09</td>\n",
       "      <td>2.981200e+10</td>\n",
       "      <td>2.193000e+09</td>\n",
       "      <td>6.326300e+10</td>\n",
       "      <td>2.530000e+08</td>\n",
       "      <td>2.281900e+10</td>\n",
       "      <td>2.153000e+09</td>\n",
       "    </tr>\n",
       "    <tr>\n",
       "      <th>Albanie</th>\n",
       "      <td>6.600000e+08</td>\n",
       "      <td>174.0</td>\n",
       "      <td>3188.0</td>\n",
       "      <td>1095.54</td>\n",
       "      <td>0.10648</td>\n",
       "      <td>0.11137</td>\n",
       "      <td>4.758000e+09</td>\n",
       "      <td>9.400000e+07</td>\n",
       "      <td>9.330000e+08</td>\n",
       "      <td>3.476000e+09</td>\n",
       "      <td>2.760000e+08</td>\n",
       "      <td>3.964000e+09</td>\n",
       "      <td>5.500000e+07</td>\n",
       "      <td>1.130000e+08</td>\n",
       "      <td>-4.500000e+07</td>\n",
       "    </tr>\n",
       "    <tr>\n",
       "      <th>Algérie</th>\n",
       "      <td>4.352000e+09</td>\n",
       "      <td>1707.0</td>\n",
       "      <td>3293.0</td>\n",
       "      <td>809.13</td>\n",
       "      <td>0.07648</td>\n",
       "      <td>0.09192</td>\n",
       "      <td>4.263000e+10</td>\n",
       "      <td>6.550000e+08</td>\n",
       "      <td>1.740300e+10</td>\n",
       "      <td>3.172900e+10</td>\n",
       "      <td>3.753000e+09</td>\n",
       "      <td>2.635900e+10</td>\n",
       "      <td>4.490000e+08</td>\n",
       "      <td>6.370000e+08</td>\n",
       "      <td>-4.790000e+08</td>\n",
       "    </tr>\n",
       "    <tr>\n",
       "      <th>Allemagne</th>\n",
       "      <td>3.020900e+10</td>\n",
       "      <td>7711.0</td>\n",
       "      <td>3503.0</td>\n",
       "      <td>957.52</td>\n",
       "      <td>0.14162</td>\n",
       "      <td>0.10139</td>\n",
       "      <td>1.622750e+11</td>\n",
       "      <td>5.743100e+10</td>\n",
       "      <td>6.535300e+10</td>\n",
       "      <td>7.923800e+10</td>\n",
       "      <td>3.781000e+09</td>\n",
       "      <td>1.545470e+11</td>\n",
       "      <td>1.551000e+09</td>\n",
       "      <td>3.984200e+10</td>\n",
       "      <td>-1.920000e+08</td>\n",
       "    </tr>\n",
       "  </tbody>\n",
       "</table>\n",
       "</div>"
      ],
      "text/plain": [
       "                alim_animaux  autres_utilisations  dispo_alim_cal_pers_jour  \\\n",
       "pays                                                                          \n",
       "Afghanistan     7.680000e+08                415.0                    2087.0   \n",
       "Afrique du Sud  5.309000e+09                876.0                    3020.0   \n",
       "Albanie         6.600000e+08                174.0                    3188.0   \n",
       "Algérie         4.352000e+09               1707.0                    3293.0   \n",
       "Allemagne       3.020900e+10               7711.0                    3503.0   \n",
       "\n",
       "                dispo_alim_qte_kg_pers_an  dispo_mg_qte_kg_pers_jour  \\\n",
       "pays                                                                   \n",
       "Afghanistan                        351.41                    0.03350   \n",
       "Afrique du Sud                     564.80                    0.08358   \n",
       "Albanie                           1095.54                    0.10648   \n",
       "Algérie                            809.13                    0.07648   \n",
       "Allemagne                          957.52                    0.14162   \n",
       "\n",
       "                dispo_prot_qte_kg_pers_jour    dispo_pays    export_qte  \\\n",
       "pays                                                                      \n",
       "Afghanistan                         0.05826  1.351500e+10  2.780000e+08   \n",
       "Afrique du Sud                      0.08533  6.125600e+10  1.167400e+10   \n",
       "Albanie                             0.11137  4.758000e+09  9.400000e+07   \n",
       "Algérie                             0.09192  4.263000e+10  6.550000e+08   \n",
       "Allemagne                           0.10139  1.622750e+11  5.743100e+10   \n",
       "\n",
       "                  import_qte    nourriture        pertes    production  \\\n",
       "pays                                                                     \n",
       "Afghanistan     2.988000e+09  1.073500e+10  1.135000e+09  1.117100e+10   \n",
       "Afrique du Sud  7.517000e+09  2.981200e+10  2.193000e+09  6.326300e+10   \n",
       "Albanie         9.330000e+08  3.476000e+09  2.760000e+08  3.964000e+09   \n",
       "Algérie         1.740300e+10  3.172900e+10  3.753000e+09  2.635900e+10   \n",
       "Allemagne       6.535300e+10  7.923800e+10  3.781000e+09  1.545470e+11   \n",
       "\n",
       "                    semences    traitement  variation_stock  \n",
       "pays                                                         \n",
       "Afghanistan     3.950000e+08  6.300000e+07    -3.680000e+08  \n",
       "Afrique du Sud  2.530000e+08  2.281900e+10     2.153000e+09  \n",
       "Albanie         5.500000e+07  1.130000e+08    -4.500000e+07  \n",
       "Algérie         4.490000e+08  6.370000e+08    -4.790000e+08  \n",
       "Allemagne       1.551000e+09  3.984200e+10    -1.920000e+08  "
      ]
     },
     "execution_count": 49,
     "metadata": {},
     "output_type": "execute_result"
    }
   ],
   "source": [
    "dispo_alim_group_pays = dispo_alim.groupby(dispo_alim['pays']).sum()\n",
    "dispo_alim_group_pays.head()"
   ]
  },
  {
   "cell_type": "markdown",
   "id": "8566eb38",
   "metadata": {},
   "source": [
    "Je fais une jointure avec ma table population 2017 (df_pop2017) en créant une nouvelle table et je vérifie le résultat."
   ]
  },
  {
   "cell_type": "code",
   "execution_count": 50,
   "id": "5f12aff7",
   "metadata": {},
   "outputs": [
    {
     "data": {
      "text/html": [
       "<div>\n",
       "<style scoped>\n",
       "    .dataframe tbody tr th:only-of-type {\n",
       "        vertical-align: middle;\n",
       "    }\n",
       "\n",
       "    .dataframe tbody tr th {\n",
       "        vertical-align: top;\n",
       "    }\n",
       "\n",
       "    .dataframe thead th {\n",
       "        text-align: right;\n",
       "    }\n",
       "</style>\n",
       "<table border=\"1\" class=\"dataframe\">\n",
       "  <thead>\n",
       "    <tr style=\"text-align: right;\">\n",
       "      <th></th>\n",
       "      <th>pays</th>\n",
       "      <th>alim_animaux</th>\n",
       "      <th>autres_utilisations</th>\n",
       "      <th>dispo_alim_cal_pers_jour</th>\n",
       "      <th>dispo_alim_qte_kg_pers_an</th>\n",
       "      <th>dispo_mg_qte_kg_pers_jour</th>\n",
       "      <th>dispo_prot_qte_kg_pers_jour</th>\n",
       "      <th>dispo_pays</th>\n",
       "      <th>export_qte</th>\n",
       "      <th>import_qte</th>\n",
       "      <th>nourriture</th>\n",
       "      <th>pertes</th>\n",
       "      <th>production</th>\n",
       "      <th>semences</th>\n",
       "      <th>traitement</th>\n",
       "      <th>variation_stock</th>\n",
       "      <th>annee_pop</th>\n",
       "      <th>val_pop</th>\n",
       "    </tr>\n",
       "  </thead>\n",
       "  <tbody>\n",
       "    <tr>\n",
       "      <th>0</th>\n",
       "      <td>Afghanistan</td>\n",
       "      <td>7.680000e+08</td>\n",
       "      <td>415.0</td>\n",
       "      <td>2087.0</td>\n",
       "      <td>351.41</td>\n",
       "      <td>0.03350</td>\n",
       "      <td>0.05826</td>\n",
       "      <td>1.351500e+10</td>\n",
       "      <td>2.780000e+08</td>\n",
       "      <td>2.988000e+09</td>\n",
       "      <td>1.073500e+10</td>\n",
       "      <td>1.135000e+09</td>\n",
       "      <td>1.117100e+10</td>\n",
       "      <td>3.950000e+08</td>\n",
       "      <td>6.300000e+07</td>\n",
       "      <td>-3.680000e+08</td>\n",
       "      <td>2017.0</td>\n",
       "      <td>36296113.0</td>\n",
       "    </tr>\n",
       "    <tr>\n",
       "      <th>1</th>\n",
       "      <td>Afrique du Sud</td>\n",
       "      <td>5.309000e+09</td>\n",
       "      <td>876.0</td>\n",
       "      <td>3020.0</td>\n",
       "      <td>564.80</td>\n",
       "      <td>0.08358</td>\n",
       "      <td>0.08533</td>\n",
       "      <td>6.125600e+10</td>\n",
       "      <td>1.167400e+10</td>\n",
       "      <td>7.517000e+09</td>\n",
       "      <td>2.981200e+10</td>\n",
       "      <td>2.193000e+09</td>\n",
       "      <td>6.326300e+10</td>\n",
       "      <td>2.530000e+08</td>\n",
       "      <td>2.281900e+10</td>\n",
       "      <td>2.153000e+09</td>\n",
       "      <td>2017.0</td>\n",
       "      <td>57009756.0</td>\n",
       "    </tr>\n",
       "    <tr>\n",
       "      <th>2</th>\n",
       "      <td>Albanie</td>\n",
       "      <td>6.600000e+08</td>\n",
       "      <td>174.0</td>\n",
       "      <td>3188.0</td>\n",
       "      <td>1095.54</td>\n",
       "      <td>0.10648</td>\n",
       "      <td>0.11137</td>\n",
       "      <td>4.758000e+09</td>\n",
       "      <td>9.400000e+07</td>\n",
       "      <td>9.330000e+08</td>\n",
       "      <td>3.476000e+09</td>\n",
       "      <td>2.760000e+08</td>\n",
       "      <td>3.964000e+09</td>\n",
       "      <td>5.500000e+07</td>\n",
       "      <td>1.130000e+08</td>\n",
       "      <td>-4.500000e+07</td>\n",
       "      <td>2017.0</td>\n",
       "      <td>2884169.0</td>\n",
       "    </tr>\n",
       "    <tr>\n",
       "      <th>3</th>\n",
       "      <td>Algérie</td>\n",
       "      <td>4.352000e+09</td>\n",
       "      <td>1707.0</td>\n",
       "      <td>3293.0</td>\n",
       "      <td>809.13</td>\n",
       "      <td>0.07648</td>\n",
       "      <td>0.09192</td>\n",
       "      <td>4.263000e+10</td>\n",
       "      <td>6.550000e+08</td>\n",
       "      <td>1.740300e+10</td>\n",
       "      <td>3.172900e+10</td>\n",
       "      <td>3.753000e+09</td>\n",
       "      <td>2.635900e+10</td>\n",
       "      <td>4.490000e+08</td>\n",
       "      <td>6.370000e+08</td>\n",
       "      <td>-4.790000e+08</td>\n",
       "      <td>2017.0</td>\n",
       "      <td>41389189.0</td>\n",
       "    </tr>\n",
       "    <tr>\n",
       "      <th>4</th>\n",
       "      <td>Allemagne</td>\n",
       "      <td>3.020900e+10</td>\n",
       "      <td>7711.0</td>\n",
       "      <td>3503.0</td>\n",
       "      <td>957.52</td>\n",
       "      <td>0.14162</td>\n",
       "      <td>0.10139</td>\n",
       "      <td>1.622750e+11</td>\n",
       "      <td>5.743100e+10</td>\n",
       "      <td>6.535300e+10</td>\n",
       "      <td>7.923800e+10</td>\n",
       "      <td>3.781000e+09</td>\n",
       "      <td>1.545470e+11</td>\n",
       "      <td>1.551000e+09</td>\n",
       "      <td>3.984200e+10</td>\n",
       "      <td>-1.920000e+08</td>\n",
       "      <td>2017.0</td>\n",
       "      <td>82658409.0</td>\n",
       "    </tr>\n",
       "  </tbody>\n",
       "</table>\n",
       "</div>"
      ],
      "text/plain": [
       "             pays  alim_animaux  autres_utilisations  \\\n",
       "0     Afghanistan  7.680000e+08                415.0   \n",
       "1  Afrique du Sud  5.309000e+09                876.0   \n",
       "2         Albanie  6.600000e+08                174.0   \n",
       "3         Algérie  4.352000e+09               1707.0   \n",
       "4       Allemagne  3.020900e+10               7711.0   \n",
       "\n",
       "   dispo_alim_cal_pers_jour  dispo_alim_qte_kg_pers_an  \\\n",
       "0                    2087.0                     351.41   \n",
       "1                    3020.0                     564.80   \n",
       "2                    3188.0                    1095.54   \n",
       "3                    3293.0                     809.13   \n",
       "4                    3503.0                     957.52   \n",
       "\n",
       "   dispo_mg_qte_kg_pers_jour  dispo_prot_qte_kg_pers_jour    dispo_pays  \\\n",
       "0                    0.03350                      0.05826  1.351500e+10   \n",
       "1                    0.08358                      0.08533  6.125600e+10   \n",
       "2                    0.10648                      0.11137  4.758000e+09   \n",
       "3                    0.07648                      0.09192  4.263000e+10   \n",
       "4                    0.14162                      0.10139  1.622750e+11   \n",
       "\n",
       "     export_qte    import_qte    nourriture        pertes    production  \\\n",
       "0  2.780000e+08  2.988000e+09  1.073500e+10  1.135000e+09  1.117100e+10   \n",
       "1  1.167400e+10  7.517000e+09  2.981200e+10  2.193000e+09  6.326300e+10   \n",
       "2  9.400000e+07  9.330000e+08  3.476000e+09  2.760000e+08  3.964000e+09   \n",
       "3  6.550000e+08  1.740300e+10  3.172900e+10  3.753000e+09  2.635900e+10   \n",
       "4  5.743100e+10  6.535300e+10  7.923800e+10  3.781000e+09  1.545470e+11   \n",
       "\n",
       "       semences    traitement  variation_stock  annee_pop     val_pop  \n",
       "0  3.950000e+08  6.300000e+07    -3.680000e+08     2017.0  36296113.0  \n",
       "1  2.530000e+08  2.281900e+10     2.153000e+09     2017.0  57009756.0  \n",
       "2  5.500000e+07  1.130000e+08    -4.500000e+07     2017.0   2884169.0  \n",
       "3  4.490000e+08  6.370000e+08    -4.790000e+08     2017.0  41389189.0  \n",
       "4  1.551000e+09  3.984200e+10    -1.920000e+08     2017.0  82658409.0  "
      ]
     },
     "execution_count": 50,
     "metadata": {},
     "output_type": "execute_result"
    }
   ],
   "source": [
    "pop_dispo_alim2017 = pd.merge(dispo_alim_group_pays, df_pop2017, on='pays', how='left')\n",
    "pop_dispo_alim2017.head()"
   ]
  },
  {
   "cell_type": "markdown",
   "id": "97f3d1e7",
   "metadata": {},
   "source": [
    "Grâce aux informations sur la population je vais calculer le nombre de calorie dispo par pays et par jour."
   ]
  },
  {
   "cell_type": "code",
   "execution_count": 51,
   "id": "5c2ae6b0",
   "metadata": {},
   "outputs": [
    {
     "data": {
      "text/html": [
       "<div>\n",
       "<style scoped>\n",
       "    .dataframe tbody tr th:only-of-type {\n",
       "        vertical-align: middle;\n",
       "    }\n",
       "\n",
       "    .dataframe tbody tr th {\n",
       "        vertical-align: top;\n",
       "    }\n",
       "\n",
       "    .dataframe thead th {\n",
       "        text-align: right;\n",
       "    }\n",
       "</style>\n",
       "<table border=\"1\" class=\"dataframe\">\n",
       "  <thead>\n",
       "    <tr style=\"text-align: right;\">\n",
       "      <th></th>\n",
       "      <th>pays</th>\n",
       "      <th>alim_animaux</th>\n",
       "      <th>autres_utilisations</th>\n",
       "      <th>dispo_alim_cal_pers_jour</th>\n",
       "      <th>dispo_alim_qte_kg_pers_an</th>\n",
       "      <th>dispo_mg_qte_kg_pers_jour</th>\n",
       "      <th>dispo_prot_qte_kg_pers_jour</th>\n",
       "      <th>dispo_pays</th>\n",
       "      <th>export_qte</th>\n",
       "      <th>import_qte</th>\n",
       "      <th>nourriture</th>\n",
       "      <th>pertes</th>\n",
       "      <th>production</th>\n",
       "      <th>semences</th>\n",
       "      <th>traitement</th>\n",
       "      <th>variation_stock</th>\n",
       "      <th>annee_pop</th>\n",
       "      <th>val_pop</th>\n",
       "      <th>dispo_alim_cal_jour_pays</th>\n",
       "    </tr>\n",
       "  </thead>\n",
       "  <tbody>\n",
       "    <tr>\n",
       "      <th>0</th>\n",
       "      <td>Afghanistan</td>\n",
       "      <td>7.680000e+08</td>\n",
       "      <td>415.0</td>\n",
       "      <td>2087.0</td>\n",
       "      <td>351.41</td>\n",
       "      <td>0.03350</td>\n",
       "      <td>0.05826</td>\n",
       "      <td>1.351500e+10</td>\n",
       "      <td>2.780000e+08</td>\n",
       "      <td>2.988000e+09</td>\n",
       "      <td>1.073500e+10</td>\n",
       "      <td>1.135000e+09</td>\n",
       "      <td>1.117100e+10</td>\n",
       "      <td>3.950000e+08</td>\n",
       "      <td>6.300000e+07</td>\n",
       "      <td>-3.680000e+08</td>\n",
       "      <td>2017.0</td>\n",
       "      <td>36296113.0</td>\n",
       "      <td>7.574999e+10</td>\n",
       "    </tr>\n",
       "    <tr>\n",
       "      <th>1</th>\n",
       "      <td>Afrique du Sud</td>\n",
       "      <td>5.309000e+09</td>\n",
       "      <td>876.0</td>\n",
       "      <td>3020.0</td>\n",
       "      <td>564.80</td>\n",
       "      <td>0.08358</td>\n",
       "      <td>0.08533</td>\n",
       "      <td>6.125600e+10</td>\n",
       "      <td>1.167400e+10</td>\n",
       "      <td>7.517000e+09</td>\n",
       "      <td>2.981200e+10</td>\n",
       "      <td>2.193000e+09</td>\n",
       "      <td>6.326300e+10</td>\n",
       "      <td>2.530000e+08</td>\n",
       "      <td>2.281900e+10</td>\n",
       "      <td>2.153000e+09</td>\n",
       "      <td>2017.0</td>\n",
       "      <td>57009756.0</td>\n",
       "      <td>1.721695e+11</td>\n",
       "    </tr>\n",
       "    <tr>\n",
       "      <th>2</th>\n",
       "      <td>Albanie</td>\n",
       "      <td>6.600000e+08</td>\n",
       "      <td>174.0</td>\n",
       "      <td>3188.0</td>\n",
       "      <td>1095.54</td>\n",
       "      <td>0.10648</td>\n",
       "      <td>0.11137</td>\n",
       "      <td>4.758000e+09</td>\n",
       "      <td>9.400000e+07</td>\n",
       "      <td>9.330000e+08</td>\n",
       "      <td>3.476000e+09</td>\n",
       "      <td>2.760000e+08</td>\n",
       "      <td>3.964000e+09</td>\n",
       "      <td>5.500000e+07</td>\n",
       "      <td>1.130000e+08</td>\n",
       "      <td>-4.500000e+07</td>\n",
       "      <td>2017.0</td>\n",
       "      <td>2884169.0</td>\n",
       "      <td>9.194731e+09</td>\n",
       "    </tr>\n",
       "    <tr>\n",
       "      <th>3</th>\n",
       "      <td>Algérie</td>\n",
       "      <td>4.352000e+09</td>\n",
       "      <td>1707.0</td>\n",
       "      <td>3293.0</td>\n",
       "      <td>809.13</td>\n",
       "      <td>0.07648</td>\n",
       "      <td>0.09192</td>\n",
       "      <td>4.263000e+10</td>\n",
       "      <td>6.550000e+08</td>\n",
       "      <td>1.740300e+10</td>\n",
       "      <td>3.172900e+10</td>\n",
       "      <td>3.753000e+09</td>\n",
       "      <td>2.635900e+10</td>\n",
       "      <td>4.490000e+08</td>\n",
       "      <td>6.370000e+08</td>\n",
       "      <td>-4.790000e+08</td>\n",
       "      <td>2017.0</td>\n",
       "      <td>41389189.0</td>\n",
       "      <td>1.362946e+11</td>\n",
       "    </tr>\n",
       "    <tr>\n",
       "      <th>4</th>\n",
       "      <td>Allemagne</td>\n",
       "      <td>3.020900e+10</td>\n",
       "      <td>7711.0</td>\n",
       "      <td>3503.0</td>\n",
       "      <td>957.52</td>\n",
       "      <td>0.14162</td>\n",
       "      <td>0.10139</td>\n",
       "      <td>1.622750e+11</td>\n",
       "      <td>5.743100e+10</td>\n",
       "      <td>6.535300e+10</td>\n",
       "      <td>7.923800e+10</td>\n",
       "      <td>3.781000e+09</td>\n",
       "      <td>1.545470e+11</td>\n",
       "      <td>1.551000e+09</td>\n",
       "      <td>3.984200e+10</td>\n",
       "      <td>-1.920000e+08</td>\n",
       "      <td>2017.0</td>\n",
       "      <td>82658409.0</td>\n",
       "      <td>2.895524e+11</td>\n",
       "    </tr>\n",
       "  </tbody>\n",
       "</table>\n",
       "</div>"
      ],
      "text/plain": [
       "             pays  alim_animaux  autres_utilisations  \\\n",
       "0     Afghanistan  7.680000e+08                415.0   \n",
       "1  Afrique du Sud  5.309000e+09                876.0   \n",
       "2         Albanie  6.600000e+08                174.0   \n",
       "3         Algérie  4.352000e+09               1707.0   \n",
       "4       Allemagne  3.020900e+10               7711.0   \n",
       "\n",
       "   dispo_alim_cal_pers_jour  dispo_alim_qte_kg_pers_an  \\\n",
       "0                    2087.0                     351.41   \n",
       "1                    3020.0                     564.80   \n",
       "2                    3188.0                    1095.54   \n",
       "3                    3293.0                     809.13   \n",
       "4                    3503.0                     957.52   \n",
       "\n",
       "   dispo_mg_qte_kg_pers_jour  dispo_prot_qte_kg_pers_jour    dispo_pays  \\\n",
       "0                    0.03350                      0.05826  1.351500e+10   \n",
       "1                    0.08358                      0.08533  6.125600e+10   \n",
       "2                    0.10648                      0.11137  4.758000e+09   \n",
       "3                    0.07648                      0.09192  4.263000e+10   \n",
       "4                    0.14162                      0.10139  1.622750e+11   \n",
       "\n",
       "     export_qte    import_qte    nourriture        pertes    production  \\\n",
       "0  2.780000e+08  2.988000e+09  1.073500e+10  1.135000e+09  1.117100e+10   \n",
       "1  1.167400e+10  7.517000e+09  2.981200e+10  2.193000e+09  6.326300e+10   \n",
       "2  9.400000e+07  9.330000e+08  3.476000e+09  2.760000e+08  3.964000e+09   \n",
       "3  6.550000e+08  1.740300e+10  3.172900e+10  3.753000e+09  2.635900e+10   \n",
       "4  5.743100e+10  6.535300e+10  7.923800e+10  3.781000e+09  1.545470e+11   \n",
       "\n",
       "       semences    traitement  variation_stock  annee_pop     val_pop  \\\n",
       "0  3.950000e+08  6.300000e+07    -3.680000e+08     2017.0  36296113.0   \n",
       "1  2.530000e+08  2.281900e+10     2.153000e+09     2017.0  57009756.0   \n",
       "2  5.500000e+07  1.130000e+08    -4.500000e+07     2017.0   2884169.0   \n",
       "3  4.490000e+08  6.370000e+08    -4.790000e+08     2017.0  41389189.0   \n",
       "4  1.551000e+09  3.984200e+10    -1.920000e+08     2017.0  82658409.0   \n",
       "\n",
       "   dispo_alim_cal_jour_pays  \n",
       "0              7.574999e+10  \n",
       "1              1.721695e+11  \n",
       "2              9.194731e+09  \n",
       "3              1.362946e+11  \n",
       "4              2.895524e+11  "
      ]
     },
     "execution_count": 51,
     "metadata": {},
     "output_type": "execute_result"
    }
   ],
   "source": [
    "pop_dispo_alim2017['dispo_alim_cal_jour_pays']= pop_dispo_alim2017['dispo_alim_cal_pers_jour']*pop_dispo_alim2017['val_pop']\n",
    "pop_dispo_alim2017.head()"
   ]
  },
  {
   "cell_type": "markdown",
   "id": "dddea063",
   "metadata": {},
   "source": [
    "Ensuite je calcule les calories disponible par pays par an (*365jours/an)."
   ]
  },
  {
   "cell_type": "code",
   "execution_count": 52,
   "id": "b31b578d",
   "metadata": {},
   "outputs": [],
   "source": [
    "pop_dispo_alim2017['dispo_alim_cal_an_pays']=pop_dispo_alim2017['dispo_alim_cal_jour_pays']*365"
   ]
  },
  {
   "cell_type": "markdown",
   "id": "ece912a0",
   "metadata": {},
   "source": [
    "Je calcule le nombre de personne que l'on pourrait nourrir théoriquement avec la disponibilité alimentaire mondiale.  Pour cela je considère les besoins d'une personnes à 2500cal par jour que je multiplie par 365 pour avoir une valeur à l'année.\n"
   ]
  },
  {
   "cell_type": "code",
   "execution_count": 53,
   "id": "c285b872",
   "metadata": {},
   "outputs": [
    {
     "name": "stdout",
     "output_type": "stream",
     "text": [
      "8367593851.0\n"
     ]
    }
   ],
   "source": [
    "nb_pers_nourries_theo = round(pop_dispo_alim2017['dispo_alim_cal_an_pays'].sum()/(2500*365),0)\n",
    "print(nb_pers_nourries_theo)"
   ]
  },
  {
   "cell_type": "markdown",
   "id": "a3e3b161",
   "metadata": {},
   "source": [
    "J'affiche le résultat."
   ]
  },
  {
   "cell_type": "code",
   "execution_count": 172,
   "id": "ef44ae10",
   "metadata": {},
   "outputs": [
    {
     "name": "stdout",
     "output_type": "stream",
     "text": [
      "Le nombre de personnes qui pourraient être nourries théoriquement grâce aux disponibilités alimentaire mondiale est de 8367593851.0 %.\n"
     ]
    }
   ],
   "source": [
    "print(\"Le nombre de personnes qui pourraient être nourries théoriquement grâce aux disponibilités alimentaire mondiale est de\",  nb_pers_nourries_theo, \"%.\")"
   ]
  },
  {
   "cell_type": "markdown",
   "id": "f03ca61c",
   "metadata": {},
   "source": [
    "### 3. Le nombre théorique de personnes qui pourraient être nourries avec les disponibilités alimentaires des produits vegetaux."
   ]
  },
  {
   "cell_type": "markdown",
   "id": "2541a93d",
   "metadata": {},
   "source": [
    "Je créé une table dispo_alim en filtrant sur origine, pour avoir uniquement les données sur les poduits d'origine végétale et je vérifie le résultat."
   ]
  },
  {
   "cell_type": "code",
   "execution_count": 54,
   "id": "8e19b0ec",
   "metadata": {},
   "outputs": [
    {
     "data": {
      "text/html": [
       "<div>\n",
       "<style scoped>\n",
       "    .dataframe tbody tr th:only-of-type {\n",
       "        vertical-align: middle;\n",
       "    }\n",
       "\n",
       "    .dataframe tbody tr th {\n",
       "        vertical-align: top;\n",
       "    }\n",
       "\n",
       "    .dataframe thead th {\n",
       "        text-align: right;\n",
       "    }\n",
       "</style>\n",
       "<table border=\"1\" class=\"dataframe\">\n",
       "  <thead>\n",
       "    <tr style=\"text-align: right;\">\n",
       "      <th></th>\n",
       "      <th>pays</th>\n",
       "      <th>produit</th>\n",
       "      <th>origine</th>\n",
       "      <th>alim_animaux</th>\n",
       "      <th>autres_utilisations</th>\n",
       "      <th>dispo_alim_cal_pers_jour</th>\n",
       "      <th>dispo_alim_qte_kg_pers_an</th>\n",
       "      <th>dispo_mg_qte_kg_pers_jour</th>\n",
       "      <th>dispo_prot_qte_kg_pers_jour</th>\n",
       "      <th>dispo_pays</th>\n",
       "      <th>export_qte</th>\n",
       "      <th>import_qte</th>\n",
       "      <th>nourriture</th>\n",
       "      <th>pertes</th>\n",
       "      <th>production</th>\n",
       "      <th>semences</th>\n",
       "      <th>traitement</th>\n",
       "      <th>variation_stock</th>\n",
       "    </tr>\n",
       "  </thead>\n",
       "  <tbody>\n",
       "    <tr>\n",
       "      <th>1</th>\n",
       "      <td>Afghanistan</td>\n",
       "      <td>Agrumes, Autres</td>\n",
       "      <td>vegetale</td>\n",
       "      <td>0.0</td>\n",
       "      <td>0.0</td>\n",
       "      <td>1.0</td>\n",
       "      <td>1.29</td>\n",
       "      <td>0.00001</td>\n",
       "      <td>0.00002</td>\n",
       "      <td>41000000.0</td>\n",
       "      <td>2000000.0</td>\n",
       "      <td>40000000.0</td>\n",
       "      <td>39000000.0</td>\n",
       "      <td>2000000.0</td>\n",
       "      <td>3000000.0</td>\n",
       "      <td>0.0</td>\n",
       "      <td>0.0</td>\n",
       "      <td>0.0</td>\n",
       "    </tr>\n",
       "    <tr>\n",
       "      <th>2</th>\n",
       "      <td>Afghanistan</td>\n",
       "      <td>Aliments pour enfants</td>\n",
       "      <td>vegetale</td>\n",
       "      <td>0.0</td>\n",
       "      <td>0.0</td>\n",
       "      <td>1.0</td>\n",
       "      <td>0.06</td>\n",
       "      <td>0.00001</td>\n",
       "      <td>0.00003</td>\n",
       "      <td>2000000.0</td>\n",
       "      <td>0.0</td>\n",
       "      <td>2000000.0</td>\n",
       "      <td>2000000.0</td>\n",
       "      <td>0.0</td>\n",
       "      <td>0.0</td>\n",
       "      <td>0.0</td>\n",
       "      <td>0.0</td>\n",
       "      <td>0.0</td>\n",
       "    </tr>\n",
       "    <tr>\n",
       "      <th>3</th>\n",
       "      <td>Afghanistan</td>\n",
       "      <td>Ananas</td>\n",
       "      <td>vegetale</td>\n",
       "      <td>0.0</td>\n",
       "      <td>0.0</td>\n",
       "      <td>0.0</td>\n",
       "      <td>0.00</td>\n",
       "      <td>0.00000</td>\n",
       "      <td>0.00000</td>\n",
       "      <td>0.0</td>\n",
       "      <td>0.0</td>\n",
       "      <td>0.0</td>\n",
       "      <td>0.0</td>\n",
       "      <td>0.0</td>\n",
       "      <td>0.0</td>\n",
       "      <td>0.0</td>\n",
       "      <td>0.0</td>\n",
       "      <td>0.0</td>\n",
       "    </tr>\n",
       "    <tr>\n",
       "      <th>4</th>\n",
       "      <td>Afghanistan</td>\n",
       "      <td>Bananes</td>\n",
       "      <td>vegetale</td>\n",
       "      <td>0.0</td>\n",
       "      <td>0.0</td>\n",
       "      <td>4.0</td>\n",
       "      <td>2.70</td>\n",
       "      <td>0.00002</td>\n",
       "      <td>0.00005</td>\n",
       "      <td>82000000.0</td>\n",
       "      <td>0.0</td>\n",
       "      <td>82000000.0</td>\n",
       "      <td>82000000.0</td>\n",
       "      <td>0.0</td>\n",
       "      <td>0.0</td>\n",
       "      <td>0.0</td>\n",
       "      <td>0.0</td>\n",
       "      <td>0.0</td>\n",
       "    </tr>\n",
       "    <tr>\n",
       "      <th>6</th>\n",
       "      <td>Afghanistan</td>\n",
       "      <td>Bière</td>\n",
       "      <td>vegetale</td>\n",
       "      <td>0.0</td>\n",
       "      <td>0.0</td>\n",
       "      <td>0.0</td>\n",
       "      <td>0.09</td>\n",
       "      <td>0.00000</td>\n",
       "      <td>0.00000</td>\n",
       "      <td>3000000.0</td>\n",
       "      <td>0.0</td>\n",
       "      <td>3000000.0</td>\n",
       "      <td>3000000.0</td>\n",
       "      <td>0.0</td>\n",
       "      <td>0.0</td>\n",
       "      <td>0.0</td>\n",
       "      <td>0.0</td>\n",
       "      <td>0.0</td>\n",
       "    </tr>\n",
       "  </tbody>\n",
       "</table>\n",
       "</div>"
      ],
      "text/plain": [
       "          pays                produit   origine  alim_animaux  \\\n",
       "1  Afghanistan        Agrumes, Autres  vegetale           0.0   \n",
       "2  Afghanistan  Aliments pour enfants  vegetale           0.0   \n",
       "3  Afghanistan                 Ananas  vegetale           0.0   \n",
       "4  Afghanistan                Bananes  vegetale           0.0   \n",
       "6  Afghanistan                  Bière  vegetale           0.0   \n",
       "\n",
       "   autres_utilisations  dispo_alim_cal_pers_jour  dispo_alim_qte_kg_pers_an  \\\n",
       "1                  0.0                       1.0                       1.29   \n",
       "2                  0.0                       1.0                       0.06   \n",
       "3                  0.0                       0.0                       0.00   \n",
       "4                  0.0                       4.0                       2.70   \n",
       "6                  0.0                       0.0                       0.09   \n",
       "\n",
       "   dispo_mg_qte_kg_pers_jour  dispo_prot_qte_kg_pers_jour  dispo_pays  \\\n",
       "1                    0.00001                      0.00002  41000000.0   \n",
       "2                    0.00001                      0.00003   2000000.0   \n",
       "3                    0.00000                      0.00000         0.0   \n",
       "4                    0.00002                      0.00005  82000000.0   \n",
       "6                    0.00000                      0.00000   3000000.0   \n",
       "\n",
       "   export_qte  import_qte  nourriture     pertes  production  semences  \\\n",
       "1   2000000.0  40000000.0  39000000.0  2000000.0   3000000.0       0.0   \n",
       "2         0.0   2000000.0   2000000.0        0.0         0.0       0.0   \n",
       "3         0.0         0.0         0.0        0.0         0.0       0.0   \n",
       "4         0.0  82000000.0  82000000.0        0.0         0.0       0.0   \n",
       "6         0.0   3000000.0   3000000.0        0.0         0.0       0.0   \n",
       "\n",
       "   traitement  variation_stock  \n",
       "1         0.0              0.0  \n",
       "2         0.0              0.0  \n",
       "3         0.0              0.0  \n",
       "4         0.0              0.0  \n",
       "6         0.0              0.0  "
      ]
     },
     "execution_count": 54,
     "metadata": {},
     "output_type": "execute_result"
    }
   ],
   "source": [
    "dispo_alim_vegetale = dispo_alim[dispo_alim['origine']== 'vegetale']\n",
    "dispo_alim_vegetale.head()"
   ]
  },
  {
   "cell_type": "markdown",
   "id": "7d1595db",
   "metadata": {},
   "source": [
    "Je groupe ensuite mes données par pays et je vérifie le résultat."
   ]
  },
  {
   "cell_type": "code",
   "execution_count": 55,
   "id": "3ba97743",
   "metadata": {},
   "outputs": [
    {
     "data": {
      "text/html": [
       "<div>\n",
       "<style scoped>\n",
       "    .dataframe tbody tr th:only-of-type {\n",
       "        vertical-align: middle;\n",
       "    }\n",
       "\n",
       "    .dataframe tbody tr th {\n",
       "        vertical-align: top;\n",
       "    }\n",
       "\n",
       "    .dataframe thead th {\n",
       "        text-align: right;\n",
       "    }\n",
       "</style>\n",
       "<table border=\"1\" class=\"dataframe\">\n",
       "  <thead>\n",
       "    <tr style=\"text-align: right;\">\n",
       "      <th></th>\n",
       "      <th>alim_animaux</th>\n",
       "      <th>autres_utilisations</th>\n",
       "      <th>dispo_alim_cal_pers_jour</th>\n",
       "      <th>dispo_alim_qte_kg_pers_an</th>\n",
       "      <th>dispo_mg_qte_kg_pers_jour</th>\n",
       "      <th>dispo_prot_qte_kg_pers_jour</th>\n",
       "      <th>dispo_pays</th>\n",
       "      <th>export_qte</th>\n",
       "      <th>import_qte</th>\n",
       "      <th>nourriture</th>\n",
       "      <th>pertes</th>\n",
       "      <th>production</th>\n",
       "      <th>semences</th>\n",
       "      <th>traitement</th>\n",
       "      <th>variation_stock</th>\n",
       "    </tr>\n",
       "    <tr>\n",
       "      <th>pays</th>\n",
       "      <th></th>\n",
       "      <th></th>\n",
       "      <th></th>\n",
       "      <th></th>\n",
       "      <th></th>\n",
       "      <th></th>\n",
       "      <th></th>\n",
       "      <th></th>\n",
       "      <th></th>\n",
       "      <th></th>\n",
       "      <th></th>\n",
       "      <th></th>\n",
       "      <th></th>\n",
       "      <th></th>\n",
       "      <th></th>\n",
       "    </tr>\n",
       "  </thead>\n",
       "  <tbody>\n",
       "    <tr>\n",
       "      <th>Afghanistan</th>\n",
       "      <td>6.450000e+08</td>\n",
       "      <td>415.0</td>\n",
       "      <td>1871.0</td>\n",
       "      <td>271.49</td>\n",
       "      <td>0.01827</td>\n",
       "      <td>0.04605</td>\n",
       "      <td>1.088400e+10</td>\n",
       "      <td>2.780000e+08</td>\n",
       "      <td>2.638000e+09</td>\n",
       "      <td>8.293000e+09</td>\n",
       "      <td>1.072000e+09</td>\n",
       "      <td>8.891000e+09</td>\n",
       "      <td>3.930000e+08</td>\n",
       "      <td>6.300000e+07</td>\n",
       "      <td>-3.680000e+08</td>\n",
       "    </tr>\n",
       "    <tr>\n",
       "      <th>Afrique du Sud</th>\n",
       "      <td>5.122000e+09</td>\n",
       "      <td>761.0</td>\n",
       "      <td>2533.0</td>\n",
       "      <td>425.17</td>\n",
       "      <td>0.04892</td>\n",
       "      <td>0.04894</td>\n",
       "      <td>5.343900e+10</td>\n",
       "      <td>1.058600e+10</td>\n",
       "      <td>6.468000e+09</td>\n",
       "      <td>2.244100e+10</td>\n",
       "      <td>2.110000e+09</td>\n",
       "      <td>5.564900e+10</td>\n",
       "      <td>1.860000e+08</td>\n",
       "      <td>2.281900e+10</td>\n",
       "      <td>1.912000e+09</td>\n",
       "    </tr>\n",
       "    <tr>\n",
       "      <th>Albanie</th>\n",
       "      <td>5.590000e+08</td>\n",
       "      <td>172.0</td>\n",
       "      <td>2203.0</td>\n",
       "      <td>706.49</td>\n",
       "      <td>0.03876</td>\n",
       "      <td>0.05196</td>\n",
       "      <td>3.326000e+09</td>\n",
       "      <td>8.400000e+07</td>\n",
       "      <td>8.460000e+08</td>\n",
       "      <td>2.241000e+09</td>\n",
       "      <td>1.820000e+08</td>\n",
       "      <td>2.609000e+09</td>\n",
       "      <td>5.500000e+07</td>\n",
       "      <td>1.130000e+08</td>\n",
       "      <td>-4.500000e+07</td>\n",
       "    </tr>\n",
       "    <tr>\n",
       "      <th>Algérie</th>\n",
       "      <td>4.352000e+09</td>\n",
       "      <td>1706.0</td>\n",
       "      <td>2915.0</td>\n",
       "      <td>632.35</td>\n",
       "      <td>0.05412</td>\n",
       "      <td>0.06694</td>\n",
       "      <td>3.551000e+10</td>\n",
       "      <td>6.490000e+08</td>\n",
       "      <td>1.467200e+10</td>\n",
       "      <td>2.479700e+10</td>\n",
       "      <td>3.587000e+09</td>\n",
       "      <td>2.196400e+10</td>\n",
       "      <td>4.280000e+08</td>\n",
       "      <td>6.370000e+08</td>\n",
       "      <td>-4.790000e+08</td>\n",
       "    </tr>\n",
       "    <tr>\n",
       "      <th>Allemagne</th>\n",
       "      <td>2.812200e+10</td>\n",
       "      <td>6842.0</td>\n",
       "      <td>2461.0</td>\n",
       "      <td>568.82</td>\n",
       "      <td>0.06363</td>\n",
       "      <td>0.03990</td>\n",
       "      <td>1.268660e+11</td>\n",
       "      <td>3.445400e+10</td>\n",
       "      <td>5.064200e+10</td>\n",
       "      <td>4.707900e+10</td>\n",
       "      <td>3.717000e+09</td>\n",
       "      <td>1.109260e+11</td>\n",
       "      <td>1.475000e+09</td>\n",
       "      <td>3.968600e+10</td>\n",
       "      <td>-2.470000e+08</td>\n",
       "    </tr>\n",
       "  </tbody>\n",
       "</table>\n",
       "</div>"
      ],
      "text/plain": [
       "                alim_animaux  autres_utilisations  dispo_alim_cal_pers_jour  \\\n",
       "pays                                                                          \n",
       "Afghanistan     6.450000e+08                415.0                    1871.0   \n",
       "Afrique du Sud  5.122000e+09                761.0                    2533.0   \n",
       "Albanie         5.590000e+08                172.0                    2203.0   \n",
       "Algérie         4.352000e+09               1706.0                    2915.0   \n",
       "Allemagne       2.812200e+10               6842.0                    2461.0   \n",
       "\n",
       "                dispo_alim_qte_kg_pers_an  dispo_mg_qte_kg_pers_jour  \\\n",
       "pays                                                                   \n",
       "Afghanistan                        271.49                    0.01827   \n",
       "Afrique du Sud                     425.17                    0.04892   \n",
       "Albanie                            706.49                    0.03876   \n",
       "Algérie                            632.35                    0.05412   \n",
       "Allemagne                          568.82                    0.06363   \n",
       "\n",
       "                dispo_prot_qte_kg_pers_jour    dispo_pays    export_qte  \\\n",
       "pays                                                                      \n",
       "Afghanistan                         0.04605  1.088400e+10  2.780000e+08   \n",
       "Afrique du Sud                      0.04894  5.343900e+10  1.058600e+10   \n",
       "Albanie                             0.05196  3.326000e+09  8.400000e+07   \n",
       "Algérie                             0.06694  3.551000e+10  6.490000e+08   \n",
       "Allemagne                           0.03990  1.268660e+11  3.445400e+10   \n",
       "\n",
       "                  import_qte    nourriture        pertes    production  \\\n",
       "pays                                                                     \n",
       "Afghanistan     2.638000e+09  8.293000e+09  1.072000e+09  8.891000e+09   \n",
       "Afrique du Sud  6.468000e+09  2.244100e+10  2.110000e+09  5.564900e+10   \n",
       "Albanie         8.460000e+08  2.241000e+09  1.820000e+08  2.609000e+09   \n",
       "Algérie         1.467200e+10  2.479700e+10  3.587000e+09  2.196400e+10   \n",
       "Allemagne       5.064200e+10  4.707900e+10  3.717000e+09  1.109260e+11   \n",
       "\n",
       "                    semences    traitement  variation_stock  \n",
       "pays                                                         \n",
       "Afghanistan     3.930000e+08  6.300000e+07    -3.680000e+08  \n",
       "Afrique du Sud  1.860000e+08  2.281900e+10     1.912000e+09  \n",
       "Albanie         5.500000e+07  1.130000e+08    -4.500000e+07  \n",
       "Algérie         4.280000e+08  6.370000e+08    -4.790000e+08  \n",
       "Allemagne       1.475000e+09  3.968600e+10    -2.470000e+08  "
      ]
     },
     "execution_count": 55,
     "metadata": {},
     "output_type": "execute_result"
    }
   ],
   "source": [
    "dispo_alim_vegetale_pays = dispo_alim_vegetale.groupby(dispo_alim_vegetale['pays']).sum()\n",
    "dispo_alim_vegetale_pays.head()"
   ]
  },
  {
   "cell_type": "markdown",
   "id": "51bd3c3e",
   "metadata": {},
   "source": [
    "Comme tout à l'heure, je joins ma table créé précedemment df_pop2017 à ma table dispo_alim_vegetale_pays et je vérifie le résultat. "
   ]
  },
  {
   "cell_type": "code",
   "execution_count": 56,
   "id": "e3d872b9",
   "metadata": {},
   "outputs": [
    {
     "data": {
      "text/html": [
       "<div>\n",
       "<style scoped>\n",
       "    .dataframe tbody tr th:only-of-type {\n",
       "        vertical-align: middle;\n",
       "    }\n",
       "\n",
       "    .dataframe tbody tr th {\n",
       "        vertical-align: top;\n",
       "    }\n",
       "\n",
       "    .dataframe thead th {\n",
       "        text-align: right;\n",
       "    }\n",
       "</style>\n",
       "<table border=\"1\" class=\"dataframe\">\n",
       "  <thead>\n",
       "    <tr style=\"text-align: right;\">\n",
       "      <th></th>\n",
       "      <th>pays</th>\n",
       "      <th>alim_animaux</th>\n",
       "      <th>autres_utilisations</th>\n",
       "      <th>dispo_alim_cal_pers_jour</th>\n",
       "      <th>dispo_alim_qte_kg_pers_an</th>\n",
       "      <th>dispo_mg_qte_kg_pers_jour</th>\n",
       "      <th>dispo_prot_qte_kg_pers_jour</th>\n",
       "      <th>dispo_pays</th>\n",
       "      <th>export_qte</th>\n",
       "      <th>import_qte</th>\n",
       "      <th>nourriture</th>\n",
       "      <th>pertes</th>\n",
       "      <th>production</th>\n",
       "      <th>semences</th>\n",
       "      <th>traitement</th>\n",
       "      <th>variation_stock</th>\n",
       "      <th>annee_pop</th>\n",
       "      <th>val_pop</th>\n",
       "    </tr>\n",
       "  </thead>\n",
       "  <tbody>\n",
       "    <tr>\n",
       "      <th>0</th>\n",
       "      <td>Afghanistan</td>\n",
       "      <td>6.450000e+08</td>\n",
       "      <td>415.0</td>\n",
       "      <td>1871.0</td>\n",
       "      <td>271.49</td>\n",
       "      <td>0.01827</td>\n",
       "      <td>0.04605</td>\n",
       "      <td>1.088400e+10</td>\n",
       "      <td>2.780000e+08</td>\n",
       "      <td>2.638000e+09</td>\n",
       "      <td>8.293000e+09</td>\n",
       "      <td>1.072000e+09</td>\n",
       "      <td>8.891000e+09</td>\n",
       "      <td>3.930000e+08</td>\n",
       "      <td>6.300000e+07</td>\n",
       "      <td>-3.680000e+08</td>\n",
       "      <td>2017.0</td>\n",
       "      <td>36296113.0</td>\n",
       "    </tr>\n",
       "    <tr>\n",
       "      <th>1</th>\n",
       "      <td>Afrique du Sud</td>\n",
       "      <td>5.122000e+09</td>\n",
       "      <td>761.0</td>\n",
       "      <td>2533.0</td>\n",
       "      <td>425.17</td>\n",
       "      <td>0.04892</td>\n",
       "      <td>0.04894</td>\n",
       "      <td>5.343900e+10</td>\n",
       "      <td>1.058600e+10</td>\n",
       "      <td>6.468000e+09</td>\n",
       "      <td>2.244100e+10</td>\n",
       "      <td>2.110000e+09</td>\n",
       "      <td>5.564900e+10</td>\n",
       "      <td>1.860000e+08</td>\n",
       "      <td>2.281900e+10</td>\n",
       "      <td>1.912000e+09</td>\n",
       "      <td>2017.0</td>\n",
       "      <td>57009756.0</td>\n",
       "    </tr>\n",
       "    <tr>\n",
       "      <th>2</th>\n",
       "      <td>Albanie</td>\n",
       "      <td>5.590000e+08</td>\n",
       "      <td>172.0</td>\n",
       "      <td>2203.0</td>\n",
       "      <td>706.49</td>\n",
       "      <td>0.03876</td>\n",
       "      <td>0.05196</td>\n",
       "      <td>3.326000e+09</td>\n",
       "      <td>8.400000e+07</td>\n",
       "      <td>8.460000e+08</td>\n",
       "      <td>2.241000e+09</td>\n",
       "      <td>1.820000e+08</td>\n",
       "      <td>2.609000e+09</td>\n",
       "      <td>5.500000e+07</td>\n",
       "      <td>1.130000e+08</td>\n",
       "      <td>-4.500000e+07</td>\n",
       "      <td>2017.0</td>\n",
       "      <td>2884169.0</td>\n",
       "    </tr>\n",
       "    <tr>\n",
       "      <th>3</th>\n",
       "      <td>Algérie</td>\n",
       "      <td>4.352000e+09</td>\n",
       "      <td>1706.0</td>\n",
       "      <td>2915.0</td>\n",
       "      <td>632.35</td>\n",
       "      <td>0.05412</td>\n",
       "      <td>0.06694</td>\n",
       "      <td>3.551000e+10</td>\n",
       "      <td>6.490000e+08</td>\n",
       "      <td>1.467200e+10</td>\n",
       "      <td>2.479700e+10</td>\n",
       "      <td>3.587000e+09</td>\n",
       "      <td>2.196400e+10</td>\n",
       "      <td>4.280000e+08</td>\n",
       "      <td>6.370000e+08</td>\n",
       "      <td>-4.790000e+08</td>\n",
       "      <td>2017.0</td>\n",
       "      <td>41389189.0</td>\n",
       "    </tr>\n",
       "    <tr>\n",
       "      <th>4</th>\n",
       "      <td>Allemagne</td>\n",
       "      <td>2.812200e+10</td>\n",
       "      <td>6842.0</td>\n",
       "      <td>2461.0</td>\n",
       "      <td>568.82</td>\n",
       "      <td>0.06363</td>\n",
       "      <td>0.03990</td>\n",
       "      <td>1.268660e+11</td>\n",
       "      <td>3.445400e+10</td>\n",
       "      <td>5.064200e+10</td>\n",
       "      <td>4.707900e+10</td>\n",
       "      <td>3.717000e+09</td>\n",
       "      <td>1.109260e+11</td>\n",
       "      <td>1.475000e+09</td>\n",
       "      <td>3.968600e+10</td>\n",
       "      <td>-2.470000e+08</td>\n",
       "      <td>2017.0</td>\n",
       "      <td>82658409.0</td>\n",
       "    </tr>\n",
       "  </tbody>\n",
       "</table>\n",
       "</div>"
      ],
      "text/plain": [
       "             pays  alim_animaux  autres_utilisations  \\\n",
       "0     Afghanistan  6.450000e+08                415.0   \n",
       "1  Afrique du Sud  5.122000e+09                761.0   \n",
       "2         Albanie  5.590000e+08                172.0   \n",
       "3         Algérie  4.352000e+09               1706.0   \n",
       "4       Allemagne  2.812200e+10               6842.0   \n",
       "\n",
       "   dispo_alim_cal_pers_jour  dispo_alim_qte_kg_pers_an  \\\n",
       "0                    1871.0                     271.49   \n",
       "1                    2533.0                     425.17   \n",
       "2                    2203.0                     706.49   \n",
       "3                    2915.0                     632.35   \n",
       "4                    2461.0                     568.82   \n",
       "\n",
       "   dispo_mg_qte_kg_pers_jour  dispo_prot_qte_kg_pers_jour    dispo_pays  \\\n",
       "0                    0.01827                      0.04605  1.088400e+10   \n",
       "1                    0.04892                      0.04894  5.343900e+10   \n",
       "2                    0.03876                      0.05196  3.326000e+09   \n",
       "3                    0.05412                      0.06694  3.551000e+10   \n",
       "4                    0.06363                      0.03990  1.268660e+11   \n",
       "\n",
       "     export_qte    import_qte    nourriture        pertes    production  \\\n",
       "0  2.780000e+08  2.638000e+09  8.293000e+09  1.072000e+09  8.891000e+09   \n",
       "1  1.058600e+10  6.468000e+09  2.244100e+10  2.110000e+09  5.564900e+10   \n",
       "2  8.400000e+07  8.460000e+08  2.241000e+09  1.820000e+08  2.609000e+09   \n",
       "3  6.490000e+08  1.467200e+10  2.479700e+10  3.587000e+09  2.196400e+10   \n",
       "4  3.445400e+10  5.064200e+10  4.707900e+10  3.717000e+09  1.109260e+11   \n",
       "\n",
       "       semences    traitement  variation_stock  annee_pop     val_pop  \n",
       "0  3.930000e+08  6.300000e+07    -3.680000e+08     2017.0  36296113.0  \n",
       "1  1.860000e+08  2.281900e+10     1.912000e+09     2017.0  57009756.0  \n",
       "2  5.500000e+07  1.130000e+08    -4.500000e+07     2017.0   2884169.0  \n",
       "3  4.280000e+08  6.370000e+08    -4.790000e+08     2017.0  41389189.0  \n",
       "4  1.475000e+09  3.968600e+10    -2.470000e+08     2017.0  82658409.0  "
      ]
     },
     "execution_count": 56,
     "metadata": {},
     "output_type": "execute_result"
    }
   ],
   "source": [
    "pop_dispo_alim_vegetale_pays = pd.merge(dispo_alim_vegetale_pays, df_pop2017, on='pays', how='left')\n",
    "pop_dispo_alim_vegetale_pays.head()"
   ]
  },
  {
   "cell_type": "markdown",
   "id": "66d5f9a4",
   "metadata": {},
   "source": [
    "Grâce aux informations sur la population je vais calculer le nombre de calorie dispo par pays et par jour et je vérifie le résultat."
   ]
  },
  {
   "cell_type": "code",
   "execution_count": 57,
   "id": "080d87ad",
   "metadata": {},
   "outputs": [
    {
     "data": {
      "text/html": [
       "<div>\n",
       "<style scoped>\n",
       "    .dataframe tbody tr th:only-of-type {\n",
       "        vertical-align: middle;\n",
       "    }\n",
       "\n",
       "    .dataframe tbody tr th {\n",
       "        vertical-align: top;\n",
       "    }\n",
       "\n",
       "    .dataframe thead th {\n",
       "        text-align: right;\n",
       "    }\n",
       "</style>\n",
       "<table border=\"1\" class=\"dataframe\">\n",
       "  <thead>\n",
       "    <tr style=\"text-align: right;\">\n",
       "      <th></th>\n",
       "      <th>pays</th>\n",
       "      <th>alim_animaux</th>\n",
       "      <th>autres_utilisations</th>\n",
       "      <th>dispo_alim_cal_pers_jour</th>\n",
       "      <th>dispo_alim_qte_kg_pers_an</th>\n",
       "      <th>dispo_mg_qte_kg_pers_jour</th>\n",
       "      <th>dispo_prot_qte_kg_pers_jour</th>\n",
       "      <th>dispo_pays</th>\n",
       "      <th>export_qte</th>\n",
       "      <th>import_qte</th>\n",
       "      <th>nourriture</th>\n",
       "      <th>pertes</th>\n",
       "      <th>production</th>\n",
       "      <th>semences</th>\n",
       "      <th>traitement</th>\n",
       "      <th>variation_stock</th>\n",
       "      <th>annee_pop</th>\n",
       "      <th>val_pop</th>\n",
       "      <th>dispo_alim_cal_jour_pays</th>\n",
       "    </tr>\n",
       "  </thead>\n",
       "  <tbody>\n",
       "    <tr>\n",
       "      <th>0</th>\n",
       "      <td>Afghanistan</td>\n",
       "      <td>6.450000e+08</td>\n",
       "      <td>415.0</td>\n",
       "      <td>1871.0</td>\n",
       "      <td>271.49</td>\n",
       "      <td>0.01827</td>\n",
       "      <td>0.04605</td>\n",
       "      <td>1.088400e+10</td>\n",
       "      <td>2.780000e+08</td>\n",
       "      <td>2.638000e+09</td>\n",
       "      <td>8.293000e+09</td>\n",
       "      <td>1.072000e+09</td>\n",
       "      <td>8.891000e+09</td>\n",
       "      <td>3.930000e+08</td>\n",
       "      <td>6.300000e+07</td>\n",
       "      <td>-3.680000e+08</td>\n",
       "      <td>2017.0</td>\n",
       "      <td>36296113.0</td>\n",
       "      <td>6.791003e+10</td>\n",
       "    </tr>\n",
       "    <tr>\n",
       "      <th>1</th>\n",
       "      <td>Afrique du Sud</td>\n",
       "      <td>5.122000e+09</td>\n",
       "      <td>761.0</td>\n",
       "      <td>2533.0</td>\n",
       "      <td>425.17</td>\n",
       "      <td>0.04892</td>\n",
       "      <td>0.04894</td>\n",
       "      <td>5.343900e+10</td>\n",
       "      <td>1.058600e+10</td>\n",
       "      <td>6.468000e+09</td>\n",
       "      <td>2.244100e+10</td>\n",
       "      <td>2.110000e+09</td>\n",
       "      <td>5.564900e+10</td>\n",
       "      <td>1.860000e+08</td>\n",
       "      <td>2.281900e+10</td>\n",
       "      <td>1.912000e+09</td>\n",
       "      <td>2017.0</td>\n",
       "      <td>57009756.0</td>\n",
       "      <td>1.444057e+11</td>\n",
       "    </tr>\n",
       "    <tr>\n",
       "      <th>2</th>\n",
       "      <td>Albanie</td>\n",
       "      <td>5.590000e+08</td>\n",
       "      <td>172.0</td>\n",
       "      <td>2203.0</td>\n",
       "      <td>706.49</td>\n",
       "      <td>0.03876</td>\n",
       "      <td>0.05196</td>\n",
       "      <td>3.326000e+09</td>\n",
       "      <td>8.400000e+07</td>\n",
       "      <td>8.460000e+08</td>\n",
       "      <td>2.241000e+09</td>\n",
       "      <td>1.820000e+08</td>\n",
       "      <td>2.609000e+09</td>\n",
       "      <td>5.500000e+07</td>\n",
       "      <td>1.130000e+08</td>\n",
       "      <td>-4.500000e+07</td>\n",
       "      <td>2017.0</td>\n",
       "      <td>2884169.0</td>\n",
       "      <td>6.353824e+09</td>\n",
       "    </tr>\n",
       "    <tr>\n",
       "      <th>3</th>\n",
       "      <td>Algérie</td>\n",
       "      <td>4.352000e+09</td>\n",
       "      <td>1706.0</td>\n",
       "      <td>2915.0</td>\n",
       "      <td>632.35</td>\n",
       "      <td>0.05412</td>\n",
       "      <td>0.06694</td>\n",
       "      <td>3.551000e+10</td>\n",
       "      <td>6.490000e+08</td>\n",
       "      <td>1.467200e+10</td>\n",
       "      <td>2.479700e+10</td>\n",
       "      <td>3.587000e+09</td>\n",
       "      <td>2.196400e+10</td>\n",
       "      <td>4.280000e+08</td>\n",
       "      <td>6.370000e+08</td>\n",
       "      <td>-4.790000e+08</td>\n",
       "      <td>2017.0</td>\n",
       "      <td>41389189.0</td>\n",
       "      <td>1.206495e+11</td>\n",
       "    </tr>\n",
       "    <tr>\n",
       "      <th>4</th>\n",
       "      <td>Allemagne</td>\n",
       "      <td>2.812200e+10</td>\n",
       "      <td>6842.0</td>\n",
       "      <td>2461.0</td>\n",
       "      <td>568.82</td>\n",
       "      <td>0.06363</td>\n",
       "      <td>0.03990</td>\n",
       "      <td>1.268660e+11</td>\n",
       "      <td>3.445400e+10</td>\n",
       "      <td>5.064200e+10</td>\n",
       "      <td>4.707900e+10</td>\n",
       "      <td>3.717000e+09</td>\n",
       "      <td>1.109260e+11</td>\n",
       "      <td>1.475000e+09</td>\n",
       "      <td>3.968600e+10</td>\n",
       "      <td>-2.470000e+08</td>\n",
       "      <td>2017.0</td>\n",
       "      <td>82658409.0</td>\n",
       "      <td>2.034223e+11</td>\n",
       "    </tr>\n",
       "  </tbody>\n",
       "</table>\n",
       "</div>"
      ],
      "text/plain": [
       "             pays  alim_animaux  autres_utilisations  \\\n",
       "0     Afghanistan  6.450000e+08                415.0   \n",
       "1  Afrique du Sud  5.122000e+09                761.0   \n",
       "2         Albanie  5.590000e+08                172.0   \n",
       "3         Algérie  4.352000e+09               1706.0   \n",
       "4       Allemagne  2.812200e+10               6842.0   \n",
       "\n",
       "   dispo_alim_cal_pers_jour  dispo_alim_qte_kg_pers_an  \\\n",
       "0                    1871.0                     271.49   \n",
       "1                    2533.0                     425.17   \n",
       "2                    2203.0                     706.49   \n",
       "3                    2915.0                     632.35   \n",
       "4                    2461.0                     568.82   \n",
       "\n",
       "   dispo_mg_qte_kg_pers_jour  dispo_prot_qte_kg_pers_jour    dispo_pays  \\\n",
       "0                    0.01827                      0.04605  1.088400e+10   \n",
       "1                    0.04892                      0.04894  5.343900e+10   \n",
       "2                    0.03876                      0.05196  3.326000e+09   \n",
       "3                    0.05412                      0.06694  3.551000e+10   \n",
       "4                    0.06363                      0.03990  1.268660e+11   \n",
       "\n",
       "     export_qte    import_qte    nourriture        pertes    production  \\\n",
       "0  2.780000e+08  2.638000e+09  8.293000e+09  1.072000e+09  8.891000e+09   \n",
       "1  1.058600e+10  6.468000e+09  2.244100e+10  2.110000e+09  5.564900e+10   \n",
       "2  8.400000e+07  8.460000e+08  2.241000e+09  1.820000e+08  2.609000e+09   \n",
       "3  6.490000e+08  1.467200e+10  2.479700e+10  3.587000e+09  2.196400e+10   \n",
       "4  3.445400e+10  5.064200e+10  4.707900e+10  3.717000e+09  1.109260e+11   \n",
       "\n",
       "       semences    traitement  variation_stock  annee_pop     val_pop  \\\n",
       "0  3.930000e+08  6.300000e+07    -3.680000e+08     2017.0  36296113.0   \n",
       "1  1.860000e+08  2.281900e+10     1.912000e+09     2017.0  57009756.0   \n",
       "2  5.500000e+07  1.130000e+08    -4.500000e+07     2017.0   2884169.0   \n",
       "3  4.280000e+08  6.370000e+08    -4.790000e+08     2017.0  41389189.0   \n",
       "4  1.475000e+09  3.968600e+10    -2.470000e+08     2017.0  82658409.0   \n",
       "\n",
       "   dispo_alim_cal_jour_pays  \n",
       "0              6.791003e+10  \n",
       "1              1.444057e+11  \n",
       "2              6.353824e+09  \n",
       "3              1.206495e+11  \n",
       "4              2.034223e+11  "
      ]
     },
     "execution_count": 57,
     "metadata": {},
     "output_type": "execute_result"
    }
   ],
   "source": [
    "pop_dispo_alim_vegetale_pays['dispo_alim_cal_jour_pays']= pop_dispo_alim_vegetale_pays['dispo_alim_cal_pers_jour']*pop_dispo_alim_vegetale_pays['val_pop']\n",
    "pop_dispo_alim_vegetale_pays.head()"
   ]
  },
  {
   "cell_type": "markdown",
   "id": "3fcf97bb",
   "metadata": {},
   "source": [
    "Ensuite je calcule les calories disponible par pays par an (*365jours/an)."
   ]
  },
  {
   "cell_type": "code",
   "execution_count": 58,
   "id": "4f34675f",
   "metadata": {},
   "outputs": [],
   "source": [
    "pop_dispo_alim_vegetale_pays['dispo_alim_cal_an_pays']=pop_dispo_alim_vegetale_pays['dispo_alim_cal_jour_pays']*365"
   ]
  },
  {
   "cell_type": "markdown",
   "id": "c0038036",
   "metadata": {},
   "source": [
    "Je calcule le nombre de personne que l'on pourrait nourrir théoriquement avec la disponibilité alimentaire des produits végétaux.  Pour cela je considère les besoins d'une personnes à 2500cal par jour que je multiplie par 365 pour avoir une valeur à l'année."
   ]
  },
  {
   "cell_type": "code",
   "execution_count": 59,
   "id": "d8f1534d",
   "metadata": {},
   "outputs": [
    {
     "name": "stdout",
     "output_type": "stream",
     "text": [
      "6904305685.0\n"
     ]
    }
   ],
   "source": [
    "nb_pers_nourries_vege_theo = round(pop_dispo_alim_vegetale_pays['dispo_alim_cal_an_pays'].sum()/(2500*365),0)\n",
    "print(nb_pers_nourries_vege_theo)"
   ]
  },
  {
   "cell_type": "markdown",
   "id": "75882838",
   "metadata": {},
   "source": [
    "J'affiche le résultat."
   ]
  },
  {
   "cell_type": "code",
   "execution_count": 173,
   "id": "eaf924c1",
   "metadata": {},
   "outputs": [
    {
     "name": "stdout",
     "output_type": "stream",
     "text": [
      "Le nombre de personnes qui pourraient être nourries théoriquement grâce aux disponibilités alimentaire des produits végétaux est de 6904305685.0 %.\n"
     ]
    }
   ],
   "source": [
    "print(\"Le nombre de personnes qui pourraient être nourries théoriquement grâce aux disponibilités alimentaire des produits végétaux est de\",  nb_pers_nourries_vege_theo, \"%.\")"
   ]
  },
  {
   "cell_type": "markdown",
   "id": "327bda2a",
   "metadata": {},
   "source": [
    "### 4. L’utilisation de la disponibilité intérieure, en particulier la part qui est attribuée à l’alimentation animale, celle qui est perdue et celle qui est concrètement utilisée pour l'alimentation humaine. "
   ]
  },
  {
   "cell_type": "markdown",
   "id": "6d409ecf",
   "metadata": {},
   "source": [
    "Je calcule la part d'alimentation animale."
   ]
  },
  {
   "cell_type": "code",
   "execution_count": 60,
   "id": "487318a7",
   "metadata": {},
   "outputs": [
    {
     "name": "stdout",
     "output_type": "stream",
     "text": [
      "13.24\n"
     ]
    }
   ],
   "source": [
    "part_alimentation_animale = round(100*(dispo_alim['alim_animaux'].sum()/dispo_alim['dispo_pays'].sum()),2)\n",
    "print(part_alimentation_animale)"
   ]
  },
  {
   "cell_type": "markdown",
   "id": "b14e5d20",
   "metadata": {},
   "source": [
    "J'affiche le résultat."
   ]
  },
  {
   "cell_type": "code",
   "execution_count": 61,
   "id": "1c263ccd",
   "metadata": {},
   "outputs": [
    {
     "name": "stdout",
     "output_type": "stream",
     "text": [
      "La proportion d'alimentation animale en 2017 sur la disponibilité intérieure mondiale est de 13.24 %.\n"
     ]
    }
   ],
   "source": [
    "print(\"La proportion d'alimentation animale en 2017 sur la disponibilité intérieure mondiale est de\",  part_alimentation_animale, '%.')"
   ]
  },
  {
   "cell_type": "markdown",
   "id": "c5ac6d86",
   "metadata": {},
   "source": [
    "Je calcule la part de perte."
   ]
  },
  {
   "cell_type": "code",
   "execution_count": 62,
   "id": "aa557535",
   "metadata": {},
   "outputs": [
    {
     "name": "stdout",
     "output_type": "stream",
     "text": [
      "4.61\n"
     ]
    }
   ],
   "source": [
    "part_pertes = round(100*(dispo_alim['pertes'].sum()/dispo_alim['dispo_pays'].sum()),2)\n",
    "print(part_pertes)"
   ]
  },
  {
   "cell_type": "markdown",
   "id": "93153f78",
   "metadata": {},
   "source": [
    "J'affiche le résultat."
   ]
  },
  {
   "cell_type": "code",
   "execution_count": 63,
   "id": "3bb74601",
   "metadata": {},
   "outputs": [
    {
     "name": "stdout",
     "output_type": "stream",
     "text": [
      "La proportion de perte sur la disponibilité intérieure mondiale est de 4.61 %.\n"
     ]
    }
   ],
   "source": [
    "print(\"La proportion de perte sur la disponibilité intérieure mondiale est de\",  part_pertes, '%.')"
   ]
  },
  {
   "cell_type": "markdown",
   "id": "ca1d903f",
   "metadata": {},
   "source": [
    "Je calcule la part de nourriture."
   ]
  },
  {
   "cell_type": "code",
   "execution_count": 64,
   "id": "79b07125",
   "metadata": {},
   "outputs": [
    {
     "name": "stdout",
     "output_type": "stream",
     "text": [
      "49.51\n"
     ]
    }
   ],
   "source": [
    "part_nourriture = round(100*(dispo_alim['nourriture'].sum()/dispo_alim['dispo_pays'].sum()),2)\n",
    "print(part_nourriture)"
   ]
  },
  {
   "cell_type": "markdown",
   "id": "e4e9b352",
   "metadata": {},
   "source": [
    "J'affiche le résultat."
   ]
  },
  {
   "cell_type": "code",
   "execution_count": 65,
   "id": "76e99406",
   "metadata": {},
   "outputs": [
    {
     "name": "stdout",
     "output_type": "stream",
     "text": [
      "La proportion d'alimentation humaine sur la disponibilité intérieure mondiale est de 49.51 %.\n"
     ]
    }
   ],
   "source": [
    "print(\"La proportion d'alimentation humaine sur la disponibilité intérieure mondiale est de\",  part_nourriture, '%.')"
   ]
  },
  {
   "cell_type": "markdown",
   "id": "6a342267",
   "metadata": {},
   "source": [
    "## P3 : Répondre aux demandes de Mélanie, membre de l'équipe de recherche."
   ]
  },
  {
   "cell_type": "markdown",
   "id": "f1983ae0",
   "metadata": {},
   "source": [
    "Les demandes de Mélanie concernant l'étude :\n",
    "1. Les pays pour lesquels la proportion de personnes sous-alimentées est la plus forte en 2017 ;\n",
    "2. Les pays qui ont le plus bénéficié d’aide depuis 2013 ;\n",
    "3. Les pays ayant le plus/le moins de disponibilité/habitant. \n",
    "\n",
    "Mettre en relief les pays qui semblent être le plus en difficulté, au niveau alimentaire."
   ]
  },
  {
   "cell_type": "markdown",
   "id": "ef2532b9",
   "metadata": {},
   "source": [
    "### 1.  Les pays pour lesquels la proportion de personnes sous-alimentées est la plus forte en 2017"
   ]
  },
  {
   "cell_type": "markdown",
   "id": "e3524949",
   "metadata": {},
   "source": [
    "Je reprend ma table créé précédemment pour calculer la proportion de personnes en sous nutrition en 2017."
   ]
  },
  {
   "cell_type": "code",
   "execution_count": 67,
   "id": "b3f87001",
   "metadata": {},
   "outputs": [
    {
     "data": {
      "text/html": [
       "<div>\n",
       "<style scoped>\n",
       "    .dataframe tbody tr th:only-of-type {\n",
       "        vertical-align: middle;\n",
       "    }\n",
       "\n",
       "    .dataframe tbody tr th {\n",
       "        vertical-align: top;\n",
       "    }\n",
       "\n",
       "    .dataframe thead th {\n",
       "        text-align: right;\n",
       "    }\n",
       "</style>\n",
       "<table border=\"1\" class=\"dataframe\">\n",
       "  <thead>\n",
       "    <tr style=\"text-align: right;\">\n",
       "      <th></th>\n",
       "      <th>pays</th>\n",
       "      <th>annee_pop</th>\n",
       "      <th>val_pop</th>\n",
       "      <th>val_nut</th>\n",
       "      <th>annee_nut</th>\n",
       "    </tr>\n",
       "  </thead>\n",
       "  <tbody>\n",
       "    <tr>\n",
       "      <th>0</th>\n",
       "      <td>Afghanistan</td>\n",
       "      <td>2017</td>\n",
       "      <td>36296113.0</td>\n",
       "      <td>10500000.0</td>\n",
       "      <td>2017.0</td>\n",
       "    </tr>\n",
       "    <tr>\n",
       "      <th>1</th>\n",
       "      <td>Afrique du Sud</td>\n",
       "      <td>2017</td>\n",
       "      <td>57009756.0</td>\n",
       "      <td>3100000.0</td>\n",
       "      <td>2017.0</td>\n",
       "    </tr>\n",
       "    <tr>\n",
       "      <th>2</th>\n",
       "      <td>Albanie</td>\n",
       "      <td>2017</td>\n",
       "      <td>2884169.0</td>\n",
       "      <td>100000.0</td>\n",
       "      <td>2017.0</td>\n",
       "    </tr>\n",
       "    <tr>\n",
       "      <th>3</th>\n",
       "      <td>Algérie</td>\n",
       "      <td>2017</td>\n",
       "      <td>41389189.0</td>\n",
       "      <td>1300000.0</td>\n",
       "      <td>2017.0</td>\n",
       "    </tr>\n",
       "    <tr>\n",
       "      <th>4</th>\n",
       "      <td>Allemagne</td>\n",
       "      <td>2017</td>\n",
       "      <td>82658409.0</td>\n",
       "      <td>0.0</td>\n",
       "      <td>2017.0</td>\n",
       "    </tr>\n",
       "  </tbody>\n",
       "</table>\n",
       "</div>"
      ],
      "text/plain": [
       "             pays  annee_pop     val_pop     val_nut  annee_nut\n",
       "0     Afghanistan       2017  36296113.0  10500000.0     2017.0\n",
       "1  Afrique du Sud       2017  57009756.0   3100000.0     2017.0\n",
       "2         Albanie       2017   2884169.0    100000.0     2017.0\n",
       "3         Algérie       2017  41389189.0   1300000.0     2017.0\n",
       "4       Allemagne       2017  82658409.0         0.0     2017.0"
      ]
     },
     "execution_count": 67,
     "metadata": {},
     "output_type": "execute_result"
    }
   ],
   "source": [
    "df_popandnut2017.head()"
   ]
  },
  {
   "cell_type": "markdown",
   "id": "80e506da",
   "metadata": {},
   "source": [
    "Je rajoute une colonne à ma table,pour calculer pour chaque pays la proportion de personne en sous nutrition et je vérifie le résultat."
   ]
  },
  {
   "cell_type": "code",
   "execution_count": 68,
   "id": "91a4fe10",
   "metadata": {},
   "outputs": [],
   "source": [
    "df_popandnut2017['prop_pers_ss_nut']= round(100*(df_popandnut2017['val_nut']/df_popandnut2017['val_pop']),2)\n",
    "df_popandnut2017.head()"
   ]
  },
  {
   "cell_type": "markdown",
   "id": "8a8f788d",
   "metadata": {},
   "source": [
    "Je trie ma table du plus grand au plus petit pour voir les pays pour lesquels la proportion de personnes sous-alimentées est la plus forte en 2017."
   ]
  },
  {
   "cell_type": "code",
   "execution_count": 175,
   "id": "3efab076",
   "metadata": {},
   "outputs": [],
   "source": [
    "order_prop_pers_ss_nut = df_popandnut2017.sort_values(by = 'prop_pers_ss_nut', ascending = False)"
   ]
  },
  {
   "cell_type": "markdown",
   "id": "13e1fb8a",
   "metadata": {},
   "source": [
    "J'affiche les 10 pays ou la proportion de personnes sous alimentés est la plus forte en 2017."
   ]
  },
  {
   "cell_type": "code",
   "execution_count": 176,
   "id": "690fbbbf",
   "metadata": {},
   "outputs": [
    {
     "data": {
      "text/html": [
       "<div>\n",
       "<style scoped>\n",
       "    .dataframe tbody tr th:only-of-type {\n",
       "        vertical-align: middle;\n",
       "    }\n",
       "\n",
       "    .dataframe tbody tr th {\n",
       "        vertical-align: top;\n",
       "    }\n",
       "\n",
       "    .dataframe thead th {\n",
       "        text-align: right;\n",
       "    }\n",
       "</style>\n",
       "<table border=\"1\" class=\"dataframe\">\n",
       "  <thead>\n",
       "    <tr style=\"text-align: right;\">\n",
       "      <th></th>\n",
       "      <th>pays</th>\n",
       "      <th>annee_pop</th>\n",
       "      <th>val_pop</th>\n",
       "      <th>val_nut</th>\n",
       "      <th>annee_nut</th>\n",
       "      <th>prop_pers_ss_nut</th>\n",
       "    </tr>\n",
       "  </thead>\n",
       "  <tbody>\n",
       "    <tr>\n",
       "      <th>56</th>\n",
       "      <td>Dominique</td>\n",
       "      <td>2017</td>\n",
       "      <td>71458.0</td>\n",
       "      <td>50000.0</td>\n",
       "      <td>2017.0</td>\n",
       "      <td>69.97</td>\n",
       "    </tr>\n",
       "    <tr>\n",
       "      <th>87</th>\n",
       "      <td>Haïti</td>\n",
       "      <td>2017</td>\n",
       "      <td>10982366.0</td>\n",
       "      <td>5300000.0</td>\n",
       "      <td>2017.0</td>\n",
       "      <td>48.26</td>\n",
       "    </tr>\n",
       "    <tr>\n",
       "      <th>181</th>\n",
       "      <td>République populaire démocratique de Corée</td>\n",
       "      <td>2017</td>\n",
       "      <td>25429825.0</td>\n",
       "      <td>12000000.0</td>\n",
       "      <td>2017.0</td>\n",
       "      <td>47.19</td>\n",
       "    </tr>\n",
       "    <tr>\n",
       "      <th>196</th>\n",
       "      <td>Saint-Vincent-et-les Grenadines</td>\n",
       "      <td>2017</td>\n",
       "      <td>109827.0</td>\n",
       "      <td>50000.0</td>\n",
       "      <td>2017.0</td>\n",
       "      <td>45.53</td>\n",
       "    </tr>\n",
       "    <tr>\n",
       "      <th>117</th>\n",
       "      <td>Kiribati</td>\n",
       "      <td>2017</td>\n",
       "      <td>114158.0</td>\n",
       "      <td>50000.0</td>\n",
       "      <td>2017.0</td>\n",
       "      <td>43.80</td>\n",
       "    </tr>\n",
       "    <tr>\n",
       "      <th>128</th>\n",
       "      <td>Madagascar</td>\n",
       "      <td>2017</td>\n",
       "      <td>25570512.0</td>\n",
       "      <td>10500000.0</td>\n",
       "      <td>2017.0</td>\n",
       "      <td>41.06</td>\n",
       "    </tr>\n",
       "    <tr>\n",
       "      <th>122</th>\n",
       "      <td>Libéria</td>\n",
       "      <td>2017</td>\n",
       "      <td>4702226.0</td>\n",
       "      <td>1800000.0</td>\n",
       "      <td>2017.0</td>\n",
       "      <td>38.28</td>\n",
       "    </tr>\n",
       "    <tr>\n",
       "      <th>119</th>\n",
       "      <td>Lesotho</td>\n",
       "      <td>2017</td>\n",
       "      <td>2091534.0</td>\n",
       "      <td>800000.0</td>\n",
       "      <td>2017.0</td>\n",
       "      <td>38.25</td>\n",
       "    </tr>\n",
       "    <tr>\n",
       "      <th>216</th>\n",
       "      <td>Tchad</td>\n",
       "      <td>2017</td>\n",
       "      <td>15016753.0</td>\n",
       "      <td>5700000.0</td>\n",
       "      <td>2017.0</td>\n",
       "      <td>37.96</td>\n",
       "    </tr>\n",
       "    <tr>\n",
       "      <th>186</th>\n",
       "      <td>Rwanda</td>\n",
       "      <td>2017</td>\n",
       "      <td>11980961.0</td>\n",
       "      <td>4200000.0</td>\n",
       "      <td>2017.0</td>\n",
       "      <td>35.06</td>\n",
       "    </tr>\n",
       "  </tbody>\n",
       "</table>\n",
       "</div>"
      ],
      "text/plain": [
       "                                           pays  annee_pop     val_pop  \\\n",
       "56                                    Dominique       2017     71458.0   \n",
       "87                                        Haïti       2017  10982366.0   \n",
       "181  République populaire démocratique de Corée       2017  25429825.0   \n",
       "196             Saint-Vincent-et-les Grenadines       2017    109827.0   \n",
       "117                                    Kiribati       2017    114158.0   \n",
       "128                                  Madagascar       2017  25570512.0   \n",
       "122                                     Libéria       2017   4702226.0   \n",
       "119                                     Lesotho       2017   2091534.0   \n",
       "216                                       Tchad       2017  15016753.0   \n",
       "186                                      Rwanda       2017  11980961.0   \n",
       "\n",
       "        val_nut  annee_nut  prop_pers_ss_nut  \n",
       "56      50000.0     2017.0             69.97  \n",
       "87    5300000.0     2017.0             48.26  \n",
       "181  12000000.0     2017.0             47.19  \n",
       "196     50000.0     2017.0             45.53  \n",
       "117     50000.0     2017.0             43.80  \n",
       "128  10500000.0     2017.0             41.06  \n",
       "122   1800000.0     2017.0             38.28  \n",
       "119    800000.0     2017.0             38.25  \n",
       "216   5700000.0     2017.0             37.96  \n",
       "186   4200000.0     2017.0             35.06  "
      ]
     },
     "execution_count": 176,
     "metadata": {},
     "output_type": "execute_result"
    }
   ],
   "source": [
    "order_prop_pers_ss_nut.head(10)"
   ]
  },
  {
   "cell_type": "code",
   "execution_count": 179,
   "id": "7af9dd6c",
   "metadata": {},
   "outputs": [
    {
     "data": {
      "text/plain": [
       "<BarContainer object of 10 artists>"
      ]
     },
     "execution_count": 179,
     "metadata": {},
     "output_type": "execute_result"
    },
    {
     "data": {
      "image/png": "[encoded data removed]",
      "text/plain": [
       "<Figure size 1440x720 with 1 Axes>"
      ]
     },
     "metadata": {
      "needs_background": "light"
     },
     "output_type": "display_data"
    }
   ],
   "source": [
    "#Je créé un graphique, je filtre mes données à 10 résultats\n",
    "order_prop_pers_ss_nut_10 = order_prop_pers_ss_nut.head(10)\n",
    "#Je modifie la taille de mon graphique \n",
    "plt.figure(figsize=(20,10))\n",
    "#Je mets en forme les données de mon axe x\n",
    "plt.xticks(rotation = '45')\n",
    "#J'affiche le titre de mon graphique\n",
    "plt.title(\"Top 10 des pays pour lesquels la proportion de personnes sous-alimentées est la plus forte en 2017\")\n",
    "#J'affiche le nom de mon axe x\n",
    "plt.xlabel('Pays')\n",
    "#J'affiche le nom de mon axe y\n",
    "plt.ylabel('Proportion en %')\n",
    "#Je créé mon graphique en sélectionnant mes données\n",
    "plt.bar(order_prop_pers_ss_nut_10['pays'],\n",
    "        order_prop_pers_ss_nut_10['prop_pers_ss_nut'],\n",
    "        color = cm.rainbow(np.linspace(0, 1, len(order_prop_pers_ss_nut_10))))"
   ]
  },
  {
   "cell_type": "markdown",
   "id": "8b17e13b",
   "metadata": {},
   "source": [
    "### 2. Les pays qui ont le plus bénéficié d’aide depuis 2013"
   ]
  },
  {
   "cell_type": "markdown",
   "id": "9060ae90",
   "metadata": {},
   "source": [
    "J'affiche ma table aide_alim."
   ]
  },
  {
   "cell_type": "code",
   "execution_count": 84,
   "id": "d830f9ea",
   "metadata": {},
   "outputs": [
    {
     "data": {
      "text/html": [
       "<div>\n",
       "<style scoped>\n",
       "    .dataframe tbody tr th:only-of-type {\n",
       "        vertical-align: middle;\n",
       "    }\n",
       "\n",
       "    .dataframe tbody tr th {\n",
       "        vertical-align: top;\n",
       "    }\n",
       "\n",
       "    .dataframe thead th {\n",
       "        text-align: right;\n",
       "    }\n",
       "</style>\n",
       "<table border=\"1\" class=\"dataframe\">\n",
       "  <thead>\n",
       "    <tr style=\"text-align: right;\">\n",
       "      <th></th>\n",
       "      <th>pays_benef</th>\n",
       "      <th>annee_aide</th>\n",
       "      <th>produit_aide</th>\n",
       "      <th>valeur_aide</th>\n",
       "    </tr>\n",
       "  </thead>\n",
       "  <tbody>\n",
       "    <tr>\n",
       "      <th>0</th>\n",
       "      <td>Afghanistan</td>\n",
       "      <td>2013</td>\n",
       "      <td>Autres non-céréales</td>\n",
       "      <td>682000</td>\n",
       "    </tr>\n",
       "    <tr>\n",
       "      <th>1</th>\n",
       "      <td>Afghanistan</td>\n",
       "      <td>2014</td>\n",
       "      <td>Autres non-céréales</td>\n",
       "      <td>335000</td>\n",
       "    </tr>\n",
       "    <tr>\n",
       "      <th>2</th>\n",
       "      <td>Afghanistan</td>\n",
       "      <td>2013</td>\n",
       "      <td>Blé et Farin</td>\n",
       "      <td>39224000</td>\n",
       "    </tr>\n",
       "    <tr>\n",
       "      <th>3</th>\n",
       "      <td>Afghanistan</td>\n",
       "      <td>2014</td>\n",
       "      <td>Blé et Farin</td>\n",
       "      <td>15160000</td>\n",
       "    </tr>\n",
       "    <tr>\n",
       "      <th>4</th>\n",
       "      <td>Afghanistan</td>\n",
       "      <td>2013</td>\n",
       "      <td>Céréales</td>\n",
       "      <td>40504000</td>\n",
       "    </tr>\n",
       "  </tbody>\n",
       "</table>\n",
       "</div>"
      ],
      "text/plain": [
       "    pays_benef  annee_aide         produit_aide  valeur_aide\n",
       "0  Afghanistan        2013  Autres non-céréales       682000\n",
       "1  Afghanistan        2014  Autres non-céréales       335000\n",
       "2  Afghanistan        2013         Blé et Farin     39224000\n",
       "3  Afghanistan        2014         Blé et Farin     15160000\n",
       "4  Afghanistan        2013             Céréales     40504000"
      ]
     },
     "execution_count": 84,
     "metadata": {},
     "output_type": "execute_result"
    }
   ],
   "source": [
    "aide_alim.head()"
   ]
  },
  {
   "cell_type": "markdown",
   "id": "b058dafd",
   "metadata": {},
   "source": [
    "Je fais un .groupby par pays."
   ]
  },
  {
   "cell_type": "code",
   "execution_count": 88,
   "id": "ebd87726",
   "metadata": {},
   "outputs": [],
   "source": [
    "groupby_pays_aide_alim = aide_alim.groupby(aide_alim['pays_benef']).sum()"
   ]
  },
  {
   "cell_type": "markdown",
   "id": "9b63785d",
   "metadata": {},
   "source": [
    "Je trie mes données du plus grand au plus petit."
   ]
  },
  {
   "cell_type": "code",
   "execution_count": 123,
   "id": "686192f7",
   "metadata": {},
   "outputs": [],
   "source": [
    "order_aide_alim = groupby_pays_aide_alim.sort_values(by = 'valeur_aide', ascending = False)"
   ]
  },
  {
   "cell_type": "markdown",
   "id": "201a9277",
   "metadata": {},
   "source": [
    "J'affiche les 10 pays qui ont le plus bénéficié d'aide depuis 2013."
   ]
  },
  {
   "cell_type": "code",
   "execution_count": 133,
   "id": "77be788e",
   "metadata": {},
   "outputs": [
    {
     "name": "stdout",
     "output_type": "stream",
     "text": [
      "pays_benef\n",
      "République arabe syrienne           1858943000\n",
      "Éthiopie                            1381294000\n",
      "Yémen                               1206484000\n",
      "Soudan du Sud                        695248000\n",
      "Soudan                               669784000\n",
      "Kenya                                552836000\n",
      "Bangladesh                           348188000\n",
      "Somalie                              292678000\n",
      "République démocratique du Congo     288502000\n",
      "Niger                                276344000\n",
      "Name: valeur_aide, dtype: int64\n"
     ]
    }
   ],
   "source": [
    "print(order_aide_alim['valeur_aide'].head(10))"
   ]
  },
  {
   "cell_type": "markdown",
   "id": "db270152",
   "metadata": {},
   "source": [
    "### 3. Les pays ayant le plus/le moins de disponibilité/habitant"
   ]
  },
  {
   "cell_type": "markdown",
   "id": "6ae2f7dc",
   "metadata": {},
   "source": [
    "Je reprend ma table pop_dispo_alim2017 qui est déjà filtré par pays."
   ]
  },
  {
   "cell_type": "code",
   "execution_count": 92,
   "id": "7a80b09c",
   "metadata": {},
   "outputs": [
    {
     "data": {
      "text/html": [
       "<div>\n",
       "<style scoped>\n",
       "    .dataframe tbody tr th:only-of-type {\n",
       "        vertical-align: middle;\n",
       "    }\n",
       "\n",
       "    .dataframe tbody tr th {\n",
       "        vertical-align: top;\n",
       "    }\n",
       "\n",
       "    .dataframe thead th {\n",
       "        text-align: right;\n",
       "    }\n",
       "</style>\n",
       "<table border=\"1\" class=\"dataframe\">\n",
       "  <thead>\n",
       "    <tr style=\"text-align: right;\">\n",
       "      <th></th>\n",
       "      <th>pays</th>\n",
       "      <th>alim_animaux</th>\n",
       "      <th>autres_utilisations</th>\n",
       "      <th>dispo_alim_cal_pers_jour</th>\n",
       "      <th>dispo_alim_qte_kg_pers_an</th>\n",
       "      <th>dispo_mg_qte_kg_pers_jour</th>\n",
       "      <th>dispo_prot_qte_kg_pers_jour</th>\n",
       "      <th>dispo_pays</th>\n",
       "      <th>export_qte</th>\n",
       "      <th>import_qte</th>\n",
       "      <th>nourriture</th>\n",
       "      <th>pertes</th>\n",
       "      <th>production</th>\n",
       "      <th>semences</th>\n",
       "      <th>traitement</th>\n",
       "      <th>variation_stock</th>\n",
       "      <th>annee_pop</th>\n",
       "      <th>val_pop</th>\n",
       "      <th>dispo_alim_cal_jour_pays</th>\n",
       "      <th>dispo_alim_cal_an_pays</th>\n",
       "    </tr>\n",
       "  </thead>\n",
       "  <tbody>\n",
       "    <tr>\n",
       "      <th>0</th>\n",
       "      <td>Afghanistan</td>\n",
       "      <td>7.680000e+08</td>\n",
       "      <td>415.0</td>\n",
       "      <td>2087.0</td>\n",
       "      <td>351.41</td>\n",
       "      <td>0.03350</td>\n",
       "      <td>0.05826</td>\n",
       "      <td>1.351500e+10</td>\n",
       "      <td>2.780000e+08</td>\n",
       "      <td>2.988000e+09</td>\n",
       "      <td>1.073500e+10</td>\n",
       "      <td>1.135000e+09</td>\n",
       "      <td>1.117100e+10</td>\n",
       "      <td>3.950000e+08</td>\n",
       "      <td>6.300000e+07</td>\n",
       "      <td>-3.680000e+08</td>\n",
       "      <td>2017.0</td>\n",
       "      <td>36296113.0</td>\n",
       "      <td>7.574999e+10</td>\n",
       "      <td>2.764875e+13</td>\n",
       "    </tr>\n",
       "    <tr>\n",
       "      <th>1</th>\n",
       "      <td>Afrique du Sud</td>\n",
       "      <td>5.309000e+09</td>\n",
       "      <td>876.0</td>\n",
       "      <td>3020.0</td>\n",
       "      <td>564.80</td>\n",
       "      <td>0.08358</td>\n",
       "      <td>0.08533</td>\n",
       "      <td>6.125600e+10</td>\n",
       "      <td>1.167400e+10</td>\n",
       "      <td>7.517000e+09</td>\n",
       "      <td>2.981200e+10</td>\n",
       "      <td>2.193000e+09</td>\n",
       "      <td>6.326300e+10</td>\n",
       "      <td>2.530000e+08</td>\n",
       "      <td>2.281900e+10</td>\n",
       "      <td>2.153000e+09</td>\n",
       "      <td>2017.0</td>\n",
       "      <td>57009756.0</td>\n",
       "      <td>1.721695e+11</td>\n",
       "      <td>6.284185e+13</td>\n",
       "    </tr>\n",
       "    <tr>\n",
       "      <th>2</th>\n",
       "      <td>Albanie</td>\n",
       "      <td>6.600000e+08</td>\n",
       "      <td>174.0</td>\n",
       "      <td>3188.0</td>\n",
       "      <td>1095.54</td>\n",
       "      <td>0.10648</td>\n",
       "      <td>0.11137</td>\n",
       "      <td>4.758000e+09</td>\n",
       "      <td>9.400000e+07</td>\n",
       "      <td>9.330000e+08</td>\n",
       "      <td>3.476000e+09</td>\n",
       "      <td>2.760000e+08</td>\n",
       "      <td>3.964000e+09</td>\n",
       "      <td>5.500000e+07</td>\n",
       "      <td>1.130000e+08</td>\n",
       "      <td>-4.500000e+07</td>\n",
       "      <td>2017.0</td>\n",
       "      <td>2884169.0</td>\n",
       "      <td>9.194731e+09</td>\n",
       "      <td>3.356077e+12</td>\n",
       "    </tr>\n",
       "    <tr>\n",
       "      <th>3</th>\n",
       "      <td>Algérie</td>\n",
       "      <td>4.352000e+09</td>\n",
       "      <td>1707.0</td>\n",
       "      <td>3293.0</td>\n",
       "      <td>809.13</td>\n",
       "      <td>0.07648</td>\n",
       "      <td>0.09192</td>\n",
       "      <td>4.263000e+10</td>\n",
       "      <td>6.550000e+08</td>\n",
       "      <td>1.740300e+10</td>\n",
       "      <td>3.172900e+10</td>\n",
       "      <td>3.753000e+09</td>\n",
       "      <td>2.635900e+10</td>\n",
       "      <td>4.490000e+08</td>\n",
       "      <td>6.370000e+08</td>\n",
       "      <td>-4.790000e+08</td>\n",
       "      <td>2017.0</td>\n",
       "      <td>41389189.0</td>\n",
       "      <td>1.362946e+11</td>\n",
       "      <td>4.974753e+13</td>\n",
       "    </tr>\n",
       "    <tr>\n",
       "      <th>4</th>\n",
       "      <td>Allemagne</td>\n",
       "      <td>3.020900e+10</td>\n",
       "      <td>7711.0</td>\n",
       "      <td>3503.0</td>\n",
       "      <td>957.52</td>\n",
       "      <td>0.14162</td>\n",
       "      <td>0.10139</td>\n",
       "      <td>1.622750e+11</td>\n",
       "      <td>5.743100e+10</td>\n",
       "      <td>6.535300e+10</td>\n",
       "      <td>7.923800e+10</td>\n",
       "      <td>3.781000e+09</td>\n",
       "      <td>1.545470e+11</td>\n",
       "      <td>1.551000e+09</td>\n",
       "      <td>3.984200e+10</td>\n",
       "      <td>-1.920000e+08</td>\n",
       "      <td>2017.0</td>\n",
       "      <td>82658409.0</td>\n",
       "      <td>2.895524e+11</td>\n",
       "      <td>1.056866e+14</td>\n",
       "    </tr>\n",
       "  </tbody>\n",
       "</table>\n",
       "</div>"
      ],
      "text/plain": [
       "             pays  alim_animaux  autres_utilisations  \\\n",
       "0     Afghanistan  7.680000e+08                415.0   \n",
       "1  Afrique du Sud  5.309000e+09                876.0   \n",
       "2         Albanie  6.600000e+08                174.0   \n",
       "3         Algérie  4.352000e+09               1707.0   \n",
       "4       Allemagne  3.020900e+10               7711.0   \n",
       "\n",
       "   dispo_alim_cal_pers_jour  dispo_alim_qte_kg_pers_an  \\\n",
       "0                    2087.0                     351.41   \n",
       "1                    3020.0                     564.80   \n",
       "2                    3188.0                    1095.54   \n",
       "3                    3293.0                     809.13   \n",
       "4                    3503.0                     957.52   \n",
       "\n",
       "   dispo_mg_qte_kg_pers_jour  dispo_prot_qte_kg_pers_jour    dispo_pays  \\\n",
       "0                    0.03350                      0.05826  1.351500e+10   \n",
       "1                    0.08358                      0.08533  6.125600e+10   \n",
       "2                    0.10648                      0.11137  4.758000e+09   \n",
       "3                    0.07648                      0.09192  4.263000e+10   \n",
       "4                    0.14162                      0.10139  1.622750e+11   \n",
       "\n",
       "     export_qte    import_qte    nourriture        pertes    production  \\\n",
       "0  2.780000e+08  2.988000e+09  1.073500e+10  1.135000e+09  1.117100e+10   \n",
       "1  1.167400e+10  7.517000e+09  2.981200e+10  2.193000e+09  6.326300e+10   \n",
       "2  9.400000e+07  9.330000e+08  3.476000e+09  2.760000e+08  3.964000e+09   \n",
       "3  6.550000e+08  1.740300e+10  3.172900e+10  3.753000e+09  2.635900e+10   \n",
       "4  5.743100e+10  6.535300e+10  7.923800e+10  3.781000e+09  1.545470e+11   \n",
       "\n",
       "       semences    traitement  variation_stock  annee_pop     val_pop  \\\n",
       "0  3.950000e+08  6.300000e+07    -3.680000e+08     2017.0  36296113.0   \n",
       "1  2.530000e+08  2.281900e+10     2.153000e+09     2017.0  57009756.0   \n",
       "2  5.500000e+07  1.130000e+08    -4.500000e+07     2017.0   2884169.0   \n",
       "3  4.490000e+08  6.370000e+08    -4.790000e+08     2017.0  41389189.0   \n",
       "4  1.551000e+09  3.984200e+10    -1.920000e+08     2017.0  82658409.0   \n",
       "\n",
       "   dispo_alim_cal_jour_pays  dispo_alim_cal_an_pays  \n",
       "0              7.574999e+10            2.764875e+13  \n",
       "1              1.721695e+11            6.284185e+13  \n",
       "2              9.194731e+09            3.356077e+12  \n",
       "3              1.362946e+11            4.974753e+13  \n",
       "4              2.895524e+11            1.056866e+14  "
      ]
     },
     "execution_count": 92,
     "metadata": {},
     "output_type": "execute_result"
    }
   ],
   "source": [
    "pop_dispo_alim2017.head()"
   ]
  },
  {
   "cell_type": "markdown",
   "id": "7ad04e88",
   "metadata": {},
   "source": [
    "Je crée une table avec uniquement les infos qui m'intérresse ici pays, et dispo alim cal par pers jour et ej vérifie le résultat."
   ]
  },
  {
   "cell_type": "code",
   "execution_count": 140,
   "id": "0f79cd3c",
   "metadata": {},
   "outputs": [],
   "source": [
    "top_pop_dispo_alim2017_2 = pop_dispo_alim2017[['pays', 'dispo_alim_cal_pers_jour']]\n",
    "top_pop_dispo_alim2017_2.head()"
   ]
  },
  {
   "cell_type": "markdown",
   "id": "7c662f6c",
   "metadata": {},
   "source": [
    "Je trie ma nouvelle table sur la colonne dispo alim du plus grand au plus petit."
   ]
  },
  {
   "cell_type": "code",
   "execution_count": 143,
   "id": "b722857a",
   "metadata": {},
   "outputs": [],
   "source": [
    "top_pop_dispo_alim2017_2 = top_pop_dispo_alim2017_2.sort_values(by = 'dispo_alim_cal_pers_jour', ascending = False)"
   ]
  },
  {
   "cell_type": "markdown",
   "id": "dba650a1",
   "metadata": {},
   "source": [
    "J'affiche les 10 pays ayant le plus de dispo alimentaire par habitant."
   ]
  },
  {
   "cell_type": "code",
   "execution_count": 144,
   "id": "76db7691",
   "metadata": {},
   "outputs": [
    {
     "data": {
      "text/html": [
       "<div>\n",
       "<style scoped>\n",
       "    .dataframe tbody tr th:only-of-type {\n",
       "        vertical-align: middle;\n",
       "    }\n",
       "\n",
       "    .dataframe tbody tr th {\n",
       "        vertical-align: top;\n",
       "    }\n",
       "\n",
       "    .dataframe thead th {\n",
       "        text-align: right;\n",
       "    }\n",
       "</style>\n",
       "<table border=\"1\" class=\"dataframe\">\n",
       "  <thead>\n",
       "    <tr style=\"text-align: right;\">\n",
       "      <th></th>\n",
       "      <th>pays</th>\n",
       "      <th>dispo_alim_cal_pers_jour</th>\n",
       "    </tr>\n",
       "  </thead>\n",
       "  <tbody>\n",
       "    <tr>\n",
       "      <th>11</th>\n",
       "      <td>Autriche</td>\n",
       "      <td>3770.0</td>\n",
       "    </tr>\n",
       "    <tr>\n",
       "      <th>16</th>\n",
       "      <td>Belgique</td>\n",
       "      <td>3737.0</td>\n",
       "    </tr>\n",
       "    <tr>\n",
       "      <th>159</th>\n",
       "      <td>Turquie</td>\n",
       "      <td>3708.0</td>\n",
       "    </tr>\n",
       "    <tr>\n",
       "      <th>171</th>\n",
       "      <td>États-Unis d'Amérique</td>\n",
       "      <td>3682.0</td>\n",
       "    </tr>\n",
       "    <tr>\n",
       "      <th>74</th>\n",
       "      <td>Israël</td>\n",
       "      <td>3610.0</td>\n",
       "    </tr>\n",
       "    <tr>\n",
       "      <th>72</th>\n",
       "      <td>Irlande</td>\n",
       "      <td>3602.0</td>\n",
       "    </tr>\n",
       "    <tr>\n",
       "      <th>75</th>\n",
       "      <td>Italie</td>\n",
       "      <td>3578.0</td>\n",
       "    </tr>\n",
       "    <tr>\n",
       "      <th>89</th>\n",
       "      <td>Luxembourg</td>\n",
       "      <td>3540.0</td>\n",
       "    </tr>\n",
       "    <tr>\n",
       "      <th>168</th>\n",
       "      <td>Égypte</td>\n",
       "      <td>3518.0</td>\n",
       "    </tr>\n",
       "    <tr>\n",
       "      <th>4</th>\n",
       "      <td>Allemagne</td>\n",
       "      <td>3503.0</td>\n",
       "    </tr>\n",
       "  </tbody>\n",
       "</table>\n",
       "</div>"
      ],
      "text/plain": [
       "                      pays  dispo_alim_cal_pers_jour\n",
       "11                Autriche                    3770.0\n",
       "16                Belgique                    3737.0\n",
       "159                Turquie                    3708.0\n",
       "171  États-Unis d'Amérique                    3682.0\n",
       "74                  Israël                    3610.0\n",
       "72                 Irlande                    3602.0\n",
       "75                  Italie                    3578.0\n",
       "89              Luxembourg                    3540.0\n",
       "168                 Égypte                    3518.0\n",
       "4                Allemagne                    3503.0"
      ]
     },
     "execution_count": 144,
     "metadata": {},
     "output_type": "execute_result"
    }
   ],
   "source": [
    "top_pop_dispo_alim2017_2.head(10)"
   ]
  },
  {
   "cell_type": "markdown",
   "id": "4c637803",
   "metadata": {},
   "source": [
    "Je recréé une table avec uniquement les infos qui m'intérresse : pays, et dispo alim cal par pers jour."
   ]
  },
  {
   "cell_type": "code",
   "execution_count": 149,
   "id": "4708895d",
   "metadata": {},
   "outputs": [],
   "source": [
    "bottom_pop_dispo_alim2017_2 = pop_dispo_alim2017[['pays', 'dispo_alim_cal_pers_jour']]"
   ]
  },
  {
   "cell_type": "markdown",
   "id": "a8d31e05",
   "metadata": {},
   "source": [
    "Je trie ma nouvelle table sur la colonne dispo alim, mais cette fois du plus petit au plus grand."
   ]
  },
  {
   "cell_type": "code",
   "execution_count": 150,
   "id": "6d01530a",
   "metadata": {},
   "outputs": [],
   "source": [
    "bottom_pop_dispo_alim2017_2 = bottom_pop_dispo_alim2017_2.sort_values(by = 'dispo_alim_cal_pers_jour')"
   ]
  },
  {
   "cell_type": "markdown",
   "id": "98924065",
   "metadata": {},
   "source": [
    "J'affiche les 10 pays ayant le moins de dispo alimentaire par habitant."
   ]
  },
  {
   "cell_type": "code",
   "execution_count": 204,
   "id": "6132a86e",
   "metadata": {},
   "outputs": [
    {
     "data": {
      "text/html": [
       "<div>\n",
       "<style scoped>\n",
       "    .dataframe tbody tr th:only-of-type {\n",
       "        vertical-align: middle;\n",
       "    }\n",
       "\n",
       "    .dataframe tbody tr th {\n",
       "        vertical-align: top;\n",
       "    }\n",
       "\n",
       "    .dataframe thead th {\n",
       "        text-align: right;\n",
       "    }\n",
       "</style>\n",
       "<table border=\"1\" class=\"dataframe\">\n",
       "  <thead>\n",
       "    <tr style=\"text-align: right;\">\n",
       "      <th></th>\n",
       "      <th>pays</th>\n",
       "      <th>dispo_alim_cal_pers_jour</th>\n",
       "    </tr>\n",
       "  </thead>\n",
       "  <tbody>\n",
       "    <tr>\n",
       "      <th>128</th>\n",
       "      <td>République centrafricaine</td>\n",
       "      <td>1879.0</td>\n",
       "    </tr>\n",
       "    <tr>\n",
       "      <th>166</th>\n",
       "      <td>Zambie</td>\n",
       "      <td>1924.0</td>\n",
       "    </tr>\n",
       "    <tr>\n",
       "      <th>91</th>\n",
       "      <td>Madagascar</td>\n",
       "      <td>2056.0</td>\n",
       "    </tr>\n",
       "    <tr>\n",
       "      <th>0</th>\n",
       "      <td>Afghanistan</td>\n",
       "      <td>2087.0</td>\n",
       "    </tr>\n",
       "    <tr>\n",
       "      <th>65</th>\n",
       "      <td>Haïti</td>\n",
       "      <td>2089.0</td>\n",
       "    </tr>\n",
       "    <tr>\n",
       "      <th>133</th>\n",
       "      <td>République populaire démocratique de Corée</td>\n",
       "      <td>2093.0</td>\n",
       "    </tr>\n",
       "    <tr>\n",
       "      <th>151</th>\n",
       "      <td>Tchad</td>\n",
       "      <td>2109.0</td>\n",
       "    </tr>\n",
       "    <tr>\n",
       "      <th>167</th>\n",
       "      <td>Zimbabwe</td>\n",
       "      <td>2113.0</td>\n",
       "    </tr>\n",
       "    <tr>\n",
       "      <th>114</th>\n",
       "      <td>Ouganda</td>\n",
       "      <td>2126.0</td>\n",
       "    </tr>\n",
       "    <tr>\n",
       "      <th>154</th>\n",
       "      <td>Timor-Leste</td>\n",
       "      <td>2129.0</td>\n",
       "    </tr>\n",
       "  </tbody>\n",
       "</table>\n",
       "</div>"
      ],
      "text/plain": [
       "                                           pays  dispo_alim_cal_pers_jour\n",
       "128                   République centrafricaine                    1879.0\n",
       "166                                      Zambie                    1924.0\n",
       "91                                   Madagascar                    2056.0\n",
       "0                                   Afghanistan                    2087.0\n",
       "65                                        Haïti                    2089.0\n",
       "133  République populaire démocratique de Corée                    2093.0\n",
       "151                                       Tchad                    2109.0\n",
       "167                                    Zimbabwe                    2113.0\n",
       "114                                     Ouganda                    2126.0\n",
       "154                                 Timor-Leste                    2129.0"
      ]
     },
     "execution_count": 204,
     "metadata": {},
     "output_type": "execute_result"
    }
   ],
   "source": [
    "bottom_pop_dispo_alim2017_2.head(10)"
   ]
  },
  {
   "cell_type": "markdown",
   "id": "3b302159",
   "metadata": {},
   "source": [
    "## P4 : Répondre aux demandes de Julien, ancien data analyst de l'équipe de recherche."
   ]
  },
  {
   "cell_type": "markdown",
   "id": "5b129323",
   "metadata": {},
   "source": [
    "Les demandes de Julien concernant l'étude :\n",
    "1. Lors de mes recherches, j’ai découvert des chiffres intéressants sur l’utilisation des céréales, notamment la répartition entre l’alimentation humaine (colonne Nourriture) et l’alimentation pour animaux. La liste des céréales peut être trouvée en allant fouiller un peu dans l’onglet Bilans alimentaires, sur le lien juste ci-dessus. Peux-tu approfondir ce point ?\n",
    "2. Enfin, je me souviens d’un exemple étonnant d’utilisation du manioc par la Thaïlande aux égards de la proportion de personnes en sous-nutrition. De mémoire ça concernait l’exportation par rapport à la production... Peux-tu jeter un coup d’œil et nous faire un retour ?"
   ]
  },
  {
   "cell_type": "markdown",
   "id": "7fb4636f",
   "metadata": {},
   "source": [
    "### 1. Utilisation des céréales"
   ]
  },
  {
   "cell_type": "markdown",
   "id": "1b87897a",
   "metadata": {},
   "source": [
    "Voici la liste des céréales :"
   ]
  },
  {
   "attachments": {
    "Capture%20d%E2%80%99e%CC%81cran%202022-09-26%20a%CC%80%2012.56.49.png": {
     "image/png": "[encoded data removed]"
    }
   },
   "cell_type": "markdown",
   "id": "4d68b0e3",
   "metadata": {},
   "source": [
    "![Capture%20d%E2%80%99e%CC%81cran%202022-09-26%20a%CC%80%2012.56.49.png](attachment:Capture%20d%E2%80%99e%CC%81cran%202022-09-26%20a%CC%80%2012.56.49.png)"
   ]
  },
  {
   "cell_type": "markdown",
   "id": "ad4c503a",
   "metadata": {},
   "source": [
    "Je créé une liste qui va regroupé tous les céréales."
   ]
  },
  {
   "cell_type": "code",
   "execution_count": 128,
   "id": "b78c93b1",
   "metadata": {},
   "outputs": [],
   "source": [
    "liste_cereales = ['Blé', 'Seigle', 'Orge', 'Avoine', 'Maïs', 'Riz (paddy)', 'Mélanges de céréales', 'Sarrasin', 'Sorgho', 'Mil', 'Quinoa', 'Autres céréales']"
   ]
  },
  {
   "cell_type": "markdown",
   "id": "f52c2aa6",
   "metadata": {},
   "source": [
    "J'analyse ma table dispo_alim."
   ]
  },
  {
   "cell_type": "code",
   "execution_count": 115,
   "id": "295dec0b",
   "metadata": {},
   "outputs": [
    {
     "data": {
      "text/html": [
       "<div>\n",
       "<style scoped>\n",
       "    .dataframe tbody tr th:only-of-type {\n",
       "        vertical-align: middle;\n",
       "    }\n",
       "\n",
       "    .dataframe tbody tr th {\n",
       "        vertical-align: top;\n",
       "    }\n",
       "\n",
       "    .dataframe thead th {\n",
       "        text-align: right;\n",
       "    }\n",
       "</style>\n",
       "<table border=\"1\" class=\"dataframe\">\n",
       "  <thead>\n",
       "    <tr style=\"text-align: right;\">\n",
       "      <th></th>\n",
       "      <th>pays</th>\n",
       "      <th>produit</th>\n",
       "      <th>origine</th>\n",
       "      <th>alim_animaux</th>\n",
       "      <th>autres_utilisations</th>\n",
       "      <th>dispo_alim_cal_pers_jour</th>\n",
       "      <th>dispo_alim_qte_kg_pers_an</th>\n",
       "      <th>dispo_mg_qte_kg_pers_jour</th>\n",
       "      <th>dispo_prot_qte_kg_pers_jour</th>\n",
       "      <th>dispo_pays</th>\n",
       "      <th>export_qte</th>\n",
       "      <th>import_qte</th>\n",
       "      <th>nourriture</th>\n",
       "      <th>pertes</th>\n",
       "      <th>production</th>\n",
       "      <th>semences</th>\n",
       "      <th>traitement</th>\n",
       "      <th>variation_stock</th>\n",
       "    </tr>\n",
       "  </thead>\n",
       "  <tbody>\n",
       "    <tr>\n",
       "      <th>0</th>\n",
       "      <td>Afghanistan</td>\n",
       "      <td>Abats Comestible</td>\n",
       "      <td>animale</td>\n",
       "      <td>0.0</td>\n",
       "      <td>0.0</td>\n",
       "      <td>5.0</td>\n",
       "      <td>1.72</td>\n",
       "      <td>0.00020</td>\n",
       "      <td>0.00077</td>\n",
       "      <td>53000000.0</td>\n",
       "      <td>0.0</td>\n",
       "      <td>0.0</td>\n",
       "      <td>53000000.0</td>\n",
       "      <td>0.0</td>\n",
       "      <td>53000000.0</td>\n",
       "      <td>0.0</td>\n",
       "      <td>0.0</td>\n",
       "      <td>0.0</td>\n",
       "    </tr>\n",
       "    <tr>\n",
       "      <th>1</th>\n",
       "      <td>Afghanistan</td>\n",
       "      <td>Agrumes, Autres</td>\n",
       "      <td>vegetale</td>\n",
       "      <td>0.0</td>\n",
       "      <td>0.0</td>\n",
       "      <td>1.0</td>\n",
       "      <td>1.29</td>\n",
       "      <td>0.00001</td>\n",
       "      <td>0.00002</td>\n",
       "      <td>41000000.0</td>\n",
       "      <td>2000000.0</td>\n",
       "      <td>40000000.0</td>\n",
       "      <td>39000000.0</td>\n",
       "      <td>2000000.0</td>\n",
       "      <td>3000000.0</td>\n",
       "      <td>0.0</td>\n",
       "      <td>0.0</td>\n",
       "      <td>0.0</td>\n",
       "    </tr>\n",
       "    <tr>\n",
       "      <th>2</th>\n",
       "      <td>Afghanistan</td>\n",
       "      <td>Aliments pour enfants</td>\n",
       "      <td>vegetale</td>\n",
       "      <td>0.0</td>\n",
       "      <td>0.0</td>\n",
       "      <td>1.0</td>\n",
       "      <td>0.06</td>\n",
       "      <td>0.00001</td>\n",
       "      <td>0.00003</td>\n",
       "      <td>2000000.0</td>\n",
       "      <td>0.0</td>\n",
       "      <td>2000000.0</td>\n",
       "      <td>2000000.0</td>\n",
       "      <td>0.0</td>\n",
       "      <td>0.0</td>\n",
       "      <td>0.0</td>\n",
       "      <td>0.0</td>\n",
       "      <td>0.0</td>\n",
       "    </tr>\n",
       "    <tr>\n",
       "      <th>3</th>\n",
       "      <td>Afghanistan</td>\n",
       "      <td>Ananas</td>\n",
       "      <td>vegetale</td>\n",
       "      <td>0.0</td>\n",
       "      <td>0.0</td>\n",
       "      <td>0.0</td>\n",
       "      <td>0.00</td>\n",
       "      <td>0.00000</td>\n",
       "      <td>0.00000</td>\n",
       "      <td>0.0</td>\n",
       "      <td>0.0</td>\n",
       "      <td>0.0</td>\n",
       "      <td>0.0</td>\n",
       "      <td>0.0</td>\n",
       "      <td>0.0</td>\n",
       "      <td>0.0</td>\n",
       "      <td>0.0</td>\n",
       "      <td>0.0</td>\n",
       "    </tr>\n",
       "    <tr>\n",
       "      <th>4</th>\n",
       "      <td>Afghanistan</td>\n",
       "      <td>Bananes</td>\n",
       "      <td>vegetale</td>\n",
       "      <td>0.0</td>\n",
       "      <td>0.0</td>\n",
       "      <td>4.0</td>\n",
       "      <td>2.70</td>\n",
       "      <td>0.00002</td>\n",
       "      <td>0.00005</td>\n",
       "      <td>82000000.0</td>\n",
       "      <td>0.0</td>\n",
       "      <td>82000000.0</td>\n",
       "      <td>82000000.0</td>\n",
       "      <td>0.0</td>\n",
       "      <td>0.0</td>\n",
       "      <td>0.0</td>\n",
       "      <td>0.0</td>\n",
       "      <td>0.0</td>\n",
       "    </tr>\n",
       "  </tbody>\n",
       "</table>\n",
       "</div>"
      ],
      "text/plain": [
       "          pays                produit   origine  alim_animaux  \\\n",
       "0  Afghanistan       Abats Comestible   animale           0.0   \n",
       "1  Afghanistan        Agrumes, Autres  vegetale           0.0   \n",
       "2  Afghanistan  Aliments pour enfants  vegetale           0.0   \n",
       "3  Afghanistan                 Ananas  vegetale           0.0   \n",
       "4  Afghanistan                Bananes  vegetale           0.0   \n",
       "\n",
       "   autres_utilisations  dispo_alim_cal_pers_jour  dispo_alim_qte_kg_pers_an  \\\n",
       "0                  0.0                       5.0                       1.72   \n",
       "1                  0.0                       1.0                       1.29   \n",
       "2                  0.0                       1.0                       0.06   \n",
       "3                  0.0                       0.0                       0.00   \n",
       "4                  0.0                       4.0                       2.70   \n",
       "\n",
       "   dispo_mg_qte_kg_pers_jour  dispo_prot_qte_kg_pers_jour  dispo_pays  \\\n",
       "0                    0.00020                      0.00077  53000000.0   \n",
       "1                    0.00001                      0.00002  41000000.0   \n",
       "2                    0.00001                      0.00003   2000000.0   \n",
       "3                    0.00000                      0.00000         0.0   \n",
       "4                    0.00002                      0.00005  82000000.0   \n",
       "\n",
       "   export_qte  import_qte  nourriture     pertes  production  semences  \\\n",
       "0         0.0         0.0  53000000.0        0.0  53000000.0       0.0   \n",
       "1   2000000.0  40000000.0  39000000.0  2000000.0   3000000.0       0.0   \n",
       "2         0.0   2000000.0   2000000.0        0.0         0.0       0.0   \n",
       "3         0.0         0.0         0.0        0.0         0.0       0.0   \n",
       "4         0.0  82000000.0  82000000.0        0.0         0.0       0.0   \n",
       "\n",
       "   traitement  variation_stock  \n",
       "0         0.0              0.0  \n",
       "1         0.0              0.0  \n",
       "2         0.0              0.0  \n",
       "3         0.0              0.0  \n",
       "4         0.0              0.0  "
      ]
     },
     "execution_count": 115,
     "metadata": {},
     "output_type": "execute_result"
    }
   ],
   "source": [
    "dispo_alim.head()"
   ]
  },
  {
   "cell_type": "markdown",
   "id": "092bec1f",
   "metadata": {},
   "source": [
    "Je crée une table avec les informations dont j'ai besoin et je vérifie le résultat."
   ]
  },
  {
   "cell_type": "code",
   "execution_count": 187,
   "id": "1bb62d3d",
   "metadata": {},
   "outputs": [
    {
     "data": {
      "text/html": [
       "<div>\n",
       "<style scoped>\n",
       "    .dataframe tbody tr th:only-of-type {\n",
       "        vertical-align: middle;\n",
       "    }\n",
       "\n",
       "    .dataframe tbody tr th {\n",
       "        vertical-align: top;\n",
       "    }\n",
       "\n",
       "    .dataframe thead th {\n",
       "        text-align: right;\n",
       "    }\n",
       "</style>\n",
       "<table border=\"1\" class=\"dataframe\">\n",
       "  <thead>\n",
       "    <tr style=\"text-align: right;\">\n",
       "      <th></th>\n",
       "      <th>pays</th>\n",
       "      <th>produit</th>\n",
       "      <th>origine</th>\n",
       "      <th>alim_animaux</th>\n",
       "      <th>dispo_pays</th>\n",
       "      <th>nourriture</th>\n",
       "    </tr>\n",
       "  </thead>\n",
       "  <tbody>\n",
       "    <tr>\n",
       "      <th>0</th>\n",
       "      <td>Afghanistan</td>\n",
       "      <td>Abats Comestible</td>\n",
       "      <td>animale</td>\n",
       "      <td>0.0</td>\n",
       "      <td>53000000.0</td>\n",
       "      <td>53000000.0</td>\n",
       "    </tr>\n",
       "    <tr>\n",
       "      <th>1</th>\n",
       "      <td>Afghanistan</td>\n",
       "      <td>Agrumes, Autres</td>\n",
       "      <td>vegetale</td>\n",
       "      <td>0.0</td>\n",
       "      <td>41000000.0</td>\n",
       "      <td>39000000.0</td>\n",
       "    </tr>\n",
       "    <tr>\n",
       "      <th>2</th>\n",
       "      <td>Afghanistan</td>\n",
       "      <td>Aliments pour enfants</td>\n",
       "      <td>vegetale</td>\n",
       "      <td>0.0</td>\n",
       "      <td>2000000.0</td>\n",
       "      <td>2000000.0</td>\n",
       "    </tr>\n",
       "    <tr>\n",
       "      <th>3</th>\n",
       "      <td>Afghanistan</td>\n",
       "      <td>Ananas</td>\n",
       "      <td>vegetale</td>\n",
       "      <td>0.0</td>\n",
       "      <td>0.0</td>\n",
       "      <td>0.0</td>\n",
       "    </tr>\n",
       "    <tr>\n",
       "      <th>4</th>\n",
       "      <td>Afghanistan</td>\n",
       "      <td>Bananes</td>\n",
       "      <td>vegetale</td>\n",
       "      <td>0.0</td>\n",
       "      <td>82000000.0</td>\n",
       "      <td>82000000.0</td>\n",
       "    </tr>\n",
       "  </tbody>\n",
       "</table>\n",
       "</div>"
      ],
      "text/plain": [
       "          pays                produit   origine  alim_animaux  dispo_pays  \\\n",
       "0  Afghanistan       Abats Comestible   animale           0.0  53000000.0   \n",
       "1  Afghanistan        Agrumes, Autres  vegetale           0.0  41000000.0   \n",
       "2  Afghanistan  Aliments pour enfants  vegetale           0.0   2000000.0   \n",
       "3  Afghanistan                 Ananas  vegetale           0.0         0.0   \n",
       "4  Afghanistan                Bananes  vegetale           0.0  82000000.0   \n",
       "\n",
       "   nourriture  \n",
       "0  53000000.0  \n",
       "1  39000000.0  \n",
       "2   2000000.0  \n",
       "3         0.0  \n",
       "4  82000000.0  "
      ]
     },
     "execution_count": 187,
     "metadata": {},
     "output_type": "execute_result"
    }
   ],
   "source": [
    "analyse_cereales = dispo_alim[['pays', 'produit','origine','alim_animaux','dispo_pays','nourriture']]\n",
    "analyse_cereales.head()"
   ]
  },
  {
   "cell_type": "markdown",
   "id": "75c1db3a",
   "metadata": {},
   "source": [
    "Je modifie ma table en filtrant sur ma liste créé précedemment.\n",
    "J'utilise .loc pour sélectionner ma colonne et .isin pour sélectionner les lignes avec comme critère : liste_céréales. Je vérifie le résultat."
   ]
  },
  {
   "cell_type": "code",
   "execution_count": 189,
   "id": "eb4841ab",
   "metadata": {},
   "outputs": [
    {
     "data": {
      "text/html": [
       "<div>\n",
       "<style scoped>\n",
       "    .dataframe tbody tr th:only-of-type {\n",
       "        vertical-align: middle;\n",
       "    }\n",
       "\n",
       "    .dataframe tbody tr th {\n",
       "        vertical-align: top;\n",
       "    }\n",
       "\n",
       "    .dataframe thead th {\n",
       "        text-align: right;\n",
       "    }\n",
       "</style>\n",
       "<table border=\"1\" class=\"dataframe\">\n",
       "  <thead>\n",
       "    <tr style=\"text-align: right;\">\n",
       "      <th></th>\n",
       "      <th>pays</th>\n",
       "      <th>produit</th>\n",
       "      <th>origine</th>\n",
       "      <th>alim_animaux</th>\n",
       "      <th>dispo_pays</th>\n",
       "      <th>nourriture</th>\n",
       "    </tr>\n",
       "  </thead>\n",
       "  <tbody>\n",
       "    <tr>\n",
       "      <th>7</th>\n",
       "      <td>Afghanistan</td>\n",
       "      <td>Blé</td>\n",
       "      <td>vegetale</td>\n",
       "      <td>0.0</td>\n",
       "      <td>5.992000e+09</td>\n",
       "      <td>4.895000e+09</td>\n",
       "    </tr>\n",
       "    <tr>\n",
       "      <th>32</th>\n",
       "      <td>Afghanistan</td>\n",
       "      <td>Maïs</td>\n",
       "      <td>vegetale</td>\n",
       "      <td>200000000.0</td>\n",
       "      <td>3.130000e+08</td>\n",
       "      <td>7.600000e+07</td>\n",
       "    </tr>\n",
       "    <tr>\n",
       "      <th>40</th>\n",
       "      <td>Afghanistan</td>\n",
       "      <td>Orge</td>\n",
       "      <td>vegetale</td>\n",
       "      <td>360000000.0</td>\n",
       "      <td>5.240000e+08</td>\n",
       "      <td>8.900000e+07</td>\n",
       "    </tr>\n",
       "    <tr>\n",
       "      <th>67</th>\n",
       "      <td>Afrique du Sud</td>\n",
       "      <td>Avoine</td>\n",
       "      <td>vegetale</td>\n",
       "      <td>8000000.0</td>\n",
       "      <td>4.900000e+07</td>\n",
       "      <td>4.000000e+07</td>\n",
       "    </tr>\n",
       "    <tr>\n",
       "      <th>72</th>\n",
       "      <td>Afrique du Sud</td>\n",
       "      <td>Blé</td>\n",
       "      <td>vegetale</td>\n",
       "      <td>37000000.0</td>\n",
       "      <td>3.316000e+09</td>\n",
       "      <td>3.174000e+09</td>\n",
       "    </tr>\n",
       "  </tbody>\n",
       "</table>\n",
       "</div>"
      ],
      "text/plain": [
       "              pays produit   origine  alim_animaux    dispo_pays    nourriture\n",
       "7      Afghanistan     Blé  vegetale           0.0  5.992000e+09  4.895000e+09\n",
       "32     Afghanistan    Maïs  vegetale   200000000.0  3.130000e+08  7.600000e+07\n",
       "40     Afghanistan    Orge  vegetale   360000000.0  5.240000e+08  8.900000e+07\n",
       "67  Afrique du Sud  Avoine  vegetale     8000000.0  4.900000e+07  4.000000e+07\n",
       "72  Afrique du Sud     Blé  vegetale    37000000.0  3.316000e+09  3.174000e+09"
      ]
     },
     "execution_count": 189,
     "metadata": {},
     "output_type": "execute_result"
    }
   ],
   "source": [
    "analyse_cereales = analyse_cereales.loc[analyse_cereales['produit'].isin(liste_cereales), :]\n",
    "analyse_cereales.head()"
   ]
  },
  {
   "cell_type": "markdown",
   "id": "ac19692a",
   "metadata": {},
   "source": [
    "Je fais mon calcul de proportion pour l'alimentation animale, et je vérifie le résulat."
   ]
  },
  {
   "cell_type": "code",
   "execution_count": 190,
   "id": "c511f544",
   "metadata": {},
   "outputs": [],
   "source": [
    "prop_nourriture_animale_cereale = round(100*(analyse_cereales['alim_animaux'].sum()/analyse_cereales['dispo_pays'].sum()),2)\n",
    "print(prop_nourriture_animale_cereale)                                       "
   ]
  },
  {
   "cell_type": "markdown",
   "id": "604e1233",
   "metadata": {},
   "source": [
    "J'affiche le résultat."
   ]
  },
  {
   "cell_type": "code",
   "execution_count": 160,
   "id": "e2f48d33",
   "metadata": {},
   "outputs": [
    {
     "name": "stdout",
     "output_type": "stream",
     "text": [
      "La proportion d'alimentation cereale animale sur la disponibilité intérieure est de 43.63 %.\n"
     ]
    }
   ],
   "source": [
    "print(\"La proportion d'alimentation cereale animale sur la disponibilité intérieure est de\",  prop_nourriture_animale_cereale, '%.')"
   ]
  },
  {
   "cell_type": "markdown",
   "id": "ff857473",
   "metadata": {},
   "source": [
    "Je fais mon calcul de proportion pour l'alimentation humaine, et je vérifie le résultat."
   ]
  },
  {
   "cell_type": "code",
   "execution_count": 192,
   "id": "b02bce55",
   "metadata": {},
   "outputs": [],
   "source": [
    "\n",
    "prop_nourriture_humaine_cereale = round(100*(analyse_cereales['nourriture'].sum()/analyse_cereales['dispo_pays'].sum()),2)\n",
    "print(prop_nourriture_humaine_cereale)"
   ]
  },
  {
   "cell_type": "markdown",
   "id": "1ee73117",
   "metadata": {},
   "source": [
    "J'affiche le résultat."
   ]
  },
  {
   "cell_type": "code",
   "execution_count": 161,
   "id": "0ed8ce3c",
   "metadata": {},
   "outputs": [
    {
     "name": "stdout",
     "output_type": "stream",
     "text": [
      "La proportion d'alimentation cereale humaine sur la disponibilité intérieure est de 33.26 %.\n"
     ]
    }
   ],
   "source": [
    "print(\"La proportion d'alimentation cereale humaine sur la disponibilité intérieure est de\",  prop_nourriture_humaine_cereale, '%.')"
   ]
  },
  {
   "cell_type": "markdown",
   "id": "425955ef",
   "metadata": {},
   "source": [
    "### 2. Utilisation du Manioc en Thaïlande"
   ]
  },
  {
   "cell_type": "markdown",
   "id": "7ae378f2",
   "metadata": {},
   "source": [
    "Je créé une table pour analyser les données de l'utilisation du Manioc en Thaïlande, et je vérifie le résultat."
   ]
  },
  {
   "cell_type": "code",
   "execution_count": 208,
   "id": "f332b590",
   "metadata": {},
   "outputs": [
    {
     "data": {
      "text/html": [
       "<div>\n",
       "<style scoped>\n",
       "    .dataframe tbody tr th:only-of-type {\n",
       "        vertical-align: middle;\n",
       "    }\n",
       "\n",
       "    .dataframe tbody tr th {\n",
       "        vertical-align: top;\n",
       "    }\n",
       "\n",
       "    .dataframe thead th {\n",
       "        text-align: right;\n",
       "    }\n",
       "</style>\n",
       "<table border=\"1\" class=\"dataframe\">\n",
       "  <thead>\n",
       "    <tr style=\"text-align: right;\">\n",
       "      <th></th>\n",
       "      <th>pays</th>\n",
       "      <th>produit</th>\n",
       "      <th>origine</th>\n",
       "      <th>alim_animaux</th>\n",
       "      <th>autres_utilisations</th>\n",
       "      <th>dispo_alim_cal_pers_jour</th>\n",
       "      <th>dispo_alim_qte_kg_pers_an</th>\n",
       "      <th>dispo_mg_qte_kg_pers_jour</th>\n",
       "      <th>dispo_prot_qte_kg_pers_jour</th>\n",
       "      <th>dispo_pays</th>\n",
       "      <th>export_qte</th>\n",
       "      <th>import_qte</th>\n",
       "      <th>nourriture</th>\n",
       "      <th>pertes</th>\n",
       "      <th>production</th>\n",
       "      <th>semences</th>\n",
       "      <th>traitement</th>\n",
       "      <th>variation_stock</th>\n",
       "    </tr>\n",
       "  </thead>\n",
       "  <tbody>\n",
       "    <tr>\n",
       "      <th>13809</th>\n",
       "      <td>Thaïlande</td>\n",
       "      <td>Manioc</td>\n",
       "      <td>vegetale</td>\n",
       "      <td>1.800000e+09</td>\n",
       "      <td>2081.0</td>\n",
       "      <td>40.0</td>\n",
       "      <td>13.0</td>\n",
       "      <td>0.00005</td>\n",
       "      <td>0.00014</td>\n",
       "      <td>6.264000e+09</td>\n",
       "      <td>2.521400e+10</td>\n",
       "      <td>1.250000e+09</td>\n",
       "      <td>871000000.0</td>\n",
       "      <td>1.511000e+09</td>\n",
       "      <td>3.022800e+10</td>\n",
       "      <td>0.0</td>\n",
       "      <td>0.0</td>\n",
       "      <td>0.0</td>\n",
       "    </tr>\n",
       "  </tbody>\n",
       "</table>\n",
       "</div>"
      ],
      "text/plain": [
       "            pays produit   origine  alim_animaux  autres_utilisations  \\\n",
       "13809  Thaïlande  Manioc  vegetale  1.800000e+09               2081.0   \n",
       "\n",
       "       dispo_alim_cal_pers_jour  dispo_alim_qte_kg_pers_an  \\\n",
       "13809                      40.0                       13.0   \n",
       "\n",
       "       dispo_mg_qte_kg_pers_jour  dispo_prot_qte_kg_pers_jour    dispo_pays  \\\n",
       "13809                    0.00005                      0.00014  6.264000e+09   \n",
       "\n",
       "         export_qte    import_qte   nourriture        pertes    production  \\\n",
       "13809  2.521400e+10  1.250000e+09  871000000.0  1.511000e+09  3.022800e+10   \n",
       "\n",
       "       semences  traitement  variation_stock  \n",
       "13809       0.0         0.0              0.0  "
      ]
     },
     "execution_count": 208,
     "metadata": {},
     "output_type": "execute_result"
    }
   ],
   "source": [
    "utilisation_thailande_manioc1 = dispo_alim[(dispo_alim['pays']== 'Thaïlande') & (dispo_alim['produit']== 'Manioc')]\n",
    "utilisation_thailande_manioc1.head()"
   ]
  },
  {
   "cell_type": "markdown",
   "id": "635e1327",
   "metadata": {},
   "source": [
    "Pour faciliter la lecture je sélectionne les colonnes qui m'intéresse et j'affiche le résultat."
   ]
  },
  {
   "cell_type": "code",
   "execution_count": 213,
   "id": "4d999eac",
   "metadata": {},
   "outputs": [
    {
     "data": {
      "text/html": [
       "<div>\n",
       "<style scoped>\n",
       "    .dataframe tbody tr th:only-of-type {\n",
       "        vertical-align: middle;\n",
       "    }\n",
       "\n",
       "    .dataframe tbody tr th {\n",
       "        vertical-align: top;\n",
       "    }\n",
       "\n",
       "    .dataframe thead th {\n",
       "        text-align: right;\n",
       "    }\n",
       "</style>\n",
       "<table border=\"1\" class=\"dataframe\">\n",
       "  <thead>\n",
       "    <tr style=\"text-align: right;\">\n",
       "      <th></th>\n",
       "      <th>pays</th>\n",
       "      <th>produit</th>\n",
       "      <th>origine</th>\n",
       "      <th>dispo_pays</th>\n",
       "      <th>export_qte</th>\n",
       "      <th>import_qte</th>\n",
       "      <th>nourriture</th>\n",
       "      <th>alim_animaux</th>\n",
       "      <th>production</th>\n",
       "    </tr>\n",
       "  </thead>\n",
       "  <tbody>\n",
       "    <tr>\n",
       "      <th>13809</th>\n",
       "      <td>Thaïlande</td>\n",
       "      <td>Manioc</td>\n",
       "      <td>vegetale</td>\n",
       "      <td>6.264000e+09</td>\n",
       "      <td>2.521400e+10</td>\n",
       "      <td>1.250000e+09</td>\n",
       "      <td>871000000.0</td>\n",
       "      <td>1.800000e+09</td>\n",
       "      <td>3.022800e+10</td>\n",
       "    </tr>\n",
       "  </tbody>\n",
       "</table>\n",
       "</div>"
      ],
      "text/plain": [
       "            pays produit   origine    dispo_pays    export_qte    import_qte  \\\n",
       "13809  Thaïlande  Manioc  vegetale  6.264000e+09  2.521400e+10  1.250000e+09   \n",
       "\n",
       "        nourriture  alim_animaux    production  \n",
       "13809  871000000.0  1.800000e+09  3.022800e+10  "
      ]
     },
     "execution_count": 213,
     "metadata": {},
     "output_type": "execute_result"
    }
   ],
   "source": [
    "utilisation_thailande_manioc2 = utilisation_thailande_manioc1[['pays', 'produit','origine','dispo_pays','export_qte','import_qte','nourriture','alim_animaux','production']]\n",
    "utilisation_thailande_manioc2.head()"
   ]
  },
  {
   "cell_type": "markdown",
   "id": "7a65b771",
   "metadata": {},
   "source": [
    "Je calcule la proportion d'exportation du manioc par rapport à la production et j'affiche le résultat."
   ]
  },
  {
   "cell_type": "code",
   "execution_count": 211,
   "id": "50d064f1",
   "metadata": {},
   "outputs": [
    {
     "data": {
      "text/plain": [
       "13809    83.41\n",
       "dtype: float64"
      ]
     },
     "execution_count": 211,
     "metadata": {},
     "output_type": "execute_result"
    }
   ],
   "source": [
    "proportion_manioc_thailande_export = round(100*(utilisation_thailande_manioc2['export_qte']/utilisation_thailande_manioc['production']),2)\n",
    "proportion_manioc_thailande_export.head()"
   ]
  },
  {
   "cell_type": "markdown",
   "id": "cfdc7743",
   "metadata": {},
   "source": [
    "Je calcule la proportion de nourriture par rapport à la production du manioc et j'affiche le résultat."
   ]
  },
  {
   "cell_type": "code",
   "execution_count": 212,
   "id": "78024d00",
   "metadata": {},
   "outputs": [
    {
     "data": {
      "text/plain": [
       "13809    2.88\n",
       "dtype: float64"
      ]
     },
     "execution_count": 212,
     "metadata": {},
     "output_type": "execute_result"
    }
   ],
   "source": [
    "proportion_manioc_thailande_nourriture = round(100*(utilisation_thailande_manioc2['nourriture']/utilisation_thailande_manioc['production']),2)\n",
    "proportion_manioc_thailande_nourriture.head()"
   ]
  },
  {
   "cell_type": "markdown",
   "id": "55897a73",
   "metadata": {},
   "source": [
    "Je calcule la proportion de alimentation animale par rapport à la production du manioc, et j'affiche le résultat."
   ]
  },
  {
   "cell_type": "code",
   "execution_count": 214,
   "id": "b23a27ea",
   "metadata": {},
   "outputs": [
    {
     "data": {
      "text/plain": [
       "13809    5.95\n",
       "dtype: float64"
      ]
     },
     "execution_count": 214,
     "metadata": {},
     "output_type": "execute_result"
    }
   ],
   "source": [
    "proportion_manioc_thailande_alim_animaux = round(100*(utilisation_thailande_manioc2['alim_animaux']/utilisation_thailande_manioc['production']),2)\n",
    "proportion_manioc_thailande_alim_animaux.head()"
   ]
  },
  {
   "cell_type": "markdown",
   "id": "a76906fc",
   "metadata": {},
   "source": [
    "Je reprends ma table df_popandnut2017 qui est déjà groupé par pays sur l'année 2017 pour filtrer sur la Thaïlande."
   ]
  },
  {
   "cell_type": "code",
   "execution_count": 125,
   "id": "cc91ac27",
   "metadata": {},
   "outputs": [],
   "source": [
    "pop_nut_thailande = df_popandnut2017[(df_popandnut2017['pays']== 'Thaïlande')]"
   ]
  },
  {
   "cell_type": "markdown",
   "id": "47c8ad7d",
   "metadata": {},
   "source": [
    "J'affiche la proportion de personne en sous nutrition en Thaïlande."
   ]
  },
  {
   "cell_type": "code",
   "execution_count": 126,
   "id": "c9995787",
   "metadata": {},
   "outputs": [
    {
     "data": {
      "text/html": [
       "<div>\n",
       "<style scoped>\n",
       "    .dataframe tbody tr th:only-of-type {\n",
       "        vertical-align: middle;\n",
       "    }\n",
       "\n",
       "    .dataframe tbody tr th {\n",
       "        vertical-align: top;\n",
       "    }\n",
       "\n",
       "    .dataframe thead th {\n",
       "        text-align: right;\n",
       "    }\n",
       "</style>\n",
       "<table border=\"1\" class=\"dataframe\">\n",
       "  <thead>\n",
       "    <tr style=\"text-align: right;\">\n",
       "      <th></th>\n",
       "      <th>pays</th>\n",
       "      <th>annee_pop</th>\n",
       "      <th>val_pop</th>\n",
       "      <th>val_nut</th>\n",
       "      <th>annee_nut</th>\n",
       "      <th>prop_pers_ss_nut</th>\n",
       "    </tr>\n",
       "  </thead>\n",
       "  <tbody>\n",
       "    <tr>\n",
       "      <th>218</th>\n",
       "      <td>Thaïlande</td>\n",
       "      <td>2017</td>\n",
       "      <td>69209810.0</td>\n",
       "      <td>6200000.0</td>\n",
       "      <td>2017.0</td>\n",
       "      <td>8.96</td>\n",
       "    </tr>\n",
       "  </tbody>\n",
       "</table>\n",
       "</div>"
      ],
      "text/plain": [
       "          pays  annee_pop     val_pop    val_nut  annee_nut  prop_pers_ss_nut\n",
       "218  Thaïlande       2017  69209810.0  6200000.0     2017.0              8.96"
      ]
     },
     "execution_count": 126,
     "metadata": {},
     "output_type": "execute_result"
    }
   ],
   "source": [
    "pop_nut_thailande.head()"
   ]
  },
  {
   "cell_type": "markdown",
   "id": "06ae9abd",
   "metadata": {},
   "source": [
    "Conclusion :\n",
    "\n",
    "Ce que nous pouvons constater c'est que la Thaïlande produit 3 022 800 000 de tonnes de Manioc, elle exporte 83,41% de sa production. \n",
    "La Thaïlande consomme 2,88% de sa production pour l'alimentation humaine et 5,95% pour l'alimentation animale.\n",
    "\n",
    "Les plus du Manioc :\n",
    "- remplace le blé dans la nourriture animale \n",
    "- a un fort potenciel en alimentation humaine (racine et feuille), bon apport nutritionnel\n",
    "- sert a produire de l'amidon dans les industries\n",
    "\n",
    "La Thaïlande pourrait utiliser le Manioc d'une meilleur façon pour l'alimentation humaine, ce qui pourrrait permettre de baisser la proportion de personnes en sous nutrition dans le pays."
   ]
  },
  {
   "cell_type": "code",
   "execution_count": null,
   "id": "86ffcd41",
   "metadata": {},
   "outputs": [],
   "source": []
  }
 ],
 "metadata": {
  "kernelspec": {
   "display_name": "Python 3 (ipykernel)",
   "language": "python",
   "name": "python3"
  },
  "language_info": {
   "codemirror_mode": {
    "name": "ipython",
    "version": 3
   },
   "file_extension": ".py",
   "mimetype": "text/x-python",
   "name": "python",
   "nbconvert_exporter": "python",
   "pygments_lexer": "ipython3",
   "version": "3.9.12"
  }
 },
 "nbformat": 4,
 "nbformat_minor": 5
}
